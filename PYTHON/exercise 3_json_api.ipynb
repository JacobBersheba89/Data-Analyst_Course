{
 "cells": [
  {
   "cell_type": "markdown",
   "metadata": {},
   "source": [
    "# Exercise 3\n",
    "\n",
    "Get familiar with the API documentation [boredapi](https://bored-api.appbrewery.com/). This is an API that suggests a random activity you can engage in to kill boredom. Find in it how to filter the returned activities based on the number of participants.\n",
    "\n",
    "Using the `input(...)` function, ask the user how many friends they want to meet.\n",
    "\n",
    "With the `requests` library query the API (remember about the `participants` filter), and display the suggested activity.\n",
    "\n",
    "Remember that when giving the number of people in the query, in addition to the number of friends, you need to also include the user of the script! "
   ]
  },
  {
   "cell_type": "code",
   "execution_count": 11,
   "metadata": {},
   "outputs": [
    {
     "name": "stdin",
     "output_type": "stream",
     "text": [
      "How many friends do you want to meet?  2\n"
     ]
    },
    {
     "name": "stdout",
     "output_type": "stream",
     "text": [
      "Failed to retrieve an activity. Status code: 503\n"
     ]
    }
   ],
   "source": [
    "import requests\n",
    "\n",
    "# Ask the user how many friends they want to meet\n",
    "friends_count = int(input(\"How many friends do you want to meet? \"))\n",
    "\n",
    "# Include the user themselves in the total number of participants\n",
    "total_participants = friends_count + 1\n",
    "\n",
    "# Construct the URL with the participants filter\n",
    "url = f\"http://www.boredapi.com/api/activity?participants={total_participants}\"\n",
    "\n",
    "# Make the API request\n",
    "response = requests.get(url)\n",
    "\n",
    "# Check if the response is successful\n",
    "if response.status_code == 200:\n",
    "    # Convert the JSON response to a dictionary\n",
    "    activity_data = response.json()\n",
    "    \n",
    "    # Display the suggested activity\n",
    "    print(f\"Suggested activity for {total_participants} participants: {activity_data['activity']}\")\n",
    "else:\n",
    "    print(f\"Failed to retrieve an activity. Status code: {response.status_code}\")\n"
   ]
  },
  {
   "cell_type": "code",
   "execution_count": 13,
   "metadata": {},
   "outputs": [
    {
     "name": "stdin",
     "output_type": "stream",
     "text": [
      "How many friends do you want to meet?  2\n"
     ]
    },
    {
     "name": "stdout",
     "output_type": "stream",
     "text": [
      "The server is temporarily unavailable. Retrying...\n",
      "The server is temporarily unavailable. Retrying...\n",
      "The server is temporarily unavailable. Retrying...\n",
      "Could not retrieve an activity after multiple attempts.\n"
     ]
    }
   ],
   "source": [
    "import requests\n",
    "import time\n",
    "\n",
    "def get_activity(participants):\n",
    "    url = f\"http://www.boredapi.com/api/activity?participants={participants}\"\n",
    "    \n",
    "    for attempt in range(3):  # Try up to 3 times\n",
    "        response = requests.get(url)\n",
    "\n",
    "        if response.status_code == 200:\n",
    "            return response.json()['activity']\n",
    "        elif response.status_code == 503:\n",
    "            print(\"The server is temporarily unavailable. Retrying...\")\n",
    "            time.sleep(5)  # Wait for 5 seconds before retrying\n",
    "        else:\n",
    "            print(f\"Failed to retrieve an activity. Status code: {response.status_code}\")\n",
    "            return None\n",
    "    \n",
    "    print(\"Could not retrieve an activity after multiple attempts.\")\n",
    "    return None\n",
    "\n",
    "# Ask the user how many friends they want to meet\n",
    "friends_count = int(input(\"How many friends do you want to meet? \"))\n",
    "total_participants = friends_count + 1\n",
    "\n",
    "# Get the activity\n",
    "activity = get_activity(total_participants)\n",
    "\n",
    "# If an activity was successfully retrieved, print it\n",
    "if activity:\n",
    "    print(f\"Suggested activity for {total_participants} participants: {activity}\")"
   ]
  },
  {
   "cell_type": "code",
   "execution_count": 17,
   "metadata": {},
   "outputs": [
    {
     "name": "stdin",
     "output_type": "stream",
     "text": [
      "How many friends do you want to meet:  6\n"
     ]
    },
    {
     "name": "stdout",
     "output_type": "stream",
     "text": [
      "Failed to retrieve activity.\n"
     ]
    }
   ],
   "source": [
    "import requests\n",
    "\n",
    "friends_count = int(input(\"How many friends do you want to meet: \"))\n",
    "total_participants = friends_count + 1\n",
    "\n",
    "url = f\"http://www.boredapi.com/api/activity?participants={total_participants}\"\n",
    "response = requests.get(url)\n",
    "\n",
    "if response.status_code == 200: \n",
    "    data = response.json()\n",
    "\n",
    "    activity = data.get('activity', 'No activity found.')\n",
    "    print(f\"Suggested activity for {total_participants} participant: {activity}\")\n",
    "else: \n",
    "    print(\"Failed to retrieve activity.\")"
   ]
  },
  {
   "cell_type": "code",
   "execution_count": null,
   "metadata": {},
   "outputs": [],
   "source": []
  }
 ],
 "metadata": {
  "kernelspec": {
   "display_name": "Python 3 (ipykernel)",
   "language": "python",
   "name": "python3"
  },
  "language_info": {
   "codemirror_mode": {
    "name": "ipython",
    "version": 3
   },
   "file_extension": ".py",
   "mimetype": "text/x-python",
   "name": "python",
   "nbconvert_exporter": "python",
   "pygments_lexer": "ipython3",
   "version": "3.12.4"
  }
 },
 "nbformat": 4,
 "nbformat_minor": 4
}
