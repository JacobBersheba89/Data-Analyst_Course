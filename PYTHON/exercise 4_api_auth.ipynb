{
 "cells": [
  {
   "cell_type": "markdown",
   "metadata": {},
   "source": [
    "# Exercise 4\n",
    "\n",
    "## Part 1\n",
    "\n",
    "With the `input` function ask the user what currency they want the PLN to be converted to.\n",
    "\n",
    "Then ask the user for the amount they would like to convert.\n",
    "\n",
    "Assume that user input is correct. e.g. `USD`.\n",
    "\n",
    "With the `requests` library, query the current exchange rate of the input currency to `PLN`. Use the resulting rate in your calculations to convert the specified amount into the currency of your choice, and display the result in the form:\n",
    "\n",
    "```\n",
    "<INPUT AMOUNT> PLN = <CALCULATED AMOUNT> <INPUT CURRENCY>\n",
    "```\n",
    "\n",
    "E.g. if the user enters `USD` and `1000`:\n",
    "\n",
    "```\n",
    "1000 PLN = 269.44 USD\n",
    "```\n",
    "\n",
    "Use the `round` function to give the result to two decimal places.\n",
    "\n",
    "## Part 2\n",
    "\n",
    "Test your code by specifying a currency that does not exist.\n",
    "\n",
    "Do not modify the code that asks the user and sends the request to the server. **Using nothing but the server response** decide whether you need to display the converted amount (as in part 1 of the exercise), or to inform the user that the currency they entered does not exist. **Hint:** responses to incorrect queries have a special `status_code`.\n",
    "\n",
    "E.g. if the user enters `LOL` and `1000`:\n",
    "\n",
    "```\n",
    "There is no such currency!\n",
    "```\n"
   ]
  },
  {
   "cell_type": "code",
   "execution_count": 33,
   "metadata": {},
   "outputs": [
    {
     "name": "stdin",
     "output_type": "stream",
     "text": [
      "Enter the currency code you want PLN to be converted to (e.g., USD):  EUR\n",
      "Enter the amount in PLN you would like to convert:  100\n"
     ]
    },
    {
     "name": "stdout",
     "output_type": "stream",
     "text": [
      "100.0 PLN = 23.4 EUR\n"
     ]
    }
   ],
   "source": [
    "import requests\n",
    "\n",
    "url = \"https://api.exchangerate-api.com/v4/latest/PLN\"\n",
    "api_key = \"5e68f2acb2681e3b6bd51234d2e6a329\"\n",
    "\n",
    "currency = input(\"Enter the currency code you want PLN to be converted to: \").upper()\n",
    "amount_pln = float(input(\"Enter the amount in PLN you would like to convert: \"))\n",
    "\n",
    "response = requests.get(url)\n",
    "\n",
    "if response.status_code == 200:\n",
    "    exchange_data = response.json()\n",
    "\n",
    "    if currency in exchange_data[\"rates\"]:\n",
    "        rate = exchange_data[\"rates\"][currency]\n",
    "\n",
    "        converted_amount = round(amount_pln * rate, 2)\n",
    "\n",
    "        print(f\"{amount_pln} PLN = {converted_amount} {currency}\")\n",
    "    else:\n",
    "        print(\"There is no such currency!\")\n",
    "else:\n",
    "    print(f\"Failed to retrieve exchange rates. Status code: {response.status_code}\""
   ]
  },
  {
   "cell_type": "code",
   "execution_count": 39,
   "metadata": {},
   "outputs": [
    {
     "name": "stdin",
     "output_type": "stream",
     "text": [
      "Enter the currency code you want PLN to be converted to (e.g., USD):  LOL\n",
      "Enter the amount in PLN you would like to convert:  100\n"
     ]
    },
    {
     "name": "stdout",
     "output_type": "stream",
     "text": [
      "There is no such currency!\n"
     ]
    }
   ],
   "source": [
    "import requests\n",
    "\n",
    "url = \"https://api.exchangerate-api.com/v4/latest/PLN\"\n",
    "api_key = \"5e68f2acb2681e3b6bd51234d2e6a329\"\n",
    "\n",
    "currency = input(\"Enter the currency code you want PLN to be converted to: \").upper()\n",
    "amount_pln = float(input(\"Enter the amount in PLN you would like to convert: \"))\n",
    "\n",
    "response = requests.get(url, headers={\"Authorization\": f\"Bearer {api_key}\"})\n",
    "\n",
    "if response.status_code == 200:\n",
    "    exchange_data = response.json()\n",
    "    \n",
    "    if currency in exchange_data[\"rates\"]:\n",
    "        rate = exchange_data[\"rates\"][currency]\n",
    "\n",
    "        converted_amount = round(amount_pln * rate, 2)\n",
    "\n",
    "        print(f\"{amount_pln} PLN = {converted_amount} {currency}\")\n",
    "    else:\n",
    "        print(\"There is no such currency!\")\n",
    "else:\n",
    "    print(f\"Failed to retrieve exchange rates. Status code: {response.status_code}\")"
   ]
  },
  {
   "cell_type": "code",
   "execution_count": 51,
   "metadata": {},
   "outputs": [
    {
     "name": "stdin",
     "output_type": "stream",
     "text": [
      "Please enter the currency you would like to convert EUR\n",
      "Please enter the amount you would like to convert 100\n"
     ]
    },
    {
     "name": "stdout",
     "output_type": "stream",
     "text": [
      "100.0 = 23.4 EUR\n"
     ]
    }
   ],
   "source": [
    "import requests\n",
    "\n",
    "url = \"https://api.exchangerate-api.com/v4/latest/PLN\"\n",
    "api_key = \"5e68f2acb2681e3b6bd51234d2e6a329\"\n",
    "\n",
    "currency = input(\"Please enter the currency you would like to convert\")\n",
    "amount = float(input(\"Please enter the amount you would like to convert\"))\n",
    "\n",
    "#get request\n",
    "response = requests.get(url)\n",
    "\n",
    "if response.status_code == 200:\n",
    "    data = response.json()\n",
    "\n",
    "    #check if the currency exists in the response rates\n",
    "    if currency in data[\"rates\"]:\n",
    "        exchange_rate = data[\"rates\"][currency]\n",
    "\n",
    "        #calculate of the converted amount\n",
    "        converted_amount = round(amount * exchange_rate, 2)\n",
    "\n",
    "        # display the conversion result\n",
    "        print(f\"{amount} = {converted_amount} {currency}\")\n",
    "    else:\n",
    "        print(\"There is no such currency\")\n",
    "else: \n",
    "    print(\"There is no such currency/Error\")"
   ]
  },
  {
   "cell_type": "code",
   "execution_count": null,
   "metadata": {},
   "outputs": [],
   "source": []
  }
 ],
 "metadata": {
  "kernelspec": {
   "display_name": "Python 3 (ipykernel)",
   "language": "python",
   "name": "python3"
  },
  "language_info": {
   "codemirror_mode": {
    "name": "ipython",
    "version": 3
   },
   "file_extension": ".py",
   "mimetype": "text/x-python",
   "name": "python",
   "nbconvert_exporter": "python",
   "pygments_lexer": "ipython3",
   "version": "3.12.4"
  }
 },
 "nbformat": 4,
 "nbformat_minor": 4
}
