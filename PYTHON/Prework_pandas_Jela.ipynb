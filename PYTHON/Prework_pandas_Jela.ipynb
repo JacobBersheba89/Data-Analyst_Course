{
 "cells": [
  {
   "cell_type": "code",
   "execution_count": 1,
   "id": "8ee2b8c4-0e40-478a-8cee-a67826c3908b",
   "metadata": {},
   "outputs": [
    {
     "name": "stdout",
     "output_type": "stream",
     "text": [
      "Requirement already satisfied: pandas in /opt/anaconda3/lib/python3.12/site-packages (2.2.2)\n",
      "Requirement already satisfied: numpy>=1.26.0 in /opt/anaconda3/lib/python3.12/site-packages (from pandas) (1.26.4)\n",
      "Requirement already satisfied: python-dateutil>=2.8.2 in /opt/anaconda3/lib/python3.12/site-packages (from pandas) (2.9.0.post0)\n",
      "Requirement already satisfied: pytz>=2020.1 in /opt/anaconda3/lib/python3.12/site-packages (from pandas) (2024.1)\n",
      "Requirement already satisfied: tzdata>=2022.7 in /opt/anaconda3/lib/python3.12/site-packages (from pandas) (2023.3)\n",
      "Requirement already satisfied: six>=1.5 in /opt/anaconda3/lib/python3.12/site-packages (from python-dateutil>=2.8.2->pandas) (1.16.0)\n"
     ]
    }
   ],
   "source": [
    "!pip install pandas"
   ]
  },
  {
   "cell_type": "code",
   "execution_count": 3,
   "id": "b331338b-0dec-4661-8f01-90d0a38ac28a",
   "metadata": {},
   "outputs": [
    {
     "name": "stdout",
     "output_type": "stream",
     "text": [
      "Name: pandas\n",
      "Version: 2.2.2\n",
      "Summary: Powerful data structures for data analysis, time series, and statistics\n",
      "Home-page: https://pandas.pydata.org\n",
      "Author: \n",
      "Author-email: The Pandas Development Team <pandas-dev@python.org>\n",
      "License: BSD 3-Clause License\n",
      "\n",
      "Copyright (c) 2008-2011, AQR Capital Management, LLC, Lambda Foundry, Inc. and PyData Development Team\n",
      "All rights reserved.\n",
      "\n",
      "Copyright (c) 2011-2023, Open source contributors.\n",
      "\n",
      "Redistribution and use in source and binary forms, with or without\n",
      "modification, are permitted provided that the following conditions are met:\n",
      "\n",
      "* Redistributions of source code must retain the above copyright notice, this\n",
      "  list of conditions and the following disclaimer.\n",
      "\n",
      "* Redistributions in binary form must reproduce the above copyright notice,\n",
      "  this list of conditions and the following disclaimer in the documentation\n",
      "  and/or other materials provided with the distribution.\n",
      "\n",
      "* Neither the name of the copyright holder nor the names of its\n",
      "  contributors may be used to endorse or promote products derived from\n",
      "  this software without specific prior written permission.\n",
      "\n",
      "THIS SOFTWARE IS PROVIDED BY THE COPYRIGHT HOLDERS AND CONTRIBUTORS \"AS IS\"\n",
      "AND ANY EXPRESS OR IMPLIED WARRANTIES, INCLUDING, BUT NOT LIMITED TO, THE\n",
      "IMPLIED WARRANTIES OF MERCHANTABILITY AND FITNESS FOR A PARTICULAR PURPOSE ARE\n",
      "DISCLAIMED. IN NO EVENT SHALL THE COPYRIGHT HOLDER OR CONTRIBUTORS BE LIABLE\n",
      "FOR ANY DIRECT, INDIRECT, INCIDENTAL, SPECIAL, EXEMPLARY, OR CONSEQUENTIAL\n",
      "DAMAGES (INCLUDING, BUT NOT LIMITED TO, PROCUREMENT OF SUBSTITUTE GOODS OR\n",
      "SERVICES; LOSS OF USE, DATA, OR PROFITS; OR BUSINESS INTERRUPTION) HOWEVER\n",
      "CAUSED AND ON ANY THEORY OF LIABILITY, WHETHER IN CONTRACT, STRICT LIABILITY,\n",
      "OR TORT (INCLUDING NEGLIGENCE OR OTHERWISE) ARISING IN ANY WAY OUT OF THE USE\n",
      "OF THIS SOFTWARE, EVEN IF ADVISED OF THE POSSIBILITY OF SUCH DAMAGE.\n",
      "Location: /opt/anaconda3/lib/python3.12/site-packages\n",
      "Requires: numpy, python-dateutil, pytz, tzdata\n",
      "Required-by: altair, bokeh, dask-expr, datashader, holoviews, hvplot, panel, seaborn, statsmodels, streamlit, xarray\n"
     ]
    }
   ],
   "source": [
    "!pip show pandas"
   ]
  },
  {
   "cell_type": "code",
   "execution_count": 3,
   "id": "a3b5434d-f1b9-4b95-b264-415ca7b32ed1",
   "metadata": {},
   "outputs": [
    {
     "name": "stdout",
     "output_type": "stream",
     "text": [
      "Requirement already satisfied: openpyxl==3.1.5 in /opt/anaconda3/lib/python3.12/site-packages (3.1.5)\n",
      "Requirement already satisfied: et-xmlfile in /opt/anaconda3/lib/python3.12/site-packages (from openpyxl==3.1.5) (1.1.0)\n"
     ]
    }
   ],
   "source": [
    "!pip install openpyxl==3.1.5"
   ]
  },
  {
   "cell_type": "code",
   "execution_count": 5,
   "id": "21d0fdb8-9c83-403e-b9d9-7e7cb78fcebc",
   "metadata": {},
   "outputs": [
    {
     "data": {
      "text/html": [
       "<div>\n",
       "<style scoped>\n",
       "    .dataframe tbody tr th:only-of-type {\n",
       "        vertical-align: middle;\n",
       "    }\n",
       "\n",
       "    .dataframe tbody tr th {\n",
       "        vertical-align: top;\n",
       "    }\n",
       "\n",
       "    .dataframe thead th {\n",
       "        text-align: right;\n",
       "    }\n",
       "</style>\n",
       "<table border=\"1\" class=\"dataframe\">\n",
       "  <thead>\n",
       "    <tr style=\"text-align: right;\">\n",
       "      <th></th>\n",
       "      <th>Name</th>\n",
       "      <th>Goods types</th>\n",
       "      <th>Measurement unit</th>\n",
       "      <th>Group ID</th>\n",
       "      <th>Product types</th>\n",
       "      <th>Value</th>\n",
       "      <th>Date</th>\n",
       "    </tr>\n",
       "  </thead>\n",
       "  <tbody>\n",
       "    <tr>\n",
       "      <th>0</th>\n",
       "      <td>SUBCARPATHIA</td>\n",
       "      <td>NaN</td>\n",
       "      <td>PLN</td>\n",
       "      <td>2</td>\n",
       "      <td>pork ham cooked - per 1kg</td>\n",
       "      <td>21.37</td>\n",
       "      <td>2013-3</td>\n",
       "    </tr>\n",
       "    <tr>\n",
       "      <th>1</th>\n",
       "      <td>ŁÓDŹ</td>\n",
       "      <td>NaN</td>\n",
       "      <td>PLN</td>\n",
       "      <td>4</td>\n",
       "      <td>bread - per 1kg</td>\n",
       "      <td>NaN</td>\n",
       "      <td>2018-2</td>\n",
       "    </tr>\n",
       "    <tr>\n",
       "      <th>2</th>\n",
       "      <td>KUYAVIA-POMERANIA</td>\n",
       "      <td>NaN</td>\n",
       "      <td>PLN</td>\n",
       "      <td>2</td>\n",
       "      <td>barley groats sausage - per 1kg</td>\n",
       "      <td>3.55</td>\n",
       "      <td>2019-12</td>\n",
       "    </tr>\n",
       "    <tr>\n",
       "      <th>3</th>\n",
       "      <td>LOWER SILESIA</td>\n",
       "      <td>NaN</td>\n",
       "      <td>PLN</td>\n",
       "      <td>2</td>\n",
       "      <td>dressed chickens - per 1kg</td>\n",
       "      <td>6.14</td>\n",
       "      <td>2019-2</td>\n",
       "    </tr>\n",
       "    <tr>\n",
       "      <th>4</th>\n",
       "      <td>WARMIA-MASURIA</td>\n",
       "      <td>NaN</td>\n",
       "      <td>PLN</td>\n",
       "      <td>2</td>\n",
       "      <td>Italian head cheese - per 1kg</td>\n",
       "      <td>5.63</td>\n",
       "      <td>2002-3</td>\n",
       "    </tr>\n",
       "  </tbody>\n",
       "</table>\n",
       "</div>"
      ],
      "text/plain": [
       "                Name Goods types Measurement unit  Group ID  \\\n",
       "0       SUBCARPATHIA         NaN              PLN         2   \n",
       "1               ŁÓDŹ         NaN              PLN         4   \n",
       "2  KUYAVIA-POMERANIA         NaN              PLN         2   \n",
       "3      LOWER SILESIA         NaN              PLN         2   \n",
       "4     WARMIA-MASURIA         NaN              PLN         2   \n",
       "\n",
       "                     Product types  Value     Date  \n",
       "0        pork ham cooked - per 1kg  21.37   2013-3  \n",
       "1                  bread - per 1kg    NaN   2018-2  \n",
       "2  barley groats sausage - per 1kg   3.55  2019-12  \n",
       "3       dressed chickens - per 1kg   6.14   2019-2  \n",
       "4    Italian head cheese - per 1kg   5.63   2002-3  "
      ]
     },
     "execution_count": 5,
     "metadata": {},
     "output_type": "execute_result"
    }
   ],
   "source": [
    "import pandas as pd\n",
    "df_raw = pd.read_csv(\n",
    "                    '/Users/jeladobos/Documents/Learning/Data Analyst/5th session/Prework/Session_3_-_exercise_files/01_Data/product_prices.csv', # path to the file with data (if we want to enter the name: filepath_or_buffer)\n",
    "                    sep=';',  # column separator\n",
    "                    decimal=','  # sign separating the whole and fractional parts of a number\n",
    ")\n",
    "\n",
    "df_raw.head() # display the first few rows and check if the data actually got loaded (the function itself will be discussed later)\n"
   ]
  },
  {
   "cell_type": "code",
   "execution_count": 10,
   "id": "6fea661f-ef18-4f20-823d-cbb7ffd45a3d",
   "metadata": {},
   "outputs": [
    {
     "data": {
      "text/html": [
       "<div>\n",
       "<style scoped>\n",
       "    .dataframe tbody tr th:only-of-type {\n",
       "        vertical-align: middle;\n",
       "    }\n",
       "\n",
       "    .dataframe tbody tr th {\n",
       "        vertical-align: top;\n",
       "    }\n",
       "\n",
       "    .dataframe thead th {\n",
       "        text-align: right;\n",
       "    }\n",
       "</style>\n",
       "<table border=\"1\" class=\"dataframe\">\n",
       "  <thead>\n",
       "    <tr style=\"text-align: right;\">\n",
       "      <th></th>\n",
       "      <th>Name</th>\n",
       "      <th>Goods types</th>\n",
       "      <th>Measurement unit</th>\n",
       "      <th>Group ID</th>\n",
       "      <th>Product types</th>\n",
       "      <th>Value</th>\n",
       "      <th>Date</th>\n",
       "      <th>Unnamed: 7</th>\n",
       "    </tr>\n",
       "  </thead>\n",
       "  <tbody>\n",
       "    <tr>\n",
       "      <th>0</th>\n",
       "      <td>SUBCARPATHIA</td>\n",
       "      <td>NaN</td>\n",
       "      <td>PLN</td>\n",
       "      <td>2</td>\n",
       "      <td>pork ham cooked - per 1kg</td>\n",
       "      <td>21.37</td>\n",
       "      <td>2013-3</td>\n",
       "      <td>NaN</td>\n",
       "    </tr>\n",
       "    <tr>\n",
       "      <th>1</th>\n",
       "      <td>ŁÓDŹ</td>\n",
       "      <td>NaN</td>\n",
       "      <td>PLN</td>\n",
       "      <td>4</td>\n",
       "      <td>bread - per 1kg</td>\n",
       "      <td>NaN</td>\n",
       "      <td>2018-2</td>\n",
       "      <td>NaN</td>\n",
       "    </tr>\n",
       "    <tr>\n",
       "      <th>2</th>\n",
       "      <td>KUYAVIA-POMERANIA</td>\n",
       "      <td>NaN</td>\n",
       "      <td>PLN</td>\n",
       "      <td>2</td>\n",
       "      <td>barley groats sausage - per 1kg</td>\n",
       "      <td>3.55</td>\n",
       "      <td>2019-12</td>\n",
       "      <td>NaN</td>\n",
       "    </tr>\n",
       "    <tr>\n",
       "      <th>3</th>\n",
       "      <td>LOWER SILESIA</td>\n",
       "      <td>NaN</td>\n",
       "      <td>PLN</td>\n",
       "      <td>2</td>\n",
       "      <td>dressed chickens - per 1kg</td>\n",
       "      <td>6.14</td>\n",
       "      <td>2019-2</td>\n",
       "      <td>NaN</td>\n",
       "    </tr>\n",
       "    <tr>\n",
       "      <th>4</th>\n",
       "      <td>WARMIA-MASURIA</td>\n",
       "      <td>NaN</td>\n",
       "      <td>PLN</td>\n",
       "      <td>2</td>\n",
       "      <td>Italian head cheese - per 1kg</td>\n",
       "      <td>5.63</td>\n",
       "      <td>2002-3</td>\n",
       "      <td>NaN</td>\n",
       "    </tr>\n",
       "  </tbody>\n",
       "</table>\n",
       "</div>"
      ],
      "text/plain": [
       "                Name Goods types Measurement unit Group ID  \\\n",
       "0       SUBCARPATHIA         NaN              PLN        2   \n",
       "1               ŁÓDŹ         NaN              PLN        4   \n",
       "2  KUYAVIA-POMERANIA         NaN              PLN        2   \n",
       "3      LOWER SILESIA         NaN              PLN        2   \n",
       "4     WARMIA-MASURIA         NaN              PLN        2   \n",
       "\n",
       "                     Product types  Value     Date Unnamed: 7  \n",
       "0        pork ham cooked - per 1kg  21.37   2013-3        NaN  \n",
       "1                  bread - per 1kg    NaN   2018-2        NaN  \n",
       "2  barley groats sausage - per 1kg   3.55  2019-12        NaN  \n",
       "3       dressed chickens - per 1kg   6.14   2019-2        NaN  \n",
       "4    Italian head cheese - per 1kg   5.63   2002-3        NaN  "
      ]
     },
     "execution_count": 10,
     "metadata": {},
     "output_type": "execute_result"
    }
   ],
   "source": [
    "import pandas as pd\n",
    "df_raw = pd.read_excel(\n",
    "                        r'/Users/jeladobos/Documents/Learning/Data Analyst/5th session/Prework/Session_3_-_exercise_files/01_Data/product_prices.xlsx', # path to the file with data (if we want to enter the name: io=r'..\\01_Data\\product_prices.xlsx')\n",
    "                        sheet_name='product_prices' # the name of the sheet holding the data we want to process\n",
    ")\n",
    "\n",
    "df_raw.head() # display the first few rows and check if the data actually got loaded (the function itself will be discussed later)\n"
   ]
  },
  {
   "cell_type": "code",
   "execution_count": 20,
   "id": "fba793df-e3c4-4ee0-8a08-2416fb062f81",
   "metadata": {},
   "outputs": [],
   "source": [
    "import pandas as pd # library import\n",
    "\n",
    "df_raw = pd.read_csv(\n",
    "    r'/Users/jeladobos/Documents/Learning/Data Analyst/5th session/Prework/Session_3_-_exercise_files/01_Data/product_prices.csv',  # path to data file\n",
    "    sep=';',  # column separator\n",
    "    decimal=','  # character separating the whole and fractional parts of a number\n",
    ")"
   ]
  },
  {
   "cell_type": "code",
   "execution_count": 18,
   "id": "2e02a4d9-4e20-4b0e-8615-dfca8993f9c2",
   "metadata": {},
   "outputs": [
    {
     "data": {
      "text/plain": [
       "(149940, 7)"
      ]
     },
     "execution_count": 18,
     "metadata": {},
     "output_type": "execute_result"
    }
   ],
   "source": [
    "import pandas as pd # library import\n",
    "\n",
    "df_raw = pd.read_csv(\n",
    "    r'/Users/jeladobos/Documents/Learning/Data Analyst/5th session/Prework/Session_3_-_exercise_files/01_Data/product_prices.csv',  # path to data file\n",
    "    sep=';',  # column separator\n",
    "    decimal=','  # character separating the whole and fractional parts of a number\n",
    ")\n",
    "df_raw.shape"
   ]
  },
  {
   "cell_type": "code",
   "execution_count": 22,
   "id": "2bb7b8fa-0354-45b1-ae90-0625fc771886",
   "metadata": {},
   "outputs": [
    {
     "data": {
      "text/plain": [
       "149940"
      ]
     },
     "execution_count": 22,
     "metadata": {},
     "output_type": "execute_result"
    }
   ],
   "source": [
    "import pandas as pd # library import\n",
    "\n",
    "df_raw = pd.read_csv(\n",
    "    r'/Users/jeladobos/Documents/Learning/Data Analyst/5th session/Prework/Session_3_-_exercise_files/01_Data/product_prices.csv',  # path to data file\n",
    "    sep=';',  # column separator\n",
    "    decimal=','  # character separating the whole and fractional parts of a number\n",
    ")\n",
    "df_raw.shape[0]"
   ]
  },
  {
   "cell_type": "code",
   "execution_count": 24,
   "id": "3f71b712-a79e-4494-aa70-7a436880b0de",
   "metadata": {},
   "outputs": [
    {
     "data": {
      "text/plain": [
       "7"
      ]
     },
     "execution_count": 24,
     "metadata": {},
     "output_type": "execute_result"
    }
   ],
   "source": [
    "import pandas as pd # library import\n",
    "\n",
    "df_raw = pd.read_csv(\n",
    "    r'/Users/jeladobos/Documents/Learning/Data Analyst/5th session/Prework/Session_3_-_exercise_files/01_Data/product_prices.csv',  # path to data file\n",
    "    sep=';',  # column separator\n",
    "    decimal=','  # character separating the whole and fractional parts of a number\n",
    ")\n",
    "df_raw.shape[1]"
   ]
  },
  {
   "cell_type": "code",
   "execution_count": 26,
   "id": "9b7064ad-3d79-451a-866b-0cbbb34c7402",
   "metadata": {},
   "outputs": [
    {
     "data": {
      "text/html": [
       "<div>\n",
       "<style scoped>\n",
       "    .dataframe tbody tr th:only-of-type {\n",
       "        vertical-align: middle;\n",
       "    }\n",
       "\n",
       "    .dataframe tbody tr th {\n",
       "        vertical-align: top;\n",
       "    }\n",
       "\n",
       "    .dataframe thead th {\n",
       "        text-align: right;\n",
       "    }\n",
       "</style>\n",
       "<table border=\"1\" class=\"dataframe\">\n",
       "  <thead>\n",
       "    <tr style=\"text-align: right;\">\n",
       "      <th></th>\n",
       "      <th>Name</th>\n",
       "      <th>Goods types</th>\n",
       "      <th>Measurement unit</th>\n",
       "      <th>Group ID</th>\n",
       "      <th>Product types</th>\n",
       "      <th>Value</th>\n",
       "      <th>Date</th>\n",
       "    </tr>\n",
       "  </thead>\n",
       "  <tbody>\n",
       "    <tr>\n",
       "      <th>0</th>\n",
       "      <td>SUBCARPATHIA</td>\n",
       "      <td>NaN</td>\n",
       "      <td>PLN</td>\n",
       "      <td>2</td>\n",
       "      <td>pork ham cooked - per 1kg</td>\n",
       "      <td>21.37</td>\n",
       "      <td>2013-3</td>\n",
       "    </tr>\n",
       "    <tr>\n",
       "      <th>1</th>\n",
       "      <td>ŁÓDŹ</td>\n",
       "      <td>NaN</td>\n",
       "      <td>PLN</td>\n",
       "      <td>4</td>\n",
       "      <td>bread - per 1kg</td>\n",
       "      <td>NaN</td>\n",
       "      <td>2018-2</td>\n",
       "    </tr>\n",
       "    <tr>\n",
       "      <th>2</th>\n",
       "      <td>KUYAVIA-POMERANIA</td>\n",
       "      <td>NaN</td>\n",
       "      <td>PLN</td>\n",
       "      <td>2</td>\n",
       "      <td>barley groats sausage - per 1kg</td>\n",
       "      <td>3.55</td>\n",
       "      <td>2019-12</td>\n",
       "    </tr>\n",
       "    <tr>\n",
       "      <th>3</th>\n",
       "      <td>LOWER SILESIA</td>\n",
       "      <td>NaN</td>\n",
       "      <td>PLN</td>\n",
       "      <td>2</td>\n",
       "      <td>dressed chickens - per 1kg</td>\n",
       "      <td>6.14</td>\n",
       "      <td>2019-2</td>\n",
       "    </tr>\n",
       "    <tr>\n",
       "      <th>4</th>\n",
       "      <td>WARMIA-MASURIA</td>\n",
       "      <td>NaN</td>\n",
       "      <td>PLN</td>\n",
       "      <td>2</td>\n",
       "      <td>Italian head cheese - per 1kg</td>\n",
       "      <td>5.63</td>\n",
       "      <td>2002-3</td>\n",
       "    </tr>\n",
       "  </tbody>\n",
       "</table>\n",
       "</div>"
      ],
      "text/plain": [
       "                Name Goods types Measurement unit  Group ID  \\\n",
       "0       SUBCARPATHIA         NaN              PLN         2   \n",
       "1               ŁÓDŹ         NaN              PLN         4   \n",
       "2  KUYAVIA-POMERANIA         NaN              PLN         2   \n",
       "3      LOWER SILESIA         NaN              PLN         2   \n",
       "4     WARMIA-MASURIA         NaN              PLN         2   \n",
       "\n",
       "                     Product types  Value     Date  \n",
       "0        pork ham cooked - per 1kg  21.37   2013-3  \n",
       "1                  bread - per 1kg    NaN   2018-2  \n",
       "2  barley groats sausage - per 1kg   3.55  2019-12  \n",
       "3       dressed chickens - per 1kg   6.14   2019-2  \n",
       "4    Italian head cheese - per 1kg   5.63   2002-3  "
      ]
     },
     "execution_count": 26,
     "metadata": {},
     "output_type": "execute_result"
    }
   ],
   "source": [
    "import pandas as pd # library import\n",
    "\n",
    "df_raw = pd.read_csv(\n",
    "    r'/Users/jeladobos/Documents/Learning/Data Analyst/5th session/Prework/Session_3_-_exercise_files/01_Data/product_prices.csv',  # path to data file\n",
    "    sep=';',  # column separator\n",
    "    decimal=','  # character separating the whole and fractional parts of a number\n",
    ")\n",
    "df_raw.head(5) # displays the first 5 rows of the table"
   ]
  },
  {
   "cell_type": "code",
   "execution_count": 28,
   "id": "4dfd24b7-1c82-4256-b9f9-64394ca54e18",
   "metadata": {},
   "outputs": [
    {
     "data": {
      "text/html": [
       "<div>\n",
       "<style scoped>\n",
       "    .dataframe tbody tr th:only-of-type {\n",
       "        vertical-align: middle;\n",
       "    }\n",
       "\n",
       "    .dataframe tbody tr th {\n",
       "        vertical-align: top;\n",
       "    }\n",
       "\n",
       "    .dataframe thead th {\n",
       "        text-align: right;\n",
       "    }\n",
       "</style>\n",
       "<table border=\"1\" class=\"dataframe\">\n",
       "  <thead>\n",
       "    <tr style=\"text-align: right;\">\n",
       "      <th></th>\n",
       "      <th>Name</th>\n",
       "      <th>Goods types</th>\n",
       "      <th>Measurement unit</th>\n",
       "      <th>Group ID</th>\n",
       "      <th>Product types</th>\n",
       "      <th>Value</th>\n",
       "      <th>Date</th>\n",
       "    </tr>\n",
       "  </thead>\n",
       "  <tbody>\n",
       "    <tr>\n",
       "      <th>149930</th>\n",
       "      <td>WARMIA-MASURIA</td>\n",
       "      <td>NaN</td>\n",
       "      <td>PLN</td>\n",
       "      <td>4</td>\n",
       "      <td>Poznan wheat flour, bagged - per 1kg</td>\n",
       "      <td>0.99</td>\n",
       "      <td>2010-10</td>\n",
       "    </tr>\n",
       "    <tr>\n",
       "      <th>149931</th>\n",
       "      <td>POMERANIA</td>\n",
       "      <td>NaN</td>\n",
       "      <td>PLN</td>\n",
       "      <td>2</td>\n",
       "      <td>pork belly cooked - per 1kg</td>\n",
       "      <td>14.48</td>\n",
       "      <td>1999-10</td>\n",
       "    </tr>\n",
       "    <tr>\n",
       "      <th>149932</th>\n",
       "      <td>MASOVIA</td>\n",
       "      <td>NaN</td>\n",
       "      <td>PLN</td>\n",
       "      <td>2</td>\n",
       "      <td>salted herring, non-dressed - per 1kg</td>\n",
       "      <td>0.0</td>\n",
       "      <td>2001-3</td>\n",
       "    </tr>\n",
       "    <tr>\n",
       "      <th>149933</th>\n",
       "      <td>SILESIA</td>\n",
       "      <td>NaN</td>\n",
       "      <td>PLN</td>\n",
       "      <td>2</td>\n",
       "      <td>smoked bacon with ribs - per 1kg</td>\n",
       "      <td>15.95</td>\n",
       "      <td>2015-9</td>\n",
       "    </tr>\n",
       "    <tr>\n",
       "      <th>149934</th>\n",
       "      <td>SILESIA</td>\n",
       "      <td>NaN</td>\n",
       "      <td>PLN</td>\n",
       "      <td>2</td>\n",
       "      <td>barley groats sausage - per 1kg</td>\n",
       "      <td>4.5</td>\n",
       "      <td>2004-8</td>\n",
       "    </tr>\n",
       "    <tr>\n",
       "      <th>149935</th>\n",
       "      <td>KUYAVIA-POMERANIA</td>\n",
       "      <td>NaN</td>\n",
       "      <td>PLN</td>\n",
       "      <td>2</td>\n",
       "      <td>pork  meat (raw bacon) - per 1kg</td>\n",
       "      <td>12.15</td>\n",
       "      <td>2016-11</td>\n",
       "    </tr>\n",
       "    <tr>\n",
       "      <th>149936</th>\n",
       "      <td>ŁÓDŹ</td>\n",
       "      <td>beet sugar white, bagged - per 1kg</td>\n",
       "      <td>PLN</td>\n",
       "      <td>3</td>\n",
       "      <td>NaN</td>\n",
       "      <td>0.0</td>\n",
       "      <td>2012-5</td>\n",
       "    </tr>\n",
       "    <tr>\n",
       "      <th>149937</th>\n",
       "      <td>LESSER POLAND</td>\n",
       "      <td>NaN</td>\n",
       "      <td>PLN</td>\n",
       "      <td>4</td>\n",
       "      <td>plain mixed bread (wheat-rye) - per 1kg</td>\n",
       "      <td>3.05</td>\n",
       "      <td>2008-6</td>\n",
       "    </tr>\n",
       "    <tr>\n",
       "      <th>149938</th>\n",
       "      <td>WARMIA-MASURIA</td>\n",
       "      <td>NaN</td>\n",
       "      <td>PLN</td>\n",
       "      <td>2</td>\n",
       "      <td>boneless beef (sirloin) - per 1kg</td>\n",
       "      <td>11.87</td>\n",
       "      <td>2000-11</td>\n",
       "    </tr>\n",
       "    <tr>\n",
       "      <th>149939</th>\n",
       "      <td>MASOVIA</td>\n",
       "      <td>NaN</td>\n",
       "      <td>PLN</td>\n",
       "      <td>4</td>\n",
       "      <td>Masurian barley groats - per 1kg</td>\n",
       "      <td>0.16</td>\n",
       "      <td>2005-10</td>\n",
       "    </tr>\n",
       "  </tbody>\n",
       "</table>\n",
       "</div>"
      ],
      "text/plain": [
       "                     Name                         Goods types  \\\n",
       "149930     WARMIA-MASURIA                                 NaN   \n",
       "149931          POMERANIA                                 NaN   \n",
       "149932            MASOVIA                                 NaN   \n",
       "149933            SILESIA                                 NaN   \n",
       "149934            SILESIA                                 NaN   \n",
       "149935  KUYAVIA-POMERANIA                                 NaN   \n",
       "149936               ŁÓDŹ  beet sugar white, bagged - per 1kg   \n",
       "149937      LESSER POLAND                                 NaN   \n",
       "149938     WARMIA-MASURIA                                 NaN   \n",
       "149939            MASOVIA                                 NaN   \n",
       "\n",
       "       Measurement unit  Group ID                            Product types  \\\n",
       "149930              PLN         4     Poznan wheat flour, bagged - per 1kg   \n",
       "149931              PLN         2              pork belly cooked - per 1kg   \n",
       "149932              PLN         2    salted herring, non-dressed - per 1kg   \n",
       "149933              PLN         2         smoked bacon with ribs - per 1kg   \n",
       "149934              PLN         2          barley groats sausage - per 1kg   \n",
       "149935              PLN         2         pork  meat (raw bacon) - per 1kg   \n",
       "149936              PLN         3                                      NaN   \n",
       "149937              PLN         4  plain mixed bread (wheat-rye) - per 1kg   \n",
       "149938              PLN         2        boneless beef (sirloin) - per 1kg   \n",
       "149939              PLN         4         Masurian barley groats - per 1kg   \n",
       "\n",
       "        Value     Date  \n",
       "149930   0.99  2010-10  \n",
       "149931  14.48  1999-10  \n",
       "149932    0.0   2001-3  \n",
       "149933  15.95   2015-9  \n",
       "149934    4.5   2004-8  \n",
       "149935  12.15  2016-11  \n",
       "149936    0.0   2012-5  \n",
       "149937   3.05   2008-6  \n",
       "149938  11.87  2000-11  \n",
       "149939   0.16  2005-10  "
      ]
     },
     "execution_count": 28,
     "metadata": {},
     "output_type": "execute_result"
    }
   ],
   "source": [
    "import pandas as pd # library import\n",
    "\n",
    "df_raw = pd.read_csv(\n",
    "    r'/Users/jeladobos/Documents/Learning/Data Analyst/5th session/Prework/Session_3_-_exercise_files/01_Data/product_prices.csv',  # path to data file\n",
    "    sep=';',  # column separator\n",
    "    decimal=','  # character separating the whole and fractional parts of a number\n",
    ")\n",
    "df_raw.tail(10)"
   ]
  },
  {
   "cell_type": "code",
   "execution_count": 30,
   "id": "a38cf6a9-16c4-40b0-948d-7c66bc733f0c",
   "metadata": {},
   "outputs": [
    {
     "name": "stdout",
     "output_type": "stream",
     "text": [
      "<class 'pandas.core.frame.DataFrame'>\n",
      "RangeIndex: 149940 entries, 0 to 149939\n",
      "Data columns (total 7 columns):\n",
      " #   Column            Non-Null Count   Dtype \n",
      "---  ------            --------------   ----- \n",
      " 0   Name              149940 non-null  object\n",
      " 1   Goods types       34272 non-null   object\n",
      " 2   Measurement unit  149940 non-null  object\n",
      " 3   Group ID          149940 non-null  int64 \n",
      " 4   Product types     115668 non-null  object\n",
      " 5   Value             137088 non-null  object\n",
      " 6   Date              149940 non-null  object\n",
      "dtypes: int64(1), object(6)\n",
      "memory usage: 8.0+ MB\n"
     ]
    }
   ],
   "source": [
    "import pandas as pd # library import\n",
    "\n",
    "df_raw = pd.read_csv(\n",
    "    r'/Users/jeladobos/Documents/Learning/Data Analyst/5th session/Prework/Session_3_-_exercise_files/01_Data/product_prices.csv',  # path to data file\n",
    "    sep=';',  # column separator\n",
    "    decimal=','  # character separating the whole and fractional parts of a number\n",
    ")\n",
    "df_raw.info()"
   ]
  },
  {
   "cell_type": "code",
   "execution_count": 32,
   "id": "1bf8e7f6-d1b9-4d2e-9a2b-5f96c73792cb",
   "metadata": {},
   "outputs": [
    {
     "data": {
      "text/plain": [
       "Index(['Name', 'Goods types', 'Measurement unit', 'Group ID', 'Product types',\n",
       "       'Value', 'Date'],\n",
       "      dtype='object')"
      ]
     },
     "execution_count": 32,
     "metadata": {},
     "output_type": "execute_result"
    }
   ],
   "source": [
    "import pandas as pd # library import\n",
    "\n",
    "df_raw = pd.read_csv(\n",
    "    r'/Users/jeladobos/Documents/Learning/Data Analyst/5th session/Prework/Session_3_-_exercise_files/01_Data/product_prices.csv',  # path to data file\n",
    "    sep=';',  # column separator\n",
    "    decimal=','  # character separating the whole and fractional parts of a number\n",
    ")\n",
    "df_raw.columns"
   ]
  },
  {
   "cell_type": "code",
   "execution_count": 34,
   "id": "447f6331-cccc-4aa3-83fa-34775de51870",
   "metadata": {},
   "outputs": [
    {
     "data": {
      "text/plain": [
       "0              SUBCARPATHIA\n",
       "1                      ŁÓDŹ\n",
       "2         KUYAVIA-POMERANIA\n",
       "3             LOWER SILESIA\n",
       "4            WARMIA-MASURIA\n",
       "                ...        \n",
       "149935    KUYAVIA-POMERANIA\n",
       "149936                 ŁÓDŹ\n",
       "149937        LESSER POLAND\n",
       "149938       WARMIA-MASURIA\n",
       "149939              MASOVIA\n",
       "Name: Name, Length: 149940, dtype: object"
      ]
     },
     "execution_count": 34,
     "metadata": {},
     "output_type": "execute_result"
    }
   ],
   "source": [
    "import pandas as pd # library import\n",
    "\n",
    "df_raw = pd.read_csv(\n",
    "    r'/Users/jeladobos/Documents/Learning/Data Analyst/5th session/Prework/Session_3_-_exercise_files/01_Data/product_prices.csv',  # path to data file\n",
    "    sep=';',  # column separator\n",
    "    decimal=','  # character separating the whole and fractional parts of a number\n",
    ")\n",
    "df_raw['Name']  # displays only the 'Name' column from the DataFrame'"
   ]
  },
  {
   "cell_type": "code",
   "execution_count": 36,
   "id": "cd453e1f-4d15-4c5a-a25a-b06220c64e4f",
   "metadata": {},
   "outputs": [
    {
     "data": {
      "text/plain": [
       "0         21.37\n",
       "1           NaN\n",
       "2          3.55\n",
       "3          6.14\n",
       "4          5.63\n",
       "          ...  \n",
       "149935    12.15\n",
       "149936      0.0\n",
       "149937     3.05\n",
       "149938    11.87\n",
       "149939     0.16\n",
       "Name: Value, Length: 149940, dtype: object"
      ]
     },
     "execution_count": 36,
     "metadata": {},
     "output_type": "execute_result"
    }
   ],
   "source": [
    "import pandas as pd # library import\n",
    "\n",
    "df_raw = pd.read_csv(\n",
    "    r'/Users/jeladobos/Documents/Learning/Data Analyst/5th session/Prework/Session_3_-_exercise_files/01_Data/product_prices.csv',  # path to data file\n",
    "    sep=';',  # column separator\n",
    "    decimal=','  # character separating the whole and fractional parts of a number\n",
    ")\n",
    "df_raw.loc[:, 'Value']"
   ]
  },
  {
   "cell_type": "code",
   "execution_count": 42,
   "id": "36e24a79-9bf7-4c6c-bda0-9b57c431aec1",
   "metadata": {},
   "outputs": [
    {
     "data": {
      "text/plain": [
       "pandas.core.series.Series"
      ]
     },
     "execution_count": 42,
     "metadata": {},
     "output_type": "execute_result"
    }
   ],
   "source": [
    "import pandas as pd # library import\n",
    "\n",
    "df_raw = pd.read_csv(\n",
    "    r'/Users/jeladobos/Documents/Learning/Data Analyst/5th session/Prework/Session_3_-_exercise_files/01_Data/product_prices.csv',  # path to data file\n",
    "    sep=';',  # column separator\n",
    "    decimal=','  # character separating the whole and fractional parts of a number\n",
    ")\n",
    "col = df_raw['Value'].head() # we pull the Value column out of the frame - it will be useful for presenting sub-stat operations\n",
    "type(col) # we check that the column type is actually series"
   ]
  },
  {
   "cell_type": "code",
   "execution_count": 44,
   "id": "7ef448e5-ce94-4ec3-8e6d-0b0a88aa2517",
   "metadata": {},
   "outputs": [
    {
     "data": {
      "text/plain": [
       "0    21.37\n",
       "1      NaN\n",
       "2     3.55\n",
       "3     6.14\n",
       "4     5.63\n",
       "Name: Value, dtype: object"
      ]
     },
     "execution_count": 44,
     "metadata": {},
     "output_type": "execute_result"
    }
   ],
   "source": [
    "import pandas as pd # library import\n",
    "\n",
    "df_raw = pd.read_csv(\n",
    "    r'/Users/jeladobos/Documents/Learning/Data Analyst/5th session/Prework/Session_3_-_exercise_files/01_Data/product_prices.csv',  # path to data file\n",
    "    sep=';',  # column separator\n",
    "    decimal=','  # character separating the whole and fractional parts of a number\n",
    ")\n",
    "col # display the contents of Series"
   ]
  },
  {
   "cell_type": "code",
   "execution_count": 174,
   "id": "cd52e778-57ba-4165-bfe3-75bdf929e651",
   "metadata": {},
   "outputs": [
    {
     "name": "stdout",
     "output_type": "stream",
     "text": [
      "                Name Goods types Measurement unit  Group ID  \\\n",
      "0       SUBCARPATHIA         NaN              PLN         2   \n",
      "1               ŁÓDŹ         NaN              PLN         4   \n",
      "2  KUYAVIA-POMERANIA         NaN              PLN         2   \n",
      "3      LOWER SILESIA         NaN              PLN         2   \n",
      "4     WARMIA-MASURIA         NaN              PLN         2   \n",
      "\n",
      "                     Product types  Value     Date  \n",
      "0        pork ham cooked - per 1kg  22.37   2013-3  \n",
      "1                  bread - per 1kg    NaN   2018-2  \n",
      "2  barley groats sausage - per 1kg   4.55  2019-12  \n",
      "3       dressed chickens - per 1kg   7.14   2019-2  \n",
      "4    Italian head cheese - per 1kg   6.63   2002-3  \n"
     ]
    }
   ],
   "source": [
    "import pandas as pd\n",
    "df_raw = pd.read_csv(\n",
    "    r'/Users/jeladobos/Documents/Learning/Data Analyst/5th session/Prework/Session_3_-_exercise_files/01_Data/product_prices.csv',  # path to data file\n",
    "    sep=';',  # column separator\n",
    "    decimal=','  # character separating the whole and fractional parts of a number\n",
    ")\n",
    "\n",
    "df_raw['Value'] = df_raw['Value'].astype(float)\n",
    "\n",
    "# had to change because of the incorrect data type in data set\n",
    "df_raw['Value'] = df_raw['Value'] + 1  # Col + 1\n",
    "\n",
    "print(df_raw.head())"
   ]
  },
  {
   "cell_type": "code",
   "execution_count": null,
   "id": "9830175a-16d7-4fdc-b48b-463435337e1a",
   "metadata": {
    "scrolled": true
   },
   "outputs": [],
   "source": [
    "import pandas as pd\n",
    "df_raw = pd.read_csv(\n",
    "    r'/Users/jeladobos/Documents/Learning/Data Analyst/5th session/Prework/01_Data/product_prices.csv',  # path to data file\n",
    "    sep=';',  # column separator\n",
    "    decimal='.'  # character separating the whole and fractional parts of a number\n",
    ")\n",
    "col = df_raw['Value'].head()\n",
    "\n",
    "col + 1"
   ]
  },
  {
   "cell_type": "code",
   "execution_count": 188,
   "id": "5ea73d3c-8fcd-4426-96dc-31672c5d65ed",
   "metadata": {},
   "outputs": [
    {
     "name": "stdout",
     "output_type": "stream",
     "text": [
      "                Name Goods types Measurement unit  Group ID  \\\n",
      "0       SUBCARPATHIA         NaN              PLN         2   \n",
      "1               ŁÓDŹ         NaN              PLN         4   \n",
      "2  KUYAVIA-POMERANIA         NaN              PLN         2   \n",
      "3      LOWER SILESIA         NaN              PLN         2   \n",
      "4     WARMIA-MASURIA         NaN              PLN         2   \n",
      "\n",
      "                     Product types  Value     Date  \n",
      "0        pork ham cooked - per 1kg  16.37   2013-3  \n",
      "1                  bread - per 1kg    NaN   2018-2  \n",
      "2  barley groats sausage - per 1kg  -1.45  2019-12  \n",
      "3       dressed chickens - per 1kg   1.14   2019-2  \n",
      "4    Italian head cheese - per 1kg   0.63   2002-3  \n"
     ]
    }
   ],
   "source": [
    "import pandas as pd\n",
    "df_raw = pd.read_csv(\n",
    "    r'/Users/jeladobos/Documents/Learning/Data Analyst/5th session/Prework/Session_3_-_exercise_files/01_Data/product_prices.csv',  # path to data file\n",
    "    sep=';',  # column separator\n",
    "    decimal=','  # character separating the whole and fractional parts of a number\n",
    ")\n",
    "\n",
    "df_raw['Value'] = df_raw['Value'].astype(float)\n",
    "\n",
    "# had to change because of the incorrect data type in data set\n",
    "df_raw['Value'] = df_raw['Value'] - 5  # Col -5\n",
    "\n",
    "print(df_raw.head())"
   ]
  },
  {
   "cell_type": "code",
   "execution_count": 178,
   "id": "c26f33eb-7378-4ac5-a9cc-853bed8b6f09",
   "metadata": {},
   "outputs": [
    {
     "name": "stdout",
     "output_type": "stream",
     "text": [
      "                Name Goods types Measurement unit  Group ID  \\\n",
      "0       SUBCARPATHIA         NaN              PLN         2   \n",
      "1               ŁÓDŹ         NaN              PLN         4   \n",
      "2  KUYAVIA-POMERANIA         NaN              PLN         2   \n",
      "3      LOWER SILESIA         NaN              PLN         2   \n",
      "4     WARMIA-MASURIA         NaN              PLN         2   \n",
      "\n",
      "                     Product types   Value     Date  \n",
      "0        pork ham cooked - per 1kg  53.425   2013-3  \n",
      "1                  bread - per 1kg     NaN   2018-2  \n",
      "2  barley groats sausage - per 1kg   8.875  2019-12  \n",
      "3       dressed chickens - per 1kg  15.350   2019-2  \n",
      "4    Italian head cheese - per 1kg  14.075   2002-3  \n"
     ]
    }
   ],
   "source": [
    "import pandas as pd # library import\n",
    "\n",
    "df_raw = pd.read_csv(\n",
    "    r'/Users/jeladobos/Documents/Learning/Data Analyst/5th session/Prework/Session_3_-_exercise_files/01_Data/product_prices.csv',  # path to data file\n",
    "    sep=';',  # column separator\n",
    "    decimal=','  # character separating the whole and fractional parts of a number\n",
    ")\n",
    "\n",
    "df_raw['Value'] = df_raw['Value'].astype(float)\n",
    "\n",
    "# had to change because of the incorrect data type in data set\n",
    "df_raw['Value'] = df_raw['Value'] * 2.5  # Col * 2.5\n",
    "\n",
    "print(df_raw.head())"
   ]
  },
  {
   "cell_type": "code",
   "execution_count": 180,
   "id": "57725287-0165-44ab-bb6a-d7eea9262728",
   "metadata": {},
   "outputs": [
    {
     "name": "stdout",
     "output_type": "stream",
     "text": [
      "                Name Goods types Measurement unit  Group ID  \\\n",
      "0       SUBCARPATHIA         NaN              PLN         2   \n",
      "1               ŁÓDŹ         NaN              PLN         4   \n",
      "2  KUYAVIA-POMERANIA         NaN              PLN         2   \n",
      "3      LOWER SILESIA         NaN              PLN         2   \n",
      "4     WARMIA-MASURIA         NaN              PLN         2   \n",
      "\n",
      "                     Product types  Value     Date  \n",
      "0        pork ham cooked - per 1kg  8.548   2013-3  \n",
      "1                  bread - per 1kg    NaN   2018-2  \n",
      "2  barley groats sausage - per 1kg  1.420  2019-12  \n",
      "3       dressed chickens - per 1kg  2.456   2019-2  \n",
      "4    Italian head cheese - per 1kg  2.252   2002-3  \n"
     ]
    }
   ],
   "source": [
    "import pandas as pd # library import\n",
    "\n",
    "df_raw = pd.read_csv(\n",
    "    r'/Users/jeladobos/Documents/Learning/Data Analyst/5th session/Prework/Session_3_-_exercise_files/01_Data/product_prices.csv',  # path to data file\n",
    "    sep=';',  # column separator\n",
    "    decimal=','  # character separating the whole and fractional parts of a number\n",
    ")\n",
    "\n",
    "df_raw['Value'] = df_raw['Value'].astype(float)\n",
    "\n",
    "# had to change because of the incorrect data type in data set\n",
    "df_raw['Value'] = df_raw['Value'] / 2.5  # Col / 2.5\n",
    "\n",
    "print(df_raw.head())"
   ]
  },
  {
   "cell_type": "code",
   "execution_count": 182,
   "id": "330d3f2c-bf2b-42e2-ad7c-9122b45a98c2",
   "metadata": {},
   "outputs": [
    {
     "name": "stdout",
     "output_type": "stream",
     "text": [
      "                Name Goods types Measurement unit  Group ID  \\\n",
      "0       SUBCARPATHIA         NaN              PLN         2   \n",
      "1               ŁÓDŹ         NaN              PLN         4   \n",
      "2  KUYAVIA-POMERANIA         NaN              PLN         2   \n",
      "3      LOWER SILESIA         NaN              PLN         2   \n",
      "4     WARMIA-MASURIA         NaN              PLN         2   \n",
      "\n",
      "                     Product types  Value     Date  \n",
      "0        pork ham cooked - per 1kg  42.74   2013-3  \n",
      "1                  bread - per 1kg    NaN   2018-2  \n",
      "2  barley groats sausage - per 1kg   7.10  2019-12  \n",
      "3       dressed chickens - per 1kg  12.28   2019-2  \n",
      "4    Italian head cheese - per 1kg  11.26   2002-3  \n"
     ]
    }
   ],
   "source": [
    "import pandas as pd # library import\n",
    "\n",
    "df_raw = pd.read_csv(\n",
    "    r'/Users/jeladobos/Documents/Learning/Data Analyst/5th session/Prework/Session_3_-_exercise_files/01_Data/product_prices.csv',  # path to data file\n",
    "    sep=';',  # column separator\n",
    "    decimal=','  # character separating the whole and fractional parts of a number\n",
    ")\n",
    "\n",
    "df_raw['Value'] = df_raw['Value'].astype(float)\n",
    "\n",
    "# had to change because of the incorrect data type in data set\n",
    "df_raw['Value'] = df_raw['Value'] + df_raw['Value']  # Col + Col - other way of multiplication\n",
    "\n",
    "print(df_raw.head())"
   ]
  },
  {
   "cell_type": "code",
   "execution_count": 54,
   "id": "8a3ef108-20d5-4e85-bb79-ebfda5cbab1d",
   "metadata": {},
   "outputs": [
    {
     "data": {
      "text/plain": [
       "0    0\n",
       "1    1\n",
       "2    2\n",
       "3    3\n",
       "4    4\n",
       "dtype: int64"
      ]
     },
     "execution_count": 54,
     "metadata": {},
     "output_type": "execute_result"
    }
   ],
   "source": [
    "import pandas as pd # library import\n",
    "\n",
    "df_raw = pd.read_csv(\n",
    "    r'/Users/jeladobos/Documents/Learning/Data Analyst/5th session/Prework/Session_3_-_exercise_files/01_Data/product_prices.csv',  # path to data file\n",
    "    sep=';',  # column separator\n",
    "    decimal=','  # character separating the whole and fractional parts of a number\n",
    ")\n",
    "col_example = pd.Series(\n",
    "    range(len(col))\n",
    ")\n",
    "col_example # we check that what has been created looks as expected"
   ]
  },
  {
   "cell_type": "code",
   "execution_count": 192,
   "id": "2a7598ec-f635-46a0-9cba-a808c0dbe663",
   "metadata": {},
   "outputs": [
    {
     "name": "stdout",
     "output_type": "stream",
     "text": [
      "                Name Goods types Measurement unit  Group ID  \\\n",
      "0       SUBCARPATHIA         NaN              PLN         2   \n",
      "1               ŁÓDŹ         NaN              PLN         4   \n",
      "2  KUYAVIA-POMERANIA         NaN              PLN         2   \n",
      "3      LOWER SILESIA         NaN              PLN         2   \n",
      "4     WARMIA-MASURIA         NaN              PLN         2   \n",
      "\n",
      "                     Product types  Value     Date  \n",
      "0        pork ham cooked - per 1kg  21.37   2013-3  \n",
      "1                  bread - per 1kg    NaN   2018-2  \n",
      "2  barley groats sausage - per 1kg   5.55  2019-12  \n",
      "3       dressed chickens - per 1kg   9.14   2019-2  \n",
      "4    Italian head cheese - per 1kg   9.63   2002-3  \n"
     ]
    }
   ],
   "source": [
    "import pandas as pd # library import\n",
    "\n",
    "df_raw = pd.read_csv(\n",
    "    r'/Users/jeladobos/Documents/Learning/Data Analyst/5th session/Prework/Session_3_-_exercise_files/01_Data/product_prices.csv',  # path to data file\n",
    "    sep=';',  # column separator\n",
    "    decimal=','  # character separating the whole and fractional parts of a number\n",
    ")\n",
    "col_example = pd.Series(\n",
    "    range(len(col))\n",
    ")\n",
    "\n",
    "df_raw['Value'] = df_raw['Value'].astype(float)\n",
    "\n",
    "df_raw['Value'] = df_raw['Value'] + col_example\n",
    "\n",
    "print(df_raw.head())"
   ]
  },
  {
   "cell_type": "code",
   "execution_count": 60,
   "id": "89d1884b-d808-42f4-b120-d93459047192",
   "metadata": {},
   "outputs": [
    {
     "data": {
      "text/plain": [
       "0    0\n",
       "1    1\n",
       "2    2\n",
       "3    3\n",
       "dtype: int64"
      ]
     },
     "execution_count": 60,
     "metadata": {},
     "output_type": "execute_result"
    }
   ],
   "source": [
    "import pandas as pd # library import\n",
    "\n",
    "df_raw = pd.read_csv(\n",
    "    r'/Users/jeladobos/Documents/Learning/Data Analyst/5th session/Prework/Session_3_-_exercise_files/01_Data/product_prices.csv',  # path to data file\n",
    "    sep=';',  # column separator\n",
    "    decimal=','  # character separating the whole and fractional parts of a number\n",
    ")\n",
    "# we create a series that has one less row to force a NaN to be created at the next operation\n",
    "col_example2 = pd.Series(\n",
    "    range(len(col)-1)\n",
    ")\n",
    "col_example2  # checking Series generation"
   ]
  },
  {
   "cell_type": "code",
   "execution_count": 194,
   "id": "336280b3-4f42-4a01-b504-0289011c5055",
   "metadata": {},
   "outputs": [
    {
     "name": "stdout",
     "output_type": "stream",
     "text": [
      "                Name Goods types Measurement unit  Group ID  \\\n",
      "0       SUBCARPATHIA         NaN              PLN         2   \n",
      "1               ŁÓDŹ         NaN              PLN         4   \n",
      "2  KUYAVIA-POMERANIA         NaN              PLN         2   \n",
      "3      LOWER SILESIA         NaN              PLN         2   \n",
      "4     WARMIA-MASURIA         NaN              PLN         2   \n",
      "\n",
      "                     Product types  Value     Date  \n",
      "0        pork ham cooked - per 1kg  21.37   2013-3  \n",
      "1                  bread - per 1kg    NaN   2018-2  \n",
      "2  barley groats sausage - per 1kg   5.55  2019-12  \n",
      "3       dressed chickens - per 1kg   9.14   2019-2  \n",
      "4    Italian head cheese - per 1kg    NaN   2002-3  \n"
     ]
    }
   ],
   "source": [
    "import pandas as pd # library import\n",
    "\n",
    "df_raw = pd.read_csv(\n",
    "    r'/Users/jeladobos/Documents/Learning/Data Analyst/5th session/Prework/Session_3_-_exercise_files/01_Data/product_prices.csv',  # path to data file\n",
    "    sep=';',  # column separator\n",
    "    decimal=','  # character separating the whole and fractional parts of a number\n",
    ")\n",
    "# we create a series that has one less row to force a NaN to be created at the next operation\n",
    "col_example2 = pd.Series(\n",
    "    range(len(col)-1)\n",
    ")\n",
    "\n",
    "df_raw['Value'] = df_raw['Value'].astype(float)\n",
    "\n",
    "df_raw['Value'] = df_raw['Value'] + col_example2\n",
    "\n",
    "print(df_raw.head())"
   ]
  },
  {
   "cell_type": "code",
   "execution_count": 66,
   "id": "e8e16818-9f11-4ec9-aedd-62dcd64bae5a",
   "metadata": {},
   "outputs": [
    {
     "data": {
      "text/plain": [
       "array(['SUBCARPATHIA', 'ŁÓDŹ', 'KUYAVIA-POMERANIA', 'LOWER SILESIA',\n",
       "       'WARMIA-MASURIA', 'HOLY CROSS', 'WEST POMERANIA', 'POLAND',\n",
       "       'PODLASKIE', 'GREATER POLAND', 'POMERANIA', 'LESSER POLAND',\n",
       "       'SILESIA', 'MASOVIA', 'LUBLIN', 'LUBUSZ', 'OPOLE'], dtype=object)"
      ]
     },
     "execution_count": 66,
     "metadata": {},
     "output_type": "execute_result"
    }
   ],
   "source": [
    "import pandas as pd # library import\n",
    "\n",
    "df_raw = pd.read_csv(\n",
    "    r'/Users/jeladobos/Documents/Learning/Data Analyst/5th session/Prework/Session_3_-_exercise_files/01_Data/product_prices.csv',  # path to data file\n",
    "    sep=';',  # column separator\n",
    "    decimal=','  # character separating the whole and fractional parts of a number\n",
    ")\n",
    "# we create a series that has one less row to force a NaN to be created at the next operation\n",
    "col_example2 = pd.Series(\n",
    "    range(len(col)-1)\n",
    ")\n",
    "df_raw['Name'].unique()"
   ]
  },
  {
   "cell_type": "code",
   "execution_count": 90,
   "id": "d5bbf952-3438-4bf4-9e74-a40f5712511f",
   "metadata": {},
   "outputs": [
    {
     "data": {
      "text/plain": [
       "2.1737464985994395"
      ]
     },
     "execution_count": 90,
     "metadata": {},
     "output_type": "execute_result"
    }
   ],
   "source": [
    "import pandas as pd # library import\n",
    "\n",
    "df_raw = pd.read_csv(\n",
    "    r'/Users/jeladobos/Documents/Learning/Data Analyst/5th session/Prework/Session_3_-_exercise_files/01_Data/raw/preserves.csv',  # path to data file\n",
    "    sep=';',  # column separator\n",
    "    decimal=','  # character separating the whole and fractional parts of a number\n",
    ")\n",
    "df_raw['Value'].mean() # determine the average price for the pickups"
   ]
  },
  {
   "cell_type": "code",
   "execution_count": 92,
   "id": "d603fe31-1a47-4e9c-b86b-188577dab0e8",
   "metadata": {},
   "outputs": [
    {
     "data": {
      "text/plain": [
       "2.783597750653647"
      ]
     },
     "execution_count": 92,
     "metadata": {},
     "output_type": "execute_result"
    }
   ],
   "source": [
    "import pandas as pd # library import\n",
    "\n",
    "df_raw = pd.read_csv(\n",
    "    r'/Users/jeladobos/Documents/Learning/Data Analyst/5th session/Prework/Session_3_-_exercise_files/01_Data/raw/preserves.csv',  # path to data file\n",
    "    sep=';',  # column separator\n",
    "    decimal=','  # character separating the whole and fractional parts of a number\n",
    ")\n",
    "df_raw['Value'].std()"
   ]
  },
  {
   "cell_type": "code",
   "execution_count": 94,
   "id": "86d3e987-5b4a-4a8f-9236-e929ecdab2da",
   "metadata": {},
   "outputs": [
    {
     "data": {
      "text/plain": [
       "1.775"
      ]
     },
     "execution_count": 94,
     "metadata": {},
     "output_type": "execute_result"
    }
   ],
   "source": [
    "import pandas as pd # library import\n",
    "\n",
    "df_raw = pd.read_csv(\n",
    "    r'/Users/jeladobos/Documents/Learning/Data Analyst/5th session/Prework/Session_3_-_exercise_files/01_Data/raw/preserves.csv',  # path to data file\n",
    "    sep=';',  # column separator\n",
    "    decimal=','  # character separating the whole and fractional parts of a number\n",
    ")\n",
    "df_raw['Value'].median()"
   ]
  },
  {
   "cell_type": "code",
   "execution_count": 96,
   "id": "10002002-8c02-47dd-8704-816ed42a0d72",
   "metadata": {},
   "outputs": [
    {
     "data": {
      "text/plain": [
       "0.00     0.000\n",
       "0.10     0.000\n",
       "0.50     1.775\n",
       "0.75     3.130\n",
       "1.00    15.590\n",
       "Name: Value, dtype: float64"
      ]
     },
     "execution_count": 96,
     "metadata": {},
     "output_type": "execute_result"
    }
   ],
   "source": [
    "import pandas as pd # library import\n",
    "\n",
    "df_raw = pd.read_csv(\n",
    "    r'/Users/jeladobos/Documents/Learning/Data Analyst/5th session/Prework/Session_3_-_exercise_files/01_Data/raw/preserves.csv',  # path to data file\n",
    "    sep=';',  # column separator\n",
    "    decimal=','  # character separating the whole and fractional parts of a number\n",
    ")\n",
    "# We determine percentile 0, 10%, 50% (median), 75% and 100% (max)\n",
    "df_raw['Value'].quantile([0, 0.1, 0.5, 0.75, 1])"
   ]
  },
  {
   "cell_type": "code",
   "execution_count": 98,
   "id": "d62c3a00-0a37-47d6-9ad0-ca7342f4c9af",
   "metadata": {},
   "outputs": [
    {
     "data": {
      "text/plain": [
       "count    1428.000000\n",
       "mean        2.173746\n",
       "std         2.783598\n",
       "min         0.000000\n",
       "25%         0.000000\n",
       "50%         1.775000\n",
       "75%         3.130000\n",
       "max        15.590000\n",
       "Name: Value, dtype: float64"
      ]
     },
     "execution_count": 98,
     "metadata": {},
     "output_type": "execute_result"
    }
   ],
   "source": [
    "import pandas as pd # library import\n",
    "\n",
    "df_raw = pd.read_csv(\n",
    "    r'/Users/jeladobos/Documents/Learning/Data Analyst/5th session/Prework/Session_3_-_exercise_files/01_Data/raw/preserves.csv',  # path to data file\n",
    "    sep=';',  # column separator\n",
    "    decimal=','  # character separating the whole and fractional parts of a number\n",
    ")\n",
    "df_raw['Value'].describe()"
   ]
  },
  {
   "cell_type": "code",
   "execution_count": 72,
   "id": "c01ba8a5-fb4c-4837-b423-45e5f4df08af",
   "metadata": {},
   "outputs": [
    {
     "name": "stdout",
     "output_type": "stream",
     "text": [
      "Data 1 mean: 0.0; std: 1.0\n",
      "Data 2 mean: 0.0; std: 67.45368781616021\n"
     ]
    }
   ],
   "source": [
    "# here we have an example of data with mean = 0\n",
    "data1 = pd.Series([-1, 0, 1])\n",
    "data2 = pd.Series([-10, -90, 0, 0, 100])\n",
    "\n",
    "\n",
    "print(\"Data 1 mean: {}; std: {}\".format(\n",
    "    data1.mean(),\n",
    "    data1.std()\n",
    "))\n",
    "\n",
    "print(\"Data 2 mean: {}; std: {}\".format(\n",
    "    data2.mean(),\n",
    "    data2.std()\n",
    "))"
   ]
  },
  {
   "cell_type": "code",
   "execution_count": 164,
   "id": "f4bce5ea-2690-48cc-b8c0-d25b1de7b9c9",
   "metadata": {},
   "outputs": [
    {
     "data": {
      "text/plain": [
       "6.615226740294512"
      ]
     },
     "execution_count": 164,
     "metadata": {},
     "output_type": "execute_result"
    }
   ],
   "source": [
    "import pandas as pd\n",
    "\n",
    "df_raw = pd.read_csv(\n",
    "    r'/Users/jeladobos/Documents/Learning/Data Analyst/5th session/Prework/Session_3_-_exercise_files/01_Data/product_prices.csv',  # path to data file\n",
    "    sep=';',\n",
    "    decimal=','\n",
    ")\n",
    "\n",
    "df_raw.columns = ['province', 'product_types', 'currency', 'group_id', 'product_line', 'value', 'date']\n",
    "\n",
    "df_raw['value'] = df_raw['value'].astype(float)\n",
    "\n",
    "df_raw['value'].mean()"
   ]
  },
  {
   "cell_type": "code",
   "execution_count": 158,
   "id": "62ec604e-bed5-42db-bebe-80c1b163e1ff",
   "metadata": {},
   "outputs": [
    {
     "data": {
      "text/plain": [
       "34.112858158207565"
      ]
     },
     "execution_count": 158,
     "metadata": {},
     "output_type": "execute_result"
    }
   ],
   "source": [
    "import pandas as pd\n",
    "\n",
    "df_raw = pd.read_csv(\n",
    "    r'/Users/jeladobos/Documents/Learning/Data Analyst/5th session/Prework/Session_3_-_exercise_files/01_Data/product_prices.csv',  # path to data file\n",
    "    sep=';',\n",
    "    decimal=','\n",
    ")\n",
    "\n",
    "df_raw.columns = ['province', 'product_types', 'currency', 'group_id', 'product_line', 'value', 'date']\n",
    "\n",
    "df_raw['value'] = df_raw['value'].astype(float)\n",
    "\n",
    "df_raw['value'].std()"
   ]
  },
  {
   "cell_type": "code",
   "execution_count": 160,
   "id": "0e903d7f-452e-4f74-af1c-33478fdb234f",
   "metadata": {},
   "outputs": [
    {
     "data": {
      "text/plain": [
       "0.0       0.00\n",
       "0.1       0.00\n",
       "0.2       0.00\n",
       "0.3       0.28\n",
       "0.4       1.55\n",
       "0.5       3.09\n",
       "0.6       5.75\n",
       "0.7       9.16\n",
       "0.8      12.73\n",
       "0.9      17.19\n",
       "1.0    3000.00\n",
       "Name: value, dtype: float64"
      ]
     },
     "execution_count": 160,
     "metadata": {},
     "output_type": "execute_result"
    }
   ],
   "source": [
    "import pandas as pd\n",
    "\n",
    "df_raw = pd.read_csv(\n",
    "    r'/Users/jeladobos/Documents/Learning/Data Analyst/5th session/Prework/Session_3_-_exercise_files/01_Data/product_prices.csv',  # path to data file\n",
    "    sep=';',\n",
    "    decimal=','\n",
    ")\n",
    "\n",
    "df_raw.columns = ['province', 'product_types', 'currency', 'group_id', 'product_line', 'value', 'date']\n",
    "\n",
    "df_raw['value'] = df_raw['value'].astype(float)\n",
    "\n",
    "df_raw['value'].quantile([0, 0.1, 0.2, 0.3, 0.4, 0.5, 0.6, 0.7, 0.8, 0.9, 1.0])"
   ]
  },
  {
   "cell_type": "code",
   "execution_count": 162,
   "id": "e8da0fea-3037-4732-aae2-2c90615daa9d",
   "metadata": {},
   "outputs": [
    {
     "data": {
      "text/plain": [
       "count    137088.000000\n",
       "mean          6.615227\n",
       "std          34.112858\n",
       "min           0.000000\n",
       "25%           0.000000\n",
       "50%           3.090000\n",
       "75%          10.920000\n",
       "max        3000.000000\n",
       "Name: value, dtype: float64"
      ]
     },
     "execution_count": 162,
     "metadata": {},
     "output_type": "execute_result"
    }
   ],
   "source": [
    "import pandas as pd\n",
    "\n",
    "df_raw = pd.read_csv(\n",
    "    r'/Users/jeladobos/Documents/Learning/Data Analyst/5th session/Prework/Session_3_-_exercise_files/01_Data/product_prices.csv',  # path to data file\n",
    "    sep=';',\n",
    "    decimal=','\n",
    ")\n",
    "\n",
    "df_raw.columns = ['province', 'product_types', 'currency', 'group_id', 'product_line', 'value', 'date']\n",
    "\n",
    "df_raw['value'] = df_raw['value'].astype(float)\n",
    "\n",
    "df_raw['value'].describe()\n"
   ]
  },
  {
   "cell_type": "code",
   "execution_count": null,
   "id": "763da29d-f4d1-468d-b5ca-70a7254255ad",
   "metadata": {},
   "outputs": [],
   "source": []
  }
 ],
 "metadata": {
  "kernelspec": {
   "display_name": "Python 3 (ipykernel)",
   "language": "python",
   "name": "python3"
  },
  "language_info": {
   "codemirror_mode": {
    "name": "ipython",
    "version": 3
   },
   "file_extension": ".py",
   "mimetype": "text/x-python",
   "name": "python",
   "nbconvert_exporter": "python",
   "pygments_lexer": "ipython3",
   "version": "3.12.4"
  }
 },
 "nbformat": 4,
 "nbformat_minor": 5
}
