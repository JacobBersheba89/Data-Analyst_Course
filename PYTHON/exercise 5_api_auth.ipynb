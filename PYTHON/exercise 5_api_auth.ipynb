{
 "cells": [
  {
   "cell_type": "markdown",
   "metadata": {},
   "source": [
    "# Exercise 5\n",
    "\n",
    "In the`classicmodels` database there is a `customers` table containing the `creditLimit` (USD amount) column. Select 10 clients with the highest `creditLimit`; display their names and `creditLimit` in the following currencies: USD (straight from the database) as well as EUR, JPY and GBP. Round the amounts to two decimal places. Retrieve the current exchange rates from [https://exchangeratesapi.io/](https://exchangeratesapi.io/).\n",
    "\n",
    "Example:\n",
    "```\n",
    "Euro+ Shopping Channel: 227600.00 USD / 187183.93EUR / 24017262.40 JPY /160578.63 GBP\n",
    "...\n",
    "```\n"
   ]
  },
  {
   "cell_type": "code",
   "execution_count": 5,
   "metadata": {},
   "outputs": [
    {
     "name": "stdout",
     "output_type": "stream",
     "text": [
      "Euro+ Shopping Channel: 227600.00 USD / 203929.60 EUR / 32501280.00 JPY / 170017.20 GBP\n",
      "Mini Gifts Distributors Ltd.: 210500.00 USD / 188608.00 EUR / 30059400.00 JPY / 157243.50 GBP\n",
      "Vida Sport, Ltd: 141300.00 USD / 126604.80 EUR / 20177640.00 JPY / 105551.10 GBP\n",
      "Muscle Machine Inc: 138500.00 USD / 124096.00 EUR / 19777800.00 JPY / 103459.50 GBP\n",
      "AV Stores, Co.: 136800.00 USD / 122572.80 EUR / 19535040.00 JPY / 102189.60 GBP\n",
      "Saveley & Henriot, Co.: 123900.00 USD / 111014.40 EUR / 17692920.00 JPY / 92553.30 GBP\n",
      "Marta's Replicas Co.: 123700.00 USD / 110835.20 EUR / 17664360.00 JPY / 92403.90 GBP\n",
      "L'ordine Souveniers: 121400.00 USD / 108774.40 EUR / 17335920.00 JPY / 90685.80 GBP\n",
      "Heintze Collectables: 120800.00 USD / 108236.80 EUR / 17250240.00 JPY / 90237.60 GBP\n",
      "Toms Spezialitäten, Ltd: 120400.00 USD / 107878.40 EUR / 17193120.00 JPY / 89938.80 GBP\n"
     ]
    }
   ],
   "source": [
    "import psycopg2\n",
    "import requests\n",
    "\n",
    "try:\n",
    "    db = psycopg2.connect(\n",
    "        user=\"postgres\",\n",
    "        password=\"C0d3rsL4b67\",\n",
    "        host=\"localhost\",\n",
    "        port=\"5432\",\n",
    "        database=\"classicmodels\"\n",
    "    )\n",
    "    \n",
    "    cursor = db.cursor()\n",
    "\n",
    "    cursor.execute(\"\"\"\n",
    "        SELECT customername, creditlimit \n",
    "        FROM customers \n",
    "        ORDER BY creditlimit DESC \n",
    "        LIMIT 10\n",
    "    \"\"\")\n",
    "    clients = cursor.fetchall()\n",
    "\n",
    "    exchange_url = \"https://api.exchangerate-api.com/v4/latest/USD\"\n",
    "    response = requests.get(exchange_url)\n",
    "\n",
    "    if response.status_code == 200:\n",
    "        rates = response.json()[\"rates\"]\n",
    "    else:\n",
    "        print(f\"Failed to retrieve exchange rates. Status code: {response.status_code}\")\n",
    "        cursor.close()\n",
    "        db.close()\n",
    "        exit()\n",
    "\n",
    "    eur_rate = rates.get(\"EUR\", 0)\n",
    "    jpy_rate = rates.get(\"JPY\", 0)\n",
    "    gbp_rate = rates.get(\"GBP\", 0)\n",
    "\n",
    "    for client in clients:\n",
    "        customer_name, credit_limit_usd = client\n",
    "        credit_limit_eur = round(credit_limit_usd * eur_rate, 2)\n",
    "        credit_limit_jpy = round(credit_limit_usd * jpy_rate, 2)\n",
    "        credit_limit_gbp = round(credit_limit_usd * gbp_rate, 2)\n",
    "\n",
    "        print(f\"{customer_name}: {credit_limit_usd:.2f} USD / {credit_limit_eur:.2f} EUR / {credit_limit_jpy:.2f} JPY / {credit_limit_gbp:.2f} GBP\")\n",
    "\n",
    "except Exception as e:\n",
    "    print(f\"Error connecting to the database: {e}\")\n",
    "finally:\n",
    "    if cursor:\n",
    "        cursor.close()\n",
    "    if db:\n",
    "        db.close()"
   ]
  },
  {
   "cell_type": "code",
   "execution_count": 11,
   "metadata": {},
   "outputs": [
    {
     "name": "stdout",
     "output_type": "stream",
     "text": [
      "Euro+ Shopping Channel: 227600.00 USD / 203929.60 EUR / 32501280.00 JPY / 170017.20 GBP\n",
      "Mini Gifts Distributors Ltd.: 210500.00 USD / 188608.00 EUR / 30059400.00 JPY / 157243.50 GBP\n",
      "Vida Sport, Ltd: 141300.00 USD / 126604.80 EUR / 20177640.00 JPY / 105551.10 GBP\n"
     ]
    }
   ],
   "source": [
    "import requests\n",
    "import psycopg2\n",
    "\n",
    "connection = psycopg2.connect(\n",
    "    user=\"postgres\",\n",
    "    password=\"C0d3rsL4b67\",\n",
    "    host=\"localhost\",\n",
    "    port=\"5432\",\n",
    "    database=\"classicmodels\"\n",
    ")\n",
    "\n",
    "cursor = connection.cursor()\n",
    "\n",
    "query = \"\"\"SELECT customerName, creditLimit FROM customers ORDER BY creditLimit DESC LIMIT 3\n",
    "\"\"\"\n",
    "\n",
    "cursor.execute(query)\n",
    "customers = cursor.fetchall()\n",
    "\n",
    "url = \"https://api.exchangerate-api.com/v4/latest/USD\"\n",
    "response = requests.get(url)\n",
    "\n",
    "if response.status_code == 200:\n",
    "    rates = response.json()[\"rates\"]\n",
    "    eur_rate = rates[\"EUR\"]\n",
    "    jpy_rate = rates[\"JPY\"]\n",
    "    gbp_rate = rates[\"GBP\"]\n",
    "\n",
    "    for customer in customers: \n",
    "        customer_name = customer[0]\n",
    "        credit_limit_usd = customer[1]\n",
    "\n",
    "        #convert\n",
    "        credit_limit_eur = round(credit_limit_usd * eur_rate, 2)\n",
    "        credit_limit_jpy = round(credit_limit_usd * jpy_rate, 2)\n",
    "        credit_limit_gbp = round(credit_limit_usd * gbp_rate, 2)\n",
    "\n",
    "        print(f\"{customer_name}: {credit_limit_usd:.2f} USD / {credit_limit_eur:.2f} EUR / {credit_limit_jpy:.2f} JPY / {credit_limit_gbp:.2f} GBP\")\n",
    "\n",
    "else: \n",
    "    print(\"Failed to retrieve exchange rates.\")\n",
    "\n",
    "cursor.close()\n",
    "connection.close()"
   ]
  },
  {
   "cell_type": "code",
   "execution_count": null,
   "metadata": {},
   "outputs": [],
   "source": []
  }
 ],
 "metadata": {
  "kernelspec": {
   "display_name": "Python 3 (ipykernel)",
   "language": "python",
   "name": "python3"
  },
  "language_info": {
   "codemirror_mode": {
    "name": "ipython",
    "version": 3
   },
   "file_extension": ".py",
   "mimetype": "text/x-python",
   "name": "python",
   "nbconvert_exporter": "python",
   "pygments_lexer": "ipython3",
   "version": "3.12.4"
  }
 },
 "nbformat": 4,
 "nbformat_minor": 4
}
