{
 "cells": [
  {
   "cell_type": "markdown",
   "metadata": {},
   "source": [
    "# Exercise 2\n",
    "\n",
    "With the `input(...)` function ask the user what currency exchange rate they are interested in.\n",
    "\n",
    "Using the `requests` library retrieve the exchange rate served by the API at [http://api.nbp.pl/api/exchangerates/rates/a/chf/](http://api.nbp.pl/api/exchangerates/rates/a/INPUT_CURRENCY/), and display it as:\n",
    "\n",
    "```\n",
    "SYMBOL (full name): ??? PLN\n",
    "```"
   ]
  },
  {
   "cell_type": "code",
   "execution_count": 1,
   "metadata": {},
   "outputs": [
    {
     "name": "stdin",
     "output_type": "stream",
     "text": [
      "Enter the currency code (e.g., CHF, USD, EUR):  EUR\n"
     ]
    },
    {
     "name": "stdout",
     "output_type": "stream",
     "text": [
      "EUR (euro): 4.2761 PLN\n"
     ]
    }
   ],
   "source": [
    "import requests\n",
    "\n",
    "# Ask the user for a currency code\n",
    "currency_code = input(\"Enter the currency code (e.g., CHF, USD, EUR): \").upper()\n",
    "\n",
    "# Construct the URL based on the currency code\n",
    "url = f\"http://api.nbp.pl/api/exchangerates/rates/a/{currency_code}/\"\n",
    "\n",
    "# Make the API request\n",
    "response = requests.get(url)\n",
    "\n",
    "# Check if the response is successful\n",
    "if response.status_code == 200:\n",
    "    # Convert the JSON response to a dictionary\n",
    "    data = response.json()\n",
    "    \n",
    "    # Extract the currency information\n",
    "    currency_name = data[\"currency\"]\n",
    "    exchange_rate = data[\"rates\"][0][\"mid\"]\n",
    "    \n",
    "    # Display the result\n",
    "    print(f\"{currency_code} ({currency_name}): {exchange_rate} PLN\")\n",
    "else:\n",
    "    print(f\"Failed to retrieve data for {currency_code}. Status code: {response.status_code}\")\n"
   ]
  },
  {
   "cell_type": "code",
   "execution_count": null,
   "metadata": {},
   "outputs": [],
   "source": []
  }
 ],
 "metadata": {
  "kernelspec": {
   "display_name": "Python 3 (ipykernel)",
   "language": "python",
   "name": "python3"
  },
  "language_info": {
   "codemirror_mode": {
    "name": "ipython",
    "version": 3
   },
   "file_extension": ".py",
   "mimetype": "text/x-python",
   "name": "python",
   "nbconvert_exporter": "python",
   "pygments_lexer": "ipython3",
   "version": "3.12.4"
  }
 },
 "nbformat": 4,
 "nbformat_minor": 4
}
