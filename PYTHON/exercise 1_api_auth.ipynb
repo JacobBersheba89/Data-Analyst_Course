{
 "cells": [
  {
   "cell_type": "markdown",
   "metadata": {},
   "source": [
    "# Exercise 1\n",
    "\n",
    "Get familiar with the [/weather endpoint documentation](https://openweathermap.org/current#name).\n",
    "\n",
    "Write a `get_weather` function that takes three arguments:\n",
    "- `city` - name of the city, **required**,\n",
    "- `state` - name of the state/province, optional,\n",
    "- `country` - name of the country, optional.\n",
    "\n",
    "In the function use the API [https://openweathermap.org](openweathermap.org) to check current weather. Use all available information (`city`, `state`, `country`) in the request in such a way that the function still works if only `city` or `city` and `country` is passed.\n",
    "\n",
    "The function should return a short name of the weather: `\"Clouds\"`, `\"Rain\"`, `\"Clear\"` - read it from the JSON returned by the server.\n",
    "\n",
    "Remember to pass `appid`.\n"
   ]
  },
  {
   "cell_type": "code",
   "execution_count": 11,
   "metadata": {},
   "outputs": [
    {
     "name": "stdout",
     "output_type": "stream",
     "text": [
      "Weather for Warsaw: Clouds\n",
      "Warsaw once again: Clouds\n"
     ]
    }
   ],
   "source": [
    "import requests\n",
    "\n",
    "def get_weather(city, state=None, country=None):\n",
    "    appid = \"5052fd190cc4baef6464d573e76fb0c2\"\n",
    "\n",
    "    if state and country:\n",
    "        query = f\"{city},{state},{country}\"\n",
    "    elif country:\n",
    "        query = f\"{city},{country}\"\n",
    "    elif state:\n",
    "        query = f\"{city},{state}\"\n",
    "    else:\n",
    "        query = city\n",
    "\n",
    "    url = f\"https://api.openweathermap.org/data/2.5/weather?q={query}&appid={appid}&units=metric\"\n",
    "\n",
    "    response = requests.get(url)\n",
    "\n",
    "    if response.status_code == 200:\n",
    "        data = response.json()\n",
    "        weather_description = data[\"weather\"][0][\"main\"]\n",
    "        return weather_description\n",
    "    else:\n",
    "        print(f\"Error fetching weather data: {response.status_code} - {response.text}\")\n",
    "        return None\n",
    "\n",
    "weather = get_weather(\"Warszawa\")\n",
    "if weather:\n",
    "    print(\"Weather for Warsaw:\", get_weather(\"Warszawa\", \"Mazowieckie\", \"Polska\"))\n",
    "    print(\"Warsaw once again:\", get_weather(\"Warszawa\"))"
   ]
  },
  {
   "cell_type": "code",
   "execution_count": 13,
   "metadata": {},
   "outputs": [],
   "source": [
    "import requests\n",
    "\n",
    "def get_weather(city, state = None, country = None):\n",
    "\n",
    "    api_key = '5052fd190cc4baef6464d573e76fb0c2'\n",
    "\n",
    "    url = f\"http://api.openweathermap.org/data/2.5/weather?q={location}&appid={api_key}\"\n",
    "\n",
    "    location = city\n",
    "    if state: \n",
    "        location += f\", {state}\"\n",
    "    if country:\n",
    "        location += f\", {country}\"\n",
    "\n",
    "    params = {\n",
    "        'q' : location, \n",
    "        'appid': api_key\n",
    "    }\n",
    "\n",
    "    response = requests.get(url, params = params)\n",
    "\n",
    "    if response.status_code == 200:\n",
    "        data = response.json()\n",
    "        print(data)\n",
    "    else:\n",
    "        return \"Error\""
   ]
  },
  {
   "cell_type": "code",
   "execution_count": 25,
   "metadata": {},
   "outputs": [
    {
     "name": "stdin",
     "output_type": "stream",
     "text": [
      "Enter the city:  Warsaw\n",
      "Enter the state (optional):  \n",
      "Enter the country (optional):  \n"
     ]
    },
    {
     "name": "stdout",
     "output_type": "stream",
     "text": [
      "The current weather in the Warsaw is: Clouds\n"
     ]
    }
   ],
   "source": [
    "import requests\n",
    "\n",
    "def get_weather(city, state = None, country = None):\n",
    "\n",
    "    api_key = '5052fd190cc4baef6464d573e76fb0c2'\n",
    "    location = city\n",
    "    url = f\"http://api.openweathermap.org/data/2.5/weather?q={location}&appid={api_key}\"\n",
    "\n",
    "    if state: \n",
    "        location += f\", {state}\"\n",
    "    if country:\n",
    "        location += f\", {country}\"\n",
    "\n",
    "    params = {\n",
    "        'q' : location, \n",
    "        'appid': api_key\n",
    "    }\n",
    "\n",
    "    response = requests.get(url, params = params)\n",
    "\n",
    "    if response.status_code == 200:\n",
    "        data = response.json()\n",
    "        weather_description = data['weather'][0]['main']\n",
    "        return weather_description\n",
    "    else:\n",
    "        return \"Error\"\n",
    "\n",
    "city = input(\"Enter the city: \")\n",
    "state = input(\"Enter the state (optional): \")\n",
    "country = input(\"Enter the country (optional): \")\n",
    "\n",
    "weather = get_weather(city, state or None, country or None)\n",
    "print(f\"The current weather in the {city} is: {weather}\")"
   ]
  },
  {
   "cell_type": "code",
   "execution_count": 27,
   "metadata": {},
   "outputs": [
    {
     "name": "stdin",
     "output_type": "stream",
     "text": [
      "Enter the city:  Warsaw\n",
      "Enter the state (optional):  \n",
      "Enter the country (optional):  \n"
     ]
    },
    {
     "name": "stdout",
     "output_type": "stream",
     "text": [
      "The current weather in the Warsaw is: Clouds\n"
     ]
    }
   ],
   "source": [
    "import requests\n",
    "\n",
    "def get_weather(city, state = None, country = None):\n",
    "\n",
    "    api_key = '5052fd190cc4baef6464d573e76fb0c2'\n",
    "    location = city\n",
    "    url = f\"http://api.openweathermap.org/data/2.5/weather?q={location}&appid={api_key}\"\n",
    "\n",
    "    if state: \n",
    "        location += f\", {state}\"\n",
    "    if country:\n",
    "        location += f\", {country}\"\n",
    "\n",
    "    params = {\n",
    "        'q' : location, \n",
    "        'appid': api_key\n",
    "    }\n",
    "\n",
    "    response = requests.get(url, params = params)\n",
    "\n",
    "    if response.status_code == 200:\n",
    "        data = response.json()\n",
    "        weather_description = data['weather'][0]['main']\n",
    "        return weather_description\n",
    "    else:\n",
    "        return \"Error\"\n",
    "\n",
    "city = input(\"Enter the city: \")\n",
    "state = input(\"Enter the state (optional): \")\n",
    "country = input(\"Enter the country (optional): \")\n",
    "\n",
    "weather = get_weather(city, state or None, country or None)\n",
    "print(f\"The current weather in the {city} is: {weather}\")"
   ]
  },
  {
   "cell_type": "code",
   "execution_count": null,
   "metadata": {},
   "outputs": [],
   "source": []
  }
 ],
 "metadata": {
  "kernelspec": {
   "display_name": "Python 3 (ipykernel)",
   "language": "python",
   "name": "python3"
  },
  "language_info": {
   "codemirror_mode": {
    "name": "ipython",
    "version": 3
   },
   "file_extension": ".py",
   "mimetype": "text/x-python",
   "name": "python",
   "nbconvert_exporter": "python",
   "pygments_lexer": "ipython3",
   "version": "3.12.4"
  }
 },
 "nbformat": 4,
 "nbformat_minor": 4
}
