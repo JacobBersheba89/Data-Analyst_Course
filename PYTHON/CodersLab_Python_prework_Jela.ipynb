{
 "cells": [
  {
   "cell_type": "markdown",
   "id": "596945e4-cbfc-4007-b19a-5d27bb95f7c4",
   "metadata": {},
   "source": [
    "Welcome to the world of python!"
   ]
  },
  {
   "cell_type": "code",
   "execution_count": 4,
   "id": "905c8951-6175-40e9-8fc5-76247db80405",
   "metadata": {},
   "outputs": [
    {
     "name": "stdout",
     "output_type": "stream",
     "text": [
      "Hello world!\n"
     ]
    }
   ],
   "source": [
    "print('Hello world!')"
   ]
  },
  {
   "cell_type": "code",
   "execution_count": 1,
   "id": "a93bbc6d-8543-49e6-8f57-fdd5a3eb7c8d",
   "metadata": {},
   "outputs": [
    {
     "name": "stdout",
     "output_type": "stream",
     "text": [
      "My name is Jakub.\n"
     ]
    }
   ],
   "source": [
    "print('My name is Jakub.')"
   ]
  },
  {
   "cell_type": "code",
   "execution_count": 3,
   "id": "5cb93ca5-fe4f-4bcd-8d29-ac0a1af5213e",
   "metadata": {},
   "outputs": [
    {
     "data": {
      "text/plain": [
       "5"
      ]
     },
     "execution_count": 3,
     "metadata": {},
     "output_type": "execute_result"
    }
   ],
   "source": [
    "2+3"
   ]
  },
  {
   "cell_type": "code",
   "execution_count": 5,
   "id": "fc6632c4-1ea7-47cc-a072-df4702414636",
   "metadata": {},
   "outputs": [
    {
     "data": {
      "text/plain": [
       "2.5"
      ]
     },
     "execution_count": 5,
     "metadata": {},
     "output_type": "execute_result"
    }
   ],
   "source": [
    "10/4"
   ]
  },
  {
   "cell_type": "code",
   "execution_count": 7,
   "id": "2e478e41-cca3-46df-ba5c-480fa19fbd44",
   "metadata": {},
   "outputs": [
    {
     "data": {
      "text/plain": [
       "60"
      ]
     },
     "execution_count": 7,
     "metadata": {},
     "output_type": "execute_result"
    }
   ],
   "source": [
    "30*2"
   ]
  },
  {
   "cell_type": "code",
   "execution_count": 12,
   "id": "6ec4283d-e205-417d-8290-f3d45cd31e3e",
   "metadata": {},
   "outputs": [
    {
     "data": {
      "text/plain": [
       "'Hello World'"
      ]
     },
     "execution_count": 12,
     "metadata": {},
     "output_type": "execute_result"
    }
   ],
   "source": [
    "\"Hello World\""
   ]
  },
  {
   "cell_type": "code",
   "execution_count": 15,
   "id": "9a43b84e-3aa9-4f8f-b410-1dd07ce94d67",
   "metadata": {},
   "outputs": [
    {
     "data": {
      "text/plain": [
       "'Hello World'"
      ]
     },
     "execution_count": 15,
     "metadata": {},
     "output_type": "execute_result"
    }
   ],
   "source": [
    "'Hello World'"
   ]
  },
  {
   "cell_type": "code",
   "execution_count": 17,
   "id": "b1a5c09e-36cd-48b8-8ed1-25f16c1addc0",
   "metadata": {},
   "outputs": [
    {
     "data": {
      "text/plain": [
       "2"
      ]
     },
     "execution_count": 17,
     "metadata": {},
     "output_type": "execute_result"
    }
   ],
   "source": [
    "2"
   ]
  },
  {
   "cell_type": "code",
   "execution_count": 19,
   "id": "49c6c1f6-f332-403c-a48b-891b2e07cbe7",
   "metadata": {},
   "outputs": [
    {
     "ename": "NameError",
     "evalue": "name 'hello' is not defined",
     "output_type": "error",
     "traceback": [
      "\u001b[0;31m---------------------------------------------------------------------------\u001b[0m",
      "\u001b[0;31mNameError\u001b[0m                                 Traceback (most recent call last)",
      "Cell \u001b[0;32mIn[19], line 1\u001b[0m\n\u001b[0;32m----> 1\u001b[0m hello\n",
      "\u001b[0;31mNameError\u001b[0m: name 'hello' is not defined"
     ]
    }
   ],
   "source": [
    "hello"
   ]
  },
  {
   "cell_type": "code",
   "execution_count": 31,
   "id": "dc0f41ee-caea-4036-b17b-e818a8f85892",
   "metadata": {},
   "outputs": [
    {
     "name": "stdout",
     "output_type": "stream",
     "text": [
      "variable 13 of the <class 'int'> type.\n",
      "variable 1.23457 of the <class 'float'> type.\n",
      "variable 'I am here!' of the <class 'str'> type.\n",
      "variable 'I am not leaving so soon!' of the <class 'str'> type.\n",
      "variable False of the <class 'bool'> type.\n"
     ]
    }
   ],
   "source": [
    "# An integer\n",
    "integer_variable = 13\n",
    "# A floating point number\n",
    "float_variable = 1.23457\n",
    "# A string\n",
    "string_variable = 'I am here!'\n",
    "# A multi-line string\n",
    "multiline_string_variable = '''I am not leaving so soon!'''\n",
    "# A boolean value\n",
    "boolean_variable = False\n",
    "# Display each variable in the format\n",
    "print(f\"variable {integer_variable} of the {type(integer_variable)} type.\")\n",
    "print(f\"variable {float_variable} of the {type(float_variable)} type.\")\n",
    "print(f\"variable '{string_variable}' of the {type(string_variable)} type.\")\n",
    "print(f\"variable '{multiline_string_variable}' of the {type(multiline_string_variable)} type.\")\n",
    "print(f\"variable {boolean_variable} of the {type(boolean_variable)} type.\")"
   ]
  },
  {
   "cell_type": "code",
   "execution_count": 41,
   "id": "2f15426f-7ab4-4c22-aa9c-a705a009b580",
   "metadata": {},
   "outputs": [
    {
     "name": "stdout",
     "output_type": "stream",
     "text": [
      "variable add1: 6 of the <class 'int'> type.\n",
      "variable add2: 3.3 of the <class 'float'> type.\n",
      "variable sum_value: 9.3 of the <class 'float'> type.\n"
     ]
    }
   ],
   "source": [
    "# Create variables\n",
    "add1 = 6 #integer\n",
    "add2 = 3.3 #float\n",
    "# Calculate the sum of add1 and add2\n",
    "sum_value = add1 + add2\n",
    "# Display each variable in the format\n",
    "print(\"variable add1:\", add1, \"of the\", type(add1), \"type.\")\n",
    "print(\"variable add2:\", add2, \"of the\", type(add2), \"type.\")\n",
    "print(\"variable sum_value:\", sum_value, \"of the\", type(sum_value), \"type.\")"
   ]
  },
  {
   "cell_type": "code",
   "execution_count": 49,
   "id": "06ec9525-fe7b-46d6-a19f-e6d8aeef0225",
   "metadata": {},
   "outputs": [
    {
     "name": "stdout",
     "output_type": "stream",
     "text": [
      "variable 13 of the <class 'int'> type.\n",
      "variable 1.23457 of the <class 'float'> type.\n",
      "variable I am here! of the <class 'str'> type.\n",
      "variable I am not \n",
      "leaving so \n",
      "soon! of the <class 'str'> type.\n",
      "variable False of the <class 'bool'> type.\n"
     ]
    }
   ],
   "source": [
    "# An integer\n",
    "integer_variable = 13\n",
    "# A floating point number\n",
    "float_variable = 1.23457\n",
    "# A string\n",
    "string_variable = 'I am here!'\n",
    "# A multi-line string\n",
    "multiline_string_variable = '''I am not \n",
    "leaving so \n",
    "soon!'''\n",
    "# A boolean value\n",
    "boolean_variable = True\n",
    "# Display each variable in the format\n",
    "print(\"variable\", integer_variable, \"of the\", type(integer_variable), \"type.\")\n",
    "print(\"variable\", float_variable, \"of the\", type(float_variable), \"type.\")\n",
    "print(\"variable\", string_variable, \"of the\", type(string_variable), \"type.\")\n",
    "print(\"variable\", multiline_string_variable, \"of the\", type(multiline_string_variable), \"type.\")\n",
    "print(\"variable\", boolean_variable, \"of the\", type(boolean_variable), \"type.\")"
   ]
  },
  {
   "cell_type": "code",
   "execution_count": 53,
   "id": "756ba35c-2fd3-430e-9871-1c73445dc138",
   "metadata": {},
   "outputs": [
    {
     "name": "stdout",
     "output_type": "stream",
     "text": [
      "variable a: 10 of the <class 'int'> type.\n",
      "variable b: 15 of the <class 'int'> type.\n",
      "variable sum_value: 25 of the <class 'int'> type.\n",
      "variable quotus: 1.5 of the <class 'float'> type.\n",
      "variable int_part: 1 of the <class 'int'> type.\n"
     ]
    }
   ],
   "source": [
    "a = 10\n",
    "b = 15\n",
    "sum_value = a + b\n",
    "quotus = b / a\n",
    "int_part = int(quotus)\n",
    "print(\"variable a:\", a, \"of the\", type(a), \"type.\")\n",
    "print(\"variable b:\", b, \"of the\", type(b), \"type.\")\n",
    "print(\"variable sum_value:\", sum_value, \"of the\", type(sum_value), \"type.\")\n",
    "print(\"variable quotus:\", quotus, \"of the\", type(quotus), \"type.\")\n",
    "print(\"variable int_part:\", int_part, \"of the\", type(int_part), \"type.\")"
   ]
  },
  {
   "cell_type": "code",
   "execution_count": 61,
   "id": "870979d9-5f29-4591-b0ef-973bbe3f82b9",
   "metadata": {},
   "outputs": [
    {
     "name": "stdout",
     "output_type": "stream",
     "text": [
      "Empty list: []\n",
      "after Unicorn: ['Unicorn']\n",
      "after Griffin: ['Unicorn', 'Griffin']\n",
      "after Pegasus: ['Unicorn', 'Griffin', 'Pegasus']\n"
     ]
    }
   ],
   "source": [
    "animals = []\n",
    "print(\"Empty list:\", animals)\n",
    "animals.append(\"Unicorn\")\n",
    "print(\"after Unicorn:\", animals)\n",
    "animals.append(\"Griffin\")\n",
    "print(\"after Griffin:\", animals)\n",
    "animals.append(\"Pegasus\")\n",
    "print(\"after Pegasus:\", animals)"
   ]
  },
  {
   "cell_type": "code",
   "execution_count": 63,
   "id": "709bf8f4-64a4-4a40-98b7-083c49828d23",
   "metadata": {},
   "outputs": [
    {
     "name": "stdout",
     "output_type": "stream",
     "text": [
      "Fifth array element: Python\n",
      "First array element: is\n",
      "Third array element from the end: fun\n"
     ]
    }
   ],
   "source": [
    "words = ['is', 'wrong', 'dough', 'correspondence', 'Python', 'snake', 'tolerate', 'conflict',\n",
    "'chase', 'begin', 'fun','confidence', 'beat']\n",
    "print(\"Fifth array element:\", words[4])\n",
    "print(\"First array element:\", words[0])\n",
    "print(\"Third array element from the end:\", words[-3])"
   ]
  },
  {
   "cell_type": "code",
   "execution_count": 67,
   "id": "e8bc53bf-5547-4ce4-9ee5-f0c352b3f8e2",
   "metadata": {},
   "outputs": [
    {
     "name": "stdout",
     "output_type": "stream",
     "text": [
      "Jakub Pawlas is a Python programmer!\n"
     ]
    }
   ],
   "source": [
    "name = \"Jakub\"\n",
    "surname = \"Pawlas\"\n",
    "print(name, surname, \"is a Python programmer!\")"
   ]
  },
  {
   "cell_type": "code",
   "execution_count": 1,
   "id": "1c0d906b-dd6e-4b38-a9b0-40976efef5a1",
   "metadata": {},
   "outputs": [
    {
     "name": "stdin",
     "output_type": "stream",
     "text": [
      "What is your name?  Jakub\n"
     ]
    }
   ],
   "source": [
    "user_name = input(\"What is your name? \")"
   ]
  },
  {
   "cell_type": "code",
   "execution_count": 3,
   "id": "548928bf-9acb-46d1-bc55-8a58d7ed9dcb",
   "metadata": {},
   "outputs": [
    {
     "name": "stdin",
     "output_type": "stream",
     "text": [
      "What is your surname?  Dobosova\n"
     ]
    }
   ],
   "source": [
    "user_surname = input(\"What is your surname? \")"
   ]
  },
  {
   "cell_type": "code",
   "execution_count": 5,
   "id": "2c474a30-fadb-487f-a2b5-9b6890ac65eb",
   "metadata": {},
   "outputs": [
    {
     "name": "stdout",
     "output_type": "stream",
     "text": [
      "Jakub Dobosova is a Python programmer!\n"
     ]
    }
   ],
   "source": [
    "print(user_name + \" \" + user_surname + \" is a Python programmer!\")"
   ]
  },
  {
   "cell_type": "code",
   "execution_count": 7,
   "id": "0e9520fd-c23d-4f3d-a09e-ad351ea38b00",
   "metadata": {},
   "outputs": [
    {
     "name": "stdin",
     "output_type": "stream",
     "text": [
      "What is your name?  Jakub\n",
      "What is your surname?  Dobosova\n"
     ]
    },
    {
     "name": "stdout",
     "output_type": "stream",
     "text": [
      "Jakub Dobosova is a Python programmer!\n"
     ]
    }
   ],
   "source": [
    "user_name = input(\"What is your name? \")\n",
    "user_surname = input(\"What is your surname? \")\n",
    "print(user_name + \" \" + user_surname + \" is a Python programmer!\")"
   ]
  },
  {
   "cell_type": "code",
   "execution_count": 11,
   "id": "07febc1a-4ae0-4234-b952-99c1a20f0506",
   "metadata": {},
   "outputs": [
    {
     "name": "stdout",
     "output_type": "stream",
     "text": [
      "a b c d e\n"
     ]
    }
   ],
   "source": [
    "letters = [\"a\", \"b\", \"c\", \"d\", \"e\"]\n",
    "result = \" \".join(letters)\n",
    "print(result)"
   ]
  },
  {
   "cell_type": "code",
   "execution_count": 15,
   "id": "0deb7e73-b502-4fbf-83b5-7f9e0bcd2cf3",
   "metadata": {},
   "outputs": [
    {
     "name": "stdout",
     "output_type": "stream",
     "text": [
      "The modulo result is 1\n"
     ]
    }
   ],
   "source": [
    "no1 = 19\n",
    "no2 = 6\n",
    "modulo_result = no1 % no2\n",
    "print(\"The modulo result is\", modulo_result) "
   ]
  },
  {
   "cell_type": "code",
   "execution_count": 21,
   "id": "adc877cc-8595-4092-83ee-29839364df58",
   "metadata": {},
   "outputs": [
    {
     "name": "stdout",
     "output_type": "stream",
     "text": [
      "145\n",
      "146\n",
      "145\n"
     ]
    }
   ],
   "source": [
    "counter = 145\n",
    "print(counter)\n",
    "counter += 1\n",
    "print(counter)\n",
    "counter -= 1\n",
    "print(counter)"
   ]
  },
  {
   "cell_type": "code",
   "execution_count": 23,
   "id": "abcc51ad-50ff-4b98-b839-1c499715a231",
   "metadata": {},
   "outputs": [
    {
     "name": "stdout",
     "output_type": "stream",
     "text": [
      "False\n"
     ]
    }
   ],
   "source": [
    "print(10==16)"
   ]
  },
  {
   "cell_type": "code",
   "execution_count": 25,
   "id": "5881815a-b8e1-426e-ad76-895c4303f32c",
   "metadata": {},
   "outputs": [
    {
     "name": "stdout",
     "output_type": "stream",
     "text": [
      "True\n"
     ]
    }
   ],
   "source": [
    "result = 10<16\n",
    "print(result)"
   ]
  },
  {
   "cell_type": "code",
   "execution_count": 27,
   "id": "87d1f7ba-d879-4720-be6d-b034194be4ff",
   "metadata": {},
   "outputs": [
    {
     "name": "stdout",
     "output_type": "stream",
     "text": [
      "False\n"
     ]
    }
   ],
   "source": [
    "no1 = 19\n",
    "no2 = 6\n",
    "result = no1<no2\n",
    "print(result)"
   ]
  },
  {
   "cell_type": "code",
   "execution_count": 29,
   "id": "a3573af8-a3c4-4c5c-a4fa-0902c3ef7e90",
   "metadata": {},
   "outputs": [
    {
     "name": "stdout",
     "output_type": "stream",
     "text": [
      "The father is 33 years older than the child.\n"
     ]
    }
   ],
   "source": [
    "father = 1974\n",
    "child = 2007\n",
    "difference = child - father\n",
    "print(f\"The father is {difference} years older than the child.\")"
   ]
  },
  {
   "cell_type": "code",
   "execution_count": 31,
   "id": "9acdfd59-1e4e-485f-b07b-de3396a98dde",
   "metadata": {},
   "outputs": [
    {
     "name": "stdout",
     "output_type": "stream",
     "text": [
      "11:7=1.57\n"
     ]
    }
   ],
   "source": [
    "result = 11/7\n",
    "rounded_result = round(result, 2)\n",
    "print(f\"11:7={rounded_result}\")"
   ]
  },
  {
   "cell_type": "code",
   "execution_count": 35,
   "id": "3798160c-6b38-477f-a86c-2a9c3552296f",
   "metadata": {},
   "outputs": [
    {
     "name": "stdin",
     "output_type": "stream",
     "text": [
      "Enter your name:  Jakub\n",
      "Enter you birth year:  1984\n"
     ]
    },
    {
     "name": "stdout",
     "output_type": "stream",
     "text": [
      "User: Jakub is 40 years old.\n"
     ]
    }
   ],
   "source": [
    "user_name = input(\"Enter your name: \")\n",
    "user_birthyear = input(\"Enter you birth year: \")\n",
    "user_birthyear = int(user_birthyear)\n",
    "current_year = 2024\n",
    "age = current_year - user_birthyear\n",
    "print(f\"User: {user_name} is {age} years old.\")"
   ]
  },
  {
   "cell_type": "code",
   "execution_count": 41,
   "id": "d7c12485-5953-47ab-bbd4-7c852db3989c",
   "metadata": {},
   "outputs": [
    {
     "name": "stdout",
     "output_type": "stream",
     "text": [
      "I'm a Pyth0n pro0gramm3r!\n",
      "I'm a Pyth0n pro0gramm3r!\n",
      "I'm a Pyth0n pro0gramm3r!\n",
      "I'm a Pyth0n pro0gramm3r!\n",
      "I'm a Pyth0n pro0gramm3r!\n",
      "I'm a Pyth0n pro0gramm3r!\n",
      "I'm a Pyth0n pro0gramm3r!\n",
      "I'm a Pyth0n pro0gramm3r!\n",
      "I'm a Pyth0n pro0gramm3r!\n",
      "I'm a Pyth0n pro0gramm3r!\n"
     ]
    }
   ],
   "source": [
    "counter = 0\n",
    "while counter < 10:\n",
    "    print(\"I'm a Pyth0n pro0gramm3r!\")\n",
    "    counter += 1"
   ]
  },
  {
   "cell_type": "code",
   "execution_count": 43,
   "id": "fc90e139-2cc1-4f4a-932f-45288cb8ea8e",
   "metadata": {},
   "outputs": [
    {
     "name": "stdout",
     "output_type": "stream",
     "text": [
      "2^0 = 1\n",
      "2^1 = 2\n",
      "2^2 = 4\n",
      "2^3 = 8\n",
      "2^4 = 16\n",
      "2^5 = 32\n",
      "2^6 = 64\n",
      "2^7 = 128\n",
      "2^8 = 256\n",
      "2^9 = 512\n",
      "2^10 = 1024\n"
     ]
    }
   ],
   "source": [
    "for exponent in range(11):\n",
    "    result = 2 ** exponent\n",
    "    print(f\"2^{exponent} = {result}\")"
   ]
  },
  {
   "cell_type": "code",
   "execution_count": 47,
   "id": "ece84d4d-5ad1-4738-8841-9198ebebd094",
   "metadata": {},
   "outputs": [
    {
     "name": "stdin",
     "output_type": "stream",
     "text": [
      "Enter your first name:  Jakub\n",
      "Enter your second name:  None\n"
     ]
    },
    {
     "name": "stdout",
     "output_type": "stream",
     "text": [
      "Different\n"
     ]
    }
   ],
   "source": [
    "first_name = input(\"Enter your first name: \")\n",
    "second_name = input(\"Enter your second name: \")\n",
    "if first_name == second_name:\n",
    "    print(\"The same\")\n",
    "else:\n",
    "    print(\"Different\")"
   ]
  },
  {
   "cell_type": "code",
   "execution_count": 49,
   "id": "25a363c9-de4b-417f-86fa-e99a995e5445",
   "metadata": {},
   "outputs": [
    {
     "name": "stdin",
     "output_type": "stream",
     "text": [
      "Enter number:  1\n",
      "Enter diffeerent number:  2\n"
     ]
    },
    {
     "name": "stdout",
     "output_type": "stream",
     "text": [
      "b is greater!\n"
     ]
    }
   ],
   "source": [
    "a = input(\"Enter number: \")\n",
    "b = input(\"Enter diffeerent number: \")\n",
    "a = float(a)\n",
    "b = float(b)\n",
    "if a > b:\n",
    "    print(\"a is greater!\")\n",
    "elif a < b:\n",
    "    print(\"b is greater!\")\n",
    "else:\n",
    "    print(\"Both numbers are equal!\")"
   ]
  },
  {
   "cell_type": "code",
   "execution_count": 7,
   "id": "c3fafff3-67c6-41cc-9acd-a41063a3f579",
   "metadata": {},
   "outputs": [
    {
     "name": "stdout",
     "output_type": "stream",
     "text": [
      "The equation: a*x**2 + b*x + c == 0\n"
     ]
    },
    {
     "name": "stdin",
     "output_type": "stream",
     "text": [
      "Enter the coefficient a:  9\n",
      "Enter the coefficient b:  -5\n",
      "Enter the coefficient c:  2\n"
     ]
    },
    {
     "name": "stdout",
     "output_type": "stream",
     "text": [
      "The quadratic equation has no real roots.\n"
     ]
    }
   ],
   "source": [
    "print(\"The equation: a*x**2 + b*x + c == 0\")\n",
    "a = float(input(\"Enter the coefficient a: \"))\n",
    "b = float(input(\"Enter the coefficient b: \"))\n",
    "c = float(input(\"Enter the coefficient c: \"))\n",
    "delta = b**2 - 4*a*c\n",
    "if delta > 0:\n",
    "    x1 = (-b + math.sqrt(delta)) / (2 * a)\n",
    "    x2 = (-b - math.sqrt(delta)) / (2 * a)\n",
    "    print(\"Roots of quadratic equation\")\n",
    "    print(f\"x_1 = {x1}\")\n",
    "    print(f\"x_2 = {x2}\")\n",
    "elif delta == 0:\n",
    "    x1 = x2 = -b / (2 * a)\n",
    "    print(\"Roots of quadratic equation\")\n",
    "    print(f\"x_1 = x_2 = {x1}\")\n",
    "else:\n",
    "    print(\"The quadratic equation has no real roots.\")"
   ]
  },
  {
   "cell_type": "code",
   "execution_count": 11,
   "id": "e87e2171-e5a4-4205-8856-ebf9d7aa788c",
   "metadata": {},
   "outputs": [
    {
     "name": "stdin",
     "output_type": "stream",
     "text": [
      "Enter a natural number n:  27902872\n"
     ]
    },
    {
     "name": "stdout",
     "output_type": "stream",
     "text": [
      "389285146875628\n"
     ]
    }
   ],
   "source": [
    "n = int(input(\"Enter a natural number n: \"))\n",
    "total_sum = 0\n",
    "for i in range(n + 1):\n",
    "    total_sum += i\n",
    "print(total_sum)"
   ]
  },
  {
   "cell_type": "code",
   "execution_count": 13,
   "id": "d600e9bf-d204-4ac8-b58b-06cd37d36e7d",
   "metadata": {},
   "outputs": [
    {
     "name": "stdin",
     "output_type": "stream",
     "text": [
      "Enter a natural number n:  0398739\n"
     ]
    },
    {
     "name": "stdout",
     "output_type": "stream",
     "text": [
      "79496594430\n"
     ]
    }
   ],
   "source": [
    "n = int(input(\"Enter a natural number n: \"))\n",
    "total_sum = sum(range(n + 1))\n",
    "print(total_sum)"
   ]
  },
  {
   "cell_type": "code",
   "execution_count": 15,
   "id": "e3a67bce-713f-44c3-9e2d-3a06087737a9",
   "metadata": {},
   "outputs": [
    {
     "name": "stdout",
     "output_type": "stream",
     "text": [
      "Entered numbers: [5, 6, 7, 12, 13, 39]\n",
      "Sum: 82,\n",
      "Average: 13.67\n",
      "The sum is greater!\n"
     ]
    }
   ],
   "source": [
    "numbers = [5, 6, 7, 12, 13, 39]\n",
    "total_sum = sum(numbers)\n",
    "average = total_sum / len(numbers)\n",
    "print(f\"Entered numbers: {numbers}\")\n",
    "print(f\"Sum: {total_sum},\")\n",
    "print(f\"Average: {average:.2f}\")\n",
    "if total_sum > average:\n",
    "    print(\"The sum is greater!\")\n",
    "elif total_sum < average:\n",
    "    print(\"The average is greater!\")\n",
    "else:\n",
    "    print(\"The sum and the average are equal!\")"
   ]
  },
  {
   "cell_type": "code",
   "execution_count": 17,
   "id": "9fddf000-08b2-40c2-9949-0cf808b40996",
   "metadata": {},
   "outputs": [
    {
     "name": "stdout",
     "output_type": "stream",
     "text": [
      "Is 'cat' < 'dog'? True\n"
     ]
    }
   ],
   "source": [
    "animal_1 = \"cat\"\n",
    "animal_2 = \"dog\"\n",
    "comparison = animal_1 < animal_2\n",
    "print(f\"Is '{animal_1}' < '{animal_2}'? {comparison}\")"
   ]
  },
  {
   "cell_type": "code",
   "execution_count": 19,
   "id": "f33dbaea-1750-4cb1-9f01-bc9a29b4e996",
   "metadata": {},
   "outputs": [
    {
     "name": "stdout",
     "output_type": "stream",
     "text": [
      "Number: 2\n",
      "Number: 4\n",
      "Number: 6\n",
      "Number: 8\n",
      "Number: 10\n",
      "Number: 12\n",
      "Number: 14\n",
      "Number: 16\n",
      "Number: 18\n",
      "Number: 20\n",
      "Number: 22\n",
      "Number: 24\n",
      "Number: 26\n",
      "Number: 28\n",
      "Number: 30\n",
      "Number: 32\n",
      "Number: 34\n",
      "Number: 36\n",
      "Number: 38\n",
      "Number: 40\n",
      "Number: 42\n",
      "Number: 44\n",
      "Number: 46\n",
      "Number: 48\n",
      "Number: 50\n",
      "Number: 52\n",
      "Number: 54\n",
      "Number: 56\n",
      "Number: 58\n",
      "Number: 60\n",
      "Number: 62\n",
      "Number: 64\n",
      "Number: 66\n",
      "Number: 68\n",
      "Number: 70\n",
      "Number: 72\n",
      "Number: 74\n",
      "Number: 76\n",
      "Number: 78\n",
      "Number: 80\n",
      "Number: 82\n",
      "Number: 84\n",
      "Number: 86\n",
      "Number: 88\n",
      "Number: 90\n",
      "Number: 92\n",
      "Number: 94\n",
      "Number: 96\n",
      "Number: 98\n"
     ]
    }
   ],
   "source": [
    "even_numbers = list(range(2, 100, 2))\n",
    "for number in even_numbers:\n",
    "    print(f\"Number: {number}\")"
   ]
  },
  {
   "cell_type": "code",
   "execution_count": 23,
   "id": "53909a85-68a8-424c-a36c-f82730dc3a7c",
   "metadata": {},
   "outputs": [
    {
     "name": "stdin",
     "output_type": "stream",
     "text": [
      "Give a number:  2\n"
     ]
    },
    {
     "name": "stdout",
     "output_type": "stream",
     "text": [
      "Multiplication for 2:\n",
      "2 x 1 = 2\n",
      "2 x 2 = 4\n",
      "2 x 3 = 6\n",
      "2 x 4 = 8\n",
      "2 x 5 = 10\n",
      "2 x 6 = 12\n",
      "2 x 7 = 14\n",
      "2 x 8 = 16\n",
      "2 x 9 = 18\n",
      "2 x 10 = 20\n"
     ]
    }
   ],
   "source": [
    "n = int(input(\"Give a number: \"))\n",
    "if 1 <= n <= 10:\n",
    "    print(f\"Multiplication for {n}:\")\n",
    "    for i in range(1, 11):\n",
    "        result = n * i\n",
    "        print(f\"{n} x {i} = {result}\")"
   ]
  },
  {
   "cell_type": "code",
   "execution_count": 29,
   "id": "eee7b7be-7334-4a29-a5c8-325d64941a73",
   "metadata": {},
   "outputs": [
    {
     "name": "stdout",
     "output_type": "stream",
     "text": [
      "1\n",
      "2\n",
      "Fizz\n",
      "4\n",
      "Buzz\n",
      "Fizz\n",
      "7\n",
      "8\n",
      "Fizz\n",
      "Buzz\n",
      "11\n",
      "Fizz\n",
      "13\n",
      "14\n",
      "FizzBuzz\n",
      "16\n",
      "17\n",
      "Fizz\n",
      "19\n",
      "Buzz\n",
      "Fizz\n",
      "22\n",
      "23\n",
      "Fizz\n",
      "Buzz\n",
      "26\n",
      "Fizz\n",
      "28\n",
      "29\n",
      "FizzBuzz\n",
      "31\n",
      "32\n",
      "Fizz\n",
      "34\n",
      "Buzz\n",
      "Fizz\n",
      "37\n",
      "38\n",
      "Fizz\n",
      "Buzz\n",
      "41\n",
      "Fizz\n",
      "43\n",
      "44\n",
      "FizzBuzz\n",
      "46\n",
      "47\n",
      "Fizz\n",
      "49\n",
      "Buzz\n",
      "Fizz\n",
      "52\n",
      "53\n",
      "Fizz\n",
      "Buzz\n",
      "56\n",
      "Fizz\n",
      "58\n",
      "59\n",
      "FizzBuzz\n",
      "61\n",
      "62\n",
      "Fizz\n",
      "64\n",
      "Buzz\n",
      "Fizz\n",
      "67\n",
      "68\n",
      "Fizz\n",
      "Buzz\n",
      "71\n",
      "Fizz\n",
      "73\n",
      "74\n",
      "FizzBuzz\n",
      "76\n",
      "77\n",
      "Fizz\n",
      "79\n",
      "Buzz\n",
      "Fizz\n",
      "82\n",
      "83\n",
      "Fizz\n",
      "Buzz\n",
      "86\n",
      "Fizz\n",
      "88\n",
      "89\n",
      "FizzBuzz\n",
      "91\n",
      "92\n",
      "Fizz\n",
      "94\n",
      "Buzz\n",
      "Fizz\n",
      "97\n",
      "98\n",
      "Fizz\n",
      "Buzz\n"
     ]
    }
   ],
   "source": [
    "for number in range(1, 101):\n",
    "    if number % 3 == 0 and number % 5 == 0:\n",
    "        print (\"FizzBuzz\")\n",
    "    elif number % 3 == 0:\n",
    "        print (\"Fizz\")\n",
    "    elif number % 5 == 0:\n",
    "        print (\"Buzz\")\n",
    "    else:\n",
    "        print(number)"
   ]
  },
  {
   "cell_type": "code",
   "execution_count": 14,
   "id": "47d5f5d3-5e5e-41de-9d47-2730c9f91d40",
   "metadata": {},
   "outputs": [
    {
     "name": "stdout",
     "output_type": "stream",
     "text": [
      "Become by learning\n",
      "data analysis an expert in\n",
      "Python!\n"
     ]
    }
   ],
   "source": [
    "import openpyxl\n",
    "workbook = openpyxl.load_workbook('demo.xlsx')\n",
    "sheet = workbook.active\n",
    "cell_values = [\n",
    "    sheet['A1'].value,  # Become\n",
    "    sheet['B3'].value,  # by\n",
    "    sheet['C1'].value,  # learning\n",
    "    sheet['A2'].value,  # data\n",
    "    sheet['C2'].value,  # analysis\n",
    "    sheet['B4'].value,  # an expert in\n",
    "    sheet['A3'].value   # Python!\n",
    "]\n",
    "print(f\"{cell_values[0]} {cell_values[1]} {cell_values[2]}\")\n",
    "print(f\"{cell_values[3]} {cell_values[4]} {cell_values[5]}\")\n",
    "print(f\"{cell_values[6]}\")"
   ]
  },
  {
   "cell_type": "code",
   "execution_count": 18,
   "id": "783aaff4-e99c-451a-895b-23ec4b76d6e0",
   "metadata": {},
   "outputs": [
    {
     "name": "stdout",
     "output_type": "stream",
     "text": [
      "Average fuel consumption for petrol engines: 7.62 liters/100km\n",
      "Average fuel consumption for diesel engines: 5.38 liters/100km\n"
     ]
    }
   ],
   "source": [
    "fuel_consumption = {\n",
    "    'Citroen': {\n",
    "        'Berlingo': {\n",
    "            'petrol_engine': 8.25,\n",
    "            'diesel_engine': 5.75,\n",
    "        },\n",
    "        'C3': {\n",
    "            'petrol_engine': 7.0,\n",
    "            'diesel_engine': 5.0,\n",
    "        },\n",
    "    },\n",
    "}\n",
    "\n",
    "total_petrol_consumption = 0\n",
    "total_diesel_consumption = 0\n",
    "petrol_count = 0\n",
    "diesel_count = 0\n",
    "\n",
    "for model, engines in fuel_consumption['Citroen'].items():\n",
    "    if 'petrol_engine' in engines:\n",
    "        total_petrol_consumption += engines['petrol_engine']\n",
    "        petrol_count += 1\n",
    "    if 'diesel_engine' in engines:\n",
    "        total_diesel_consumption += engines['diesel_engine']\n",
    "        diesel_count += 1\n",
    "\n",
    "average_petrol_consumption = total_petrol_consumption / petrol_count if petrol_count > 0 else 0\n",
    "average_diesel_consumption = total_diesel_consumption / diesel_count if diesel_count > 0 else 0\n",
    "\n",
    "print(f\"Average fuel consumption for petrol engines: {average_petrol_consumption:.2f} liters/100km\")\n",
    "print(f\"Average fuel consumption for diesel engines: {average_diesel_consumption:.2f} liters/100km\")\n"
   ]
  }
 ],
 "metadata": {
  "kernelspec": {
   "display_name": "Python 3 (ipykernel)",
   "language": "python",
   "name": "python3"
  },
  "language_info": {
   "codemirror_mode": {
    "name": "ipython",
    "version": 3
   },
   "file_extension": ".py",
   "mimetype": "text/x-python",
   "name": "python",
   "nbconvert_exporter": "python",
   "pygments_lexer": "ipython3",
   "version": "3.12.4"
  }
 },
 "nbformat": 4,
 "nbformat_minor": 5
}
