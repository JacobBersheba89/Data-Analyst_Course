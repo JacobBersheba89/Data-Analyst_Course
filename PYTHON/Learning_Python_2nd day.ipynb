{
 "cells": [
  {
   "cell_type": "code",
   "execution_count": 57,
   "id": "e42ddaf4-f65f-4e80-a697-936a11eede67",
   "metadata": {},
   "outputs": [
    {
     "name": "stdout",
     "output_type": "stream",
     "text": [
      "Line 1: Faster than fairies, faster than witches,\n",
      "\n",
      "Line 2: Bridges and houses, hedges and ditches;\n",
      "\n",
      "Line 3: And charging along like troops in a battle,\n",
      "\n",
      "Line 4: All through the meadows the horses and cattle:\n",
      "\n",
      "Line 5: All of the sights of the hill and the plain\n",
      "\n",
      "Line 6: Fly as thick as driving rain;\n",
      "\n",
      "Line 7: And ever again in the wink of an eye,\n",
      "\n",
      "Line 8: Painted stations whistle by.\n",
      "\n",
      "Line 9: Here is a child who clambers and scrambles,\n",
      "\n",
      "Line 10: All by himself and gathering brambles;\n",
      "\n",
      "Line 11: Here is a tramp who stands and gazes;\n",
      "\n",
      "Line 12: And there is the green for stringing the daisies!\n",
      "\n",
      "Line 13: Here is a cart run away in the road\n",
      "\n",
      "Line 14: Lumping along with man and load;\n",
      "\n",
      "Line 15: And here is a mill and there is a river,\n",
      "\n",
      "Line 16: Each a glimpse and gone forever!\n",
      "\n",
      "Line 17: \n",
      "\n",
      "Line 18: Robert Louis Stevenson - From A Child’s Garden of Verses (1885)\n",
      "\n",
      "Line 19: https://www.gutenberg.org/files/19722/19722-h/19722-h.htm#FROM_A_RAILWAY_CARRIAGE\n",
      "\n"
     ]
    }
   ],
   "source": [
    "with open(\"poem.txt\") as poem_text_file:\n",
    "    for line_number, single_line in enumerate(poem_text_file, 1):\n",
    "        print (f\"Line {line_number}: {single_line}\")\n",
    "\n",
    "poem_text_file.close()"
   ]
  },
  {
   "cell_type": "code",
   "execution_count": 63,
   "id": "3d29ea44-9905-40ad-95da-203957cb0d0e",
   "metadata": {},
   "outputs": [],
   "source": [
    "with open(\"tree.txt\", \"w\") as tree_text_file:\n",
    "    for i in range(1, 13):\n",
    "        tree_text_file.write(\"*\" * i + \"\\n\")\n",
    "\n",
    "tree_text_file.close()"
   ]
  },
  {
   "cell_type": "code",
   "execution_count": 71,
   "id": "bfded100-1c13-4878-9402-e76c19a076ec",
   "metadata": {},
   "outputs": [],
   "source": [
    "import os\n",
    "os.mkdir(\"Archive\")\n",
    "os.replace(\"/Users/jeladobos/Documents/Learning/Data Analyst/3rd session/2nd day/one.txt\",r\"Archive/one.txt\")\n",
    "os.replace(\"/Users/jeladobos/Documents/Learning/Data Analyst/3rd session/2nd day/two.txt\",r\"Archive/two.txt\")"
   ]
  },
  {
   "cell_type": "code",
   "execution_count": 101,
   "id": "6d8fd8b3-33bd-4f31-86ae-358dd8d2dd16",
   "metadata": {},
   "outputs": [
    {
     "data": {
      "text/plain": [
       "['Faster than fairies, faster than witches,\\nBridges and houses, hedges and ditches;\\nAnd charging along like troops in a battle,\\nAll through the meadows the horses and cattle:\\nAll of the sights of the hill and the plain\\nFly as thick as driving rain;\\nAnd ever again in the wink of an eye,\\nPainted stations whistle by.\\nHere is a child who clambers and scrambles,\\nAll by himself and gathering brambles;\\nHere is a tramp who stands and gazes;\\nAnd there is the green for stringing the daisies!\\nHere is a cart run away in the road\\nLumping along with man and load;\\nAnd here is a mill and there is a river,\\nEach a glimpse and gone forever!\\n\\nRobert Louis Stevenson - From A Child’s Garden of Verses (1885)\\nhttps://www.gutenberg.org/files/19722/19722-h/19722-h.htm#FROM_A_RAILWAY_CARRIAGE\\n',\n",
       " '*\\n**\\n***\\n****\\n*****\\n******\\n*******\\n********\\n*********\\n**********\\n***********\\n************\\n']"
      ]
     },
     "execution_count": 101,
     "metadata": {},
     "output_type": "execute_result"
    }
   ],
   "source": [
    "import os\n",
    "import glob\n",
    "source = \"/Users/jeladobos/Documents/Learning/Data Analyst/3rd session/2nd day/Data\"\n",
    "files = glob.glob(os.path.join(source, \"*.txt\"))\n",
    "content = []\n",
    "for i in files:\n",
    "    with open(i, \"r\") as file:\n",
    "        list = file.read()\n",
    "        content.append(list)\n",
    "\n",
    "content"
   ]
  },
  {
   "cell_type": "code",
   "execution_count": 93,
   "id": "0c54e38f-4626-4b37-87f9-bdf15ebc478b",
   "metadata": {},
   "outputs": [],
   "source": [
    "import glob\n",
    "\n",
    "for x in glob.glob(r'*\\*.txt', recursive = True):\n",
    "    with open(x, 'r') as text_file:\n",
    "        print(text_file.read())\n",
    "        text_file.close()"
   ]
  },
  {
   "cell_type": "code",
   "execution_count": 133,
   "id": "4aee0b05-0294-4f47-b19e-d48cc966726a",
   "metadata": {},
   "outputs": [
    {
     "name": "stdout",
     "output_type": "stream",
     "text": [
      "Passed!\n",
      "For the 44th second expected the proverb_safe function to return \"two wrongs do not make one right\"\n",
      "Function returned: No proverb\n",
      "Passed!\n"
     ]
    }
   ],
   "source": [
    "import datetime\n",
    "\n",
    "def proverb():\n",
    "    phrases = {\n",
    "        0 :'all that glitters is not gold',\n",
    "        4:'do not count your chickens before they are hatched',\n",
    "        12:'do not put all your eggs in one basket',\n",
    "        13:'early bird catches the worm',\n",
    "        35:'do not cry over spilled milk',\n",
    "        44:'two wrongs do not make a right',\n",
    "        59:'the proof of the pudding is in the eating',\n",
    "    }\n",
    "    return phrases[datetime.datetime.now().second]\n",
    "\n",
    "def proverb_safe():\n",
    "    try:\n",
    "        current_second = datetime.datetime.now().second\n",
    "        return proverb(current_second)\n",
    "    except Exception:\n",
    "        return 'No proverb'\n",
    "\n",
    "from unittest.mock import patch\n",
    "\n",
    "with patch('datetime.datetime') as dt:\n",
    "    dt.now().second = 40\n",
    "    if proverb_safe() == 'No proverb':\n",
    "        print('Passed!')\n",
    "    else:\n",
    "        print('For the 40th second expected the proverb_safe function to return: \"No proverb\"')\n",
    "        print('Function returned:', proverb_safe())\n",
    "\n",
    "with patch('datetime.datetime') as dt:\n",
    "    dt.now().second = 44\n",
    "    if proverb_safe() == 'two wrongs do not make one right':\n",
    "        print('Passed!')\n",
    "    else:\n",
    "        print('For the 44th second expected the proverb_safe function to return \"two wrongs do not make one right\"')\n",
    "        print('Function returned:', proverb_safe())\n",
    "\n",
    "with patch('datetime.datetime') as dt:\n",
    "    dt.now().second = 50\n",
    "    if proverb_safe() == 'No proverb':\n",
    "        print('Passed!')\n",
    "    else:\n",
    "        print('For the 50th second expected the proverb_safe function to return: \"No proverb\"')\n",
    "        print('Function returned:', proverb_safe())"
   ]
  },
  {
   "cell_type": "code",
   "execution_count": 109,
   "id": "b79ad5a2-5c7b-44de-aedf-7def8ad336d9",
   "metadata": {},
   "outputs": [
    {
     "name": "stdout",
     "output_type": "stream",
     "text": [
      "Passed!\n",
      "Passed!\n",
      "Passed!\n",
      "Passed!\n"
     ]
    }
   ],
   "source": [
    "def check_zip_code(code):\n",
    "    if len(code) != 6:\n",
    "        raise ValueError(\"Incorrect length\")\n",
    "    if code[2] != '-':\n",
    "        raise ValueError(\"No dash\")\n",
    "    if not (code[:2].isdigit() and code[3:].isdigit()):\n",
    "        raise ValueError(\"Forbidden character\")\n",
    "    return True\n",
    "\n",
    "try:\n",
    "    if check_zip_code:\n",
    "        pass\n",
    "except:\n",
    "    print('check_zip_code function not found, tests results may not be accurate!')\n",
    "\n",
    "try:\n",
    "    check_zip_code('12-345')\n",
    "except Exception as e:\n",
    "    print('For zip code 12-345 the function unexpectedly threw an exception', e)\n",
    "\n",
    "try:\n",
    "    check_zip_code('12-34')\n",
    "except ValueError as e:\n",
    "    if str(e) == 'Incorrect length':\n",
    "        print('Passed!')\n",
    "    else:\n",
    "        print('Incorrect message: function threw ValueError exception with the comment:', str(e))\n",
    "        print('instead of the expected \"Incorrect length\"')\n",
    "except Exception as e:\n",
    "    print('Function threw incorrect exception:', e.__class__.__name__, 'instead of ValueError')\n",
    "else:\n",
    "    print('Function did not throw exception!')\n",
    "\n",
    "try:\n",
    "    check_zip_code('12-3456')\n",
    "except ValueError as e:\n",
    "    if str(e) == 'Incorrect length':\n",
    "        print('Passed!')\n",
    "    else:\n",
    "        print('Incorrect message: function threw ValueError exception with the comment:', str(e))\n",
    "        print('instead of the expected \"Incorrect length\"')\n",
    "except Exception as e:\n",
    "    print('Function threw incorrect exception:', e.__class__.__name__, 'instead of ValueError')\n",
    "else:\n",
    "    print('Function did not throw exception!')\n",
    "\n",
    "try:\n",
    "    check_zip_code('12@345')\n",
    "except ValueError as e:\n",
    "    if str(e) == 'No dash':\n",
    "        print('Passed!')\n",
    "    else:\n",
    "        print('Incorrect message: function threw ValueError exception with the comment:', str(e))\n",
    "        print('instead of the expected \"No dash\"')\n",
    "except Exception as e:\n",
    "    print('Function threw incorrect exception:', e.__class__.__name__, 'instead of ValueError')\n",
    "else:\n",
    "    print('Function did not throw exception!')\n",
    "\n",
    "try:\n",
    "    check_zip_code('12-34X')\n",
    "except ValueError as e:\n",
    "    if str(e) == 'Forbidden character':\n",
    "        print('Passed!')\n",
    "    else:\n",
    "        print('Incorrect message: function threw ValueError exception with the comment:', str(e))\n",
    "        print('instead of the expected \"Forbidden character\"')\n",
    "except Exception as e:\n",
    "    print('Function threw incorrect exception:', e.__class__.__name__, 'instead of ValueError')\n",
    "else:\n",
    "    print('Function did not throw exception!')"
   ]
  },
  {
   "cell_type": "code",
   "execution_count": 131,
   "id": "8356cabb-3718-4717-b795-17b78c629510",
   "metadata": {},
   "outputs": [
    {
     "name": "stdout",
     "output_type": "stream",
     "text": [
      "The find_emails_in_file function found 40 email addresses (expected 40)\n",
      "First address found is abalint@gmail.com - as expected\n",
      "The final address returned is o.pospisil@protonmail.com - as expected\n"
     ]
    }
   ],
   "source": [
    "import re\n",
    "\n",
    "def find_emails_in_file(file_name):\n",
    "    email_pattern = r\"[a-zA-Z0-9._%+-]+@[a-zA-Z0-9.-]+\\.[a-zA-Z]{2,}\"\n",
    "    emails_found = []\n",
    "    try:\n",
    "        with open(file_name,\"r\") as file:\n",
    "            for line in file:\n",
    "                emails = re.findall(email_pattern, line)\n",
    "                emails_found.extend(emails)\n",
    "    except FileNotFoundError:\n",
    "        print(f\"File {file_name} not found.\")\n",
    "    \n",
    "    return emails_found\n",
    "print(\n",
    "    \"The find_emails_in_file function found\",\n",
    "    len(find_emails_in_file(\"RE_data.txt\")),\n",
    "    \"email addresses (expected 40)\"\n",
    ")\n",
    "\n",
    "if find_emails_in_file(\"RE_data.txt\")[0] == \"abalint@gmail.com\":\n",
    "    print(\"First address found is abalint@gmail.com - as expected\")\n",
    "else:\n",
    "    print(\n",
    "        f\"The first address returned from the function is \"\n",
    "        f\"{find_emails_in_file(\"data.txt\")[0]!r} - expected abalint@gmail.com\"\n",
    "    )\n",
    "\n",
    "if find_emails_in_file(\"RE_data.txt\")[-1] == \"o.pospisil@protonmail.com\":\n",
    "    print(\"The final address returned is o.pospisil@protonmail.com - as expected\")\n",
    "else:\n",
    "    print(\n",
    "        f\"The final address returned from the function is \"\n",
    "        f\"{find_emails_in_file(\"RE_data.txt\")[-1]!r} - expected o.pospisil@protonmail.com\"\n",
    "    )"
   ]
  },
  {
   "cell_type": "code",
   "execution_count": 161,
   "id": "ff250d68-2ce5-4208-9b08-dff494cde8f2",
   "metadata": {},
   "outputs": [
    {
     "name": "stdout",
     "output_type": "stream",
     "text": [
      "For the phrase 'Thę łązy dóg' the expected result is 'Th zy dg'\n",
      "but the function returned 'Th zy dg'\n"
     ]
    }
   ],
   "source": [
    "import re\n",
    "\n",
    "def strip_non_letters(text):\n",
    "    pattern = r\"[^a-zA-Z]\"\n",
    "    result = re.sub(pattern, \" \", text)\n",
    "    return result\n",
    "\n",
    "if strip_non_letters(\"Thę łązy dóg\") == \"Th zy dg\":\n",
    "    print(\"The function removed non-standard characters correctly\")\n",
    "else:\n",
    "    print(\"For the phrase 'Thę łązy dóg' the expected result is 'Th zy dg'\")\n",
    "    print(\"but the function returned\", repr(strip_non_letters('Th zy dg')))"
   ]
  },
  {
   "cell_type": "code",
   "execution_count": 141,
   "id": "224ccb3c-dcdb-4a50-94ae-a3c34b659ed3",
   "metadata": {},
   "outputs": [
    {
     "name": "stdout",
     "output_type": "stream",
     "text": [
      "['abalint@gmail.com', 'biancadumitru@yahoo.com', 'davidwagner@hotmail.com', 'emma.smith@outlook.com', 'fnovak@seznam.cz', 'gkowalski@gmail.com', 'hannapopova@yahoo.com', 'ivan.vlcek@zoznam.sk', 'jakubnowak@protonmail.com', 'karolinahorakova@wp.pl', 'lukasmolnar@hotmail.com', 'mariamihai@gmail.com', 'nikoladragovic@yahoo.com', 'oliver.ionescu@outlook.com', 'petrarosa@seznam.cz', 'quentin.jurcik@gmail.com', 'raduenache@yahoo.com', 'sofiabenko@hotmail.com', 'tomas.kovac@zoznam.sk', 'ursulakowalczyk@protonmail.com', 'vbartos@wp.pl', 'wpopov@gmail.com', 'xkovalenko@outlook.com', 'yivanova@yahoo.com', 'zjakubova@seznam.cz', 'adamhorvath@hotmail.com', 'b.dragan@gmail.com', 'cezarnovak@yahoo.com', 'dvarga@zoznam.sk', 'ekovac@protonmail.com', 'fszabo@wp.pl', 'gstefanik@gmail.com', 'hugojakubec@outlook.com', 'ipopovic@yahoo.com', 'janekkowalik@seznam.cz', 'kracz@hotmail.com', 'lbiro@gmail.com', 'matejkolar@yahoo.com', 'nzajac@zoznam.sk', 'o.pospisil@protonmail.com']\n",
      "The find_emails_in_file function found 40 email addresses (expected 40)\n",
      "First address found is abalint@gmail.com - as expected\n",
      "The final address returned is o.pospisil@protonmail.com - as expected\n"
     ]
    }
   ],
   "source": [
    "import re\n",
    "\n",
    "def find_emails_in_file(filename):\n",
    "    email_pattern = r\"[A-Za-z0-9._]+@[A-Za-z0-9.-]+\\.[A-Z|a-z]{2,}\"    \n",
    "    with open(filename, \"r\") as file:\n",
    "        content = file.read()\n",
    "        emails = re.findall(email_pattern, content)\n",
    "        return emails\n",
    "\n",
    "print(find_emails_in_file(\"RE_data.txt\"))\n",
    "\n",
    "print(\n",
    "    'The find_emails_in_file function found',\n",
    "    len(find_emails_in_file('RE_data.txt')),\n",
    "    'email addresses (expected 40)'\n",
    ")\n",
    "\n",
    "if find_emails_in_file('RE_data.txt')[0] == 'abalint@gmail.com':\n",
    "    print('First address found is abalint@gmail.com - as expected')\n",
    "else:\n",
    "    print(\n",
    "        f'The first address returned from the function is '\n",
    "        f'{find_emails_in_file(\"RE_data.txt\")[0]!r} - expected abalint@gmail.com'\n",
    "    )\n",
    "\n",
    "if find_emails_in_file('RE_data.txt')[-1] == 'o.pospisil@protonmail.com':\n",
    "    print('The final address returned is o.pospisil@protonmail.com - as expected')\n",
    "else:\n",
    "    print(\n",
    "        f'The final address returned from the function is '\n",
    "        f'{find_emails_in_file(\"RE_data.txt\")[-1]!r} - expected o.pospisil@protonmail.com'\n",
    "    )"
   ]
  },
  {
   "cell_type": "code",
   "execution_count": 163,
   "id": "63b599e6-b935-4991-87d5-5aa233f6b7c1",
   "metadata": {},
   "outputs": [],
   "source": [
    "# https://regexlearn.com/learn/regex101"
   ]
  },
  {
   "cell_type": "code",
   "execution_count": null,
   "id": "3fc869d5-8d17-4539-8a4d-341bee03ca25",
   "metadata": {},
   "outputs": [],
   "source": []
  }
 ],
 "metadata": {
  "kernelspec": {
   "display_name": "Python 3 (ipykernel)",
   "language": "python",
   "name": "python3"
  },
  "language_info": {
   "codemirror_mode": {
    "name": "ipython",
    "version": 3
   },
   "file_extension": ".py",
   "mimetype": "text/x-python",
   "name": "python",
   "nbconvert_exporter": "python",
   "pygments_lexer": "ipython3",
   "version": "3.12.4"
  }
 },
 "nbformat": 4,
 "nbformat_minor": 5
}
