{
 "cells": [
  {
   "cell_type": "code",
   "execution_count": 6,
   "metadata": {},
   "outputs": [
    {
     "name": "stdout",
     "output_type": "stream",
     "text": [
      "Průměrná cena směsi mrkve a hrášku za 1 kg v Polsku v roce 2015 byla: nan PLN.\n"
     ]
    }
   ],
   "source": [
    "import pandas as pd\n",
    "import os\n",
    "\n",
    "file_path = 'C:\\\\Users\\\\MartinPC\\\\Desktop\\\\Kuba kurz\\\\01_Data\\\\product_prices_renamed.csv'\n",
    "\n",
    "df = pd.read_csv(file_path, sep=';')\n",
    "\n",
    "sorting_data = df[(df['date'].str.contains('2015')) & \n",
    "                   (df['product_line'].str.contains('mrkev')) & \n",
    "                   (df['product_line'].str.contains('hrášk'))]\n",
    "\n",
    "ap = sorting_data['value'].mean()\n",
    "print(f\"Průměrná cena směsi mrkve a hrášku za 1 kg v Polsku v roce 2015 byla: {ap:.2f} PLN.\")\n"
   ]
  },
  {
   "cell_type": "code",
   "execution_count": 7,
   "metadata": {},
   "outputs": [
    {
     "name": "stdout",
     "output_type": "stream",
     "text": [
      "Empty DataFrame\n",
      "Columns: [province, product_types, currency, product_group_id, product_line, value, date]\n",
      "Index: []\n"
     ]
    }
   ],
   "source": [
    "\n",
    "import pandas as pd\n",
    "\n",
    "file_path = 'C:\\\\Users\\\\MartinPC\\\\Desktop\\\\Kuba kurz\\\\01_Data\\\\product_prices_renamed.csv'\n",
    "\n",
    "df = pd.read_csv(file_path, sep=';')\n",
    "\n",
    "sorting_data = df[df['product_line'].str.contains('mrkev|hrášk', case=False, na=False)]\n",
    "\n",
    "print(sorting_data)\n",
    "\n",
    "\n",
    "\n"
   ]
  },
  {
   "cell_type": "code",
   "execution_count": 8,
   "metadata": {},
   "outputs": [
    {
     "name": "stdout",
     "output_type": "stream",
     "text": [
      "Empty DataFrame\n",
      "Columns: [product_line, value, date]\n",
      "Index: []\n"
     ]
    }
   ],
   "source": [
    "import pandas as pd\n",
    "\n",
    "file_path = 'C:\\\\Users\\\\MartinPC\\\\Desktop\\\\Kuba kurz\\\\01_Data\\\\product_prices_renamed.csv'\n",
    "\n",
    "df = pd.read_csv(file_path, sep=';')\n",
    "\n",
    "filtered_data = df[df['product_line'].str.contains('mrkev|hrášk', case=False, na=False)]\n",
    "\n",
    "specific_columns = filtered_data[['product_line', 'value', 'date']]\n",
    "\n",
    "print(specific_columns)"
   ]
  },
  {
   "cell_type": "code",
   "execution_count": 17,
   "metadata": {},
   "outputs": [
    {
     "name": "stdout",
     "output_type": "stream",
     "text": [
      "                 province                     product_types currency  \\\n",
      "13724           POMERANIA  30% tomato concentrate - per 1kg      PLN   \n",
      "18768       LOWER SILESIA  30% tomato concentrate - per 1kg      PLN   \n",
      "22321      WEST POMERANIA  30% tomato concentrate - per 1kg      PLN   \n",
      "31268        SUBCARPATHIA  30% tomato concentrate - per 1kg      PLN   \n",
      "36958       LESSER POLAND  30% tomato concentrate - per 1kg      PLN   \n",
      "62346      GREATER POLAND  30% tomato concentrate - per 1kg      PLN   \n",
      "70851             MASOVIA  30% tomato concentrate - per 1kg      PLN   \n",
      "79924   KUYAVIA-POMERANIA  30% tomato concentrate - per 1kg      PLN   \n",
      "91306                ŁÓDŹ  30% tomato concentrate - per 1kg      PLN   \n",
      "96597               OPOLE  30% tomato concentrate - per 1kg      PLN   \n",
      "104235             POLAND  30% tomato concentrate - per 1kg      PLN   \n",
      "122007             LUBUSZ  30% tomato concentrate - per 1kg      PLN   \n",
      "130871         HOLY CROSS  30% tomato concentrate - per 1kg      PLN   \n",
      "135863     WARMIA-MASURIA  30% tomato concentrate - per 1kg      PLN   \n",
      "143420          PODLASKIE  30% tomato concentrate - per 1kg      PLN   \n",
      "143997            SILESIA  30% tomato concentrate - per 1kg      PLN   \n",
      "146383             LUBLIN  30% tomato concentrate - per 1kg      PLN   \n",
      "\n",
      "        product_group_id product_line   value    date  \n",
      "13724                  1          NaN  3000.0  2003-1  \n",
      "18768                  1          NaN  3000.0  2003-1  \n",
      "22321                  1          NaN  3000.0  2003-1  \n",
      "31268                  1          NaN  3000.0  2003-1  \n",
      "36958                  1          NaN  3000.0  2003-1  \n",
      "62346                  1          NaN  3000.0  2003-1  \n",
      "70851                  1          NaN  3000.0  2003-1  \n",
      "79924                  1          NaN  3000.0  2003-1  \n",
      "91306                  1          NaN  3000.0  2003-1  \n",
      "96597                  1          NaN  3000.0  2003-1  \n",
      "104235                 1          NaN  3000.0  2003-1  \n",
      "122007                 1          NaN  3000.0  2003-1  \n",
      "130871                 1          NaN  3000.0  2003-1  \n",
      "135863                 1          NaN  3000.0  2003-1  \n",
      "143420                 1          NaN  3000.0  2003-1  \n",
      "143997                 1          NaN  3000.0  2003-1  \n",
      "146383                 1          NaN  3000.0  2003-1  \n"
     ]
    }
   ],
   "source": [
    "data = pd.read_csv(file_path, sep=';')\n",
    "data = df[df['value'] == 3000]\n",
    "\n",
    "print(data)"
   ]
  },
  {
   "cell_type": "code",
   "execution_count": 18,
   "metadata": {},
   "outputs": [
    {
     "ename": "KeyError",
     "evalue": "Index(['Product types', 'Province'], dtype='object')",
     "output_type": "error",
     "traceback": [
      "\u001b[1;31m---------------------------------------------------------------------------\u001b[0m",
      "\u001b[1;31mKeyError\u001b[0m                                  Traceback (most recent call last)",
      "\u001b[1;32m~\\AppData\\Local\\Temp\\ipykernel_16592\\3197409318.py\u001b[0m in \u001b[0;36m?\u001b[1;34m()\u001b[0m\n\u001b[1;32m----> 1\u001b[1;33m \u001b[0mdata\u001b[0m\u001b[1;33m.\u001b[0m\u001b[0mdrop_duplicates\u001b[0m\u001b[1;33m(\u001b[0m\u001b[0msubset\u001b[0m\u001b[1;33m=\u001b[0m\u001b[1;33m[\u001b[0m\u001b[1;34m\"Province\"\u001b[0m\u001b[1;33m,\u001b[0m \u001b[1;34m\"Product types\"\u001b[0m\u001b[1;33m]\u001b[0m\u001b[1;33m,\u001b[0m \u001b[0mkeep\u001b[0m\u001b[1;33m=\u001b[0m\u001b[1;34m\"last\"\u001b[0m\u001b[1;33m)\u001b[0m\u001b[1;33m\u001b[0m\u001b[1;33m\u001b[0m\u001b[0m\n\u001b[0m",
      "\u001b[1;32mc:\\Users\\MartinPC\\anaconda3\\Lib\\site-packages\\pandas\\core\\frame.py\u001b[0m in \u001b[0;36m?\u001b[1;34m(self, subset, keep, inplace, ignore_index)\u001b[0m\n\u001b[0;32m   6814\u001b[0m \u001b[1;33m\u001b[0m\u001b[0m\n\u001b[0;32m   6815\u001b[0m         \u001b[0minplace\u001b[0m \u001b[1;33m=\u001b[0m \u001b[0mvalidate_bool_kwarg\u001b[0m\u001b[1;33m(\u001b[0m\u001b[0minplace\u001b[0m\u001b[1;33m,\u001b[0m \u001b[1;34m\"inplace\"\u001b[0m\u001b[1;33m)\u001b[0m\u001b[1;33m\u001b[0m\u001b[1;33m\u001b[0m\u001b[0m\n\u001b[0;32m   6816\u001b[0m         \u001b[0mignore_index\u001b[0m \u001b[1;33m=\u001b[0m \u001b[0mvalidate_bool_kwarg\u001b[0m\u001b[1;33m(\u001b[0m\u001b[0mignore_index\u001b[0m\u001b[1;33m,\u001b[0m \u001b[1;34m\"ignore_index\"\u001b[0m\u001b[1;33m)\u001b[0m\u001b[1;33m\u001b[0m\u001b[1;33m\u001b[0m\u001b[0m\n\u001b[0;32m   6817\u001b[0m \u001b[1;33m\u001b[0m\u001b[0m\n\u001b[1;32m-> 6818\u001b[1;33m         \u001b[0mresult\u001b[0m \u001b[1;33m=\u001b[0m \u001b[0mself\u001b[0m\u001b[1;33m[\u001b[0m\u001b[1;33m-\u001b[0m\u001b[0mself\u001b[0m\u001b[1;33m.\u001b[0m\u001b[0mduplicated\u001b[0m\u001b[1;33m(\u001b[0m\u001b[0msubset\u001b[0m\u001b[1;33m,\u001b[0m \u001b[0mkeep\u001b[0m\u001b[1;33m=\u001b[0m\u001b[0mkeep\u001b[0m\u001b[1;33m)\u001b[0m\u001b[1;33m]\u001b[0m\u001b[1;33m\u001b[0m\u001b[1;33m\u001b[0m\u001b[0m\n\u001b[0m\u001b[0;32m   6819\u001b[0m         \u001b[1;32mif\u001b[0m \u001b[0mignore_index\u001b[0m\u001b[1;33m:\u001b[0m\u001b[1;33m\u001b[0m\u001b[1;33m\u001b[0m\u001b[0m\n\u001b[0;32m   6820\u001b[0m             \u001b[0mresult\u001b[0m\u001b[1;33m.\u001b[0m\u001b[0mindex\u001b[0m \u001b[1;33m=\u001b[0m \u001b[0mdefault_index\u001b[0m\u001b[1;33m(\u001b[0m\u001b[0mlen\u001b[0m\u001b[1;33m(\u001b[0m\u001b[0mresult\u001b[0m\u001b[1;33m)\u001b[0m\u001b[1;33m)\u001b[0m\u001b[1;33m\u001b[0m\u001b[1;33m\u001b[0m\u001b[0m\n\u001b[0;32m   6821\u001b[0m \u001b[1;33m\u001b[0m\u001b[0m\n",
      "\u001b[1;32mc:\\Users\\MartinPC\\anaconda3\\Lib\\site-packages\\pandas\\core\\frame.py\u001b[0m in \u001b[0;36m?\u001b[1;34m(self, subset, keep)\u001b[0m\n\u001b[0;32m   6946\u001b[0m         \u001b[1;31m# Otherwise, raise a KeyError, same as if you try to __getitem__ with a\u001b[0m\u001b[1;33m\u001b[0m\u001b[1;33m\u001b[0m\u001b[0m\n\u001b[0;32m   6947\u001b[0m         \u001b[1;31m# key that doesn't exist.\u001b[0m\u001b[1;33m\u001b[0m\u001b[1;33m\u001b[0m\u001b[0m\n\u001b[0;32m   6948\u001b[0m         \u001b[0mdiff\u001b[0m \u001b[1;33m=\u001b[0m \u001b[0mset\u001b[0m\u001b[1;33m(\u001b[0m\u001b[0msubset\u001b[0m\u001b[1;33m)\u001b[0m \u001b[1;33m-\u001b[0m \u001b[0mset\u001b[0m\u001b[1;33m(\u001b[0m\u001b[0mself\u001b[0m\u001b[1;33m.\u001b[0m\u001b[0mcolumns\u001b[0m\u001b[1;33m)\u001b[0m\u001b[1;33m\u001b[0m\u001b[1;33m\u001b[0m\u001b[0m\n\u001b[0;32m   6949\u001b[0m         \u001b[1;32mif\u001b[0m \u001b[0mdiff\u001b[0m\u001b[1;33m:\u001b[0m\u001b[1;33m\u001b[0m\u001b[1;33m\u001b[0m\u001b[0m\n\u001b[1;32m-> 6950\u001b[1;33m             \u001b[1;32mraise\u001b[0m \u001b[0mKeyError\u001b[0m\u001b[1;33m(\u001b[0m\u001b[0mIndex\u001b[0m\u001b[1;33m(\u001b[0m\u001b[0mdiff\u001b[0m\u001b[1;33m)\u001b[0m\u001b[1;33m)\u001b[0m\u001b[1;33m\u001b[0m\u001b[1;33m\u001b[0m\u001b[0m\n\u001b[0m\u001b[0;32m   6951\u001b[0m \u001b[1;33m\u001b[0m\u001b[0m\n\u001b[0;32m   6952\u001b[0m         \u001b[1;32mif\u001b[0m \u001b[0mlen\u001b[0m\u001b[1;33m(\u001b[0m\u001b[0msubset\u001b[0m\u001b[1;33m)\u001b[0m \u001b[1;33m==\u001b[0m \u001b[1;36m1\u001b[0m \u001b[1;32mand\u001b[0m \u001b[0mself\u001b[0m\u001b[1;33m.\u001b[0m\u001b[0mcolumns\u001b[0m\u001b[1;33m.\u001b[0m\u001b[0mis_unique\u001b[0m\u001b[1;33m:\u001b[0m\u001b[1;33m\u001b[0m\u001b[1;33m\u001b[0m\u001b[0m\n\u001b[0;32m   6953\u001b[0m             \u001b[1;31m# GH#45236 This is faster than get_group_index below\u001b[0m\u001b[1;33m\u001b[0m\u001b[1;33m\u001b[0m\u001b[0m\n",
      "\u001b[1;31mKeyError\u001b[0m: Index(['Product types', 'Province'], dtype='object')"
     ]
    }
   ],
   "source": [
    "data.drop_duplicates(subset=[\"Province\", \"Product types\"], keep=\"last\")"
   ]
  },
  {
   "cell_type": "code",
   "execution_count": null,
   "metadata": {},
   "outputs": [],
   "source": [
    "data.sort_values(\n",
    "    by=['cena', 'najezd'],\n",
    "    ascending=[False, True]\n",
    ")"
   ]
  }
 ],
 "metadata": {
  "kernelspec": {
   "display_name": "base",
   "language": "python",
   "name": "python3"
  },
  "language_info": {
   "codemirror_mode": {
    "name": "ipython",
    "version": 3
   },
   "file_extension": ".py",
   "mimetype": "text/x-python",
   "name": "python",
   "nbconvert_exporter": "python",
   "pygments_lexer": "ipython3",
   "version": "3.12.4"
  }
 },
 "nbformat": 4,
 "nbformat_minor": 2
}
