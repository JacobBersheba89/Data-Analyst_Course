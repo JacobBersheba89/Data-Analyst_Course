{
 "cells": [
  {
   "cell_type": "markdown",
   "id": "norwegian-timer",
   "metadata": {},
   "source": [
    "# Highest and lowest price\n",
    "\n",
    "Using `sort_values` and the data from the _product_prices_renamed.csv_ the file answer the questions below — use data aggregated for entire Poland (`province=='POLAND'`):\n",
    "\n",
    "1. What product had the highest 'PLN' price in history? (remember to remove the value = 3000)?\n",
    "1. What product achieved the lowest 'PLN' price in history? (remember to filter out values = 0),\n",
    "\n",
    "Sort the data according to the following key:\n",
    "\n",
    "1. by **product_types** column – descending\n",
    "1. by **value** column – ascending"
   ]
  },
  {
   "cell_type": "code",
   "execution_count": 11,
   "id": "signed-initial",
   "metadata": {},
   "outputs": [
    {
     "name": "stdout",
     "output_type": "stream",
     "text": [
      "Index(['province', 'product_types', 'currency', 'product_group_id',\n",
      "       'product_line', 'value', 'date'],\n",
      "      dtype='object')\n"
     ]
    }
   ],
   "source": [
    "columns = {\n",
    "    \"Name\": \"province\",\n",
    "    \"Goods types\": \"product_types\",\n",
    "    \"Measurement unit\": \"currency\",\n",
    "    \"Group ID\": \"product_group_id\",\n",
    "    \"Product types\": \"product_line\",\n",
    "    \"Value\": \"value\",\n",
    "    \"Date\": \"date\"\n",
    "}\n",
    "\n",
    "data = data.rename(columns=columns)\n",
    "\n",
    "data = data[(data[\"value\"] != 3000) & (data[\"value\"] != 0)]\n",
    "data[data[\"province\"] == \"POLAND\"].sort_values(by=[\"product_types\", \"value\"], ascending=[False, True], na_position=\"last\")\n",
    "\n",
    "data = data.drop_duplicates()"
   ]
  },
  {
   "cell_type": "code",
   "execution_count": 11,
   "id": "279e4f2f-9012-4b90-8713-b2f617aec582",
   "metadata": {},
   "outputs": [
    {
     "name": "stdout",
     "output_type": "stream",
     "text": [
      "Index(['province', 'product_types', 'currency', 'product_group_id',\n",
      "       'product_line', 'value', 'date'],\n",
      "      dtype='object')\n"
     ]
    }
   ],
   "source": [
    "import pandas as pd\n",
    "data = pd.read_csv(\n",
    "                    '/Users/jeladobos/Documents/Learning/Data Analyst/5th session/Prework/01_Data/product_prices_renamed.csv', # path to the file with data (if we want to enter the name: filepath_or_buffer)\n",
    "                    sep=';',  # column separator\n",
    "                    decimal='.'  # sign separating the whole and fractional parts of a number\n",
    ")\n",
    "column_names = data.columns\n",
    "print(column_names)"
   ]
  },
  {
   "cell_type": "code",
   "execution_count": 41,
   "id": "30a93e0e-632b-4de0-8921-09cb1c470dca",
   "metadata": {},
   "outputs": [
    {
     "name": "stdout",
     "output_type": "stream",
     "text": [
      "36.68\n",
      "       province                            product_types currency  \\\n",
      "11818    POLAND  whole pickled cucumbers 0.9l - per 1pc.      PLN   \n",
      "106330   POLAND  whole pickled cucumbers 0.9l - per 1pc.      PLN   \n",
      "113935   POLAND  whole pickled cucumbers 0.9l - per 1pc.      PLN   \n",
      "9683     POLAND  whole pickled cucumbers 0.9l - per 1pc.      PLN   \n",
      "33076    POLAND  whole pickled cucumbers 0.9l - per 1pc.      PLN   \n",
      "...         ...                                      ...      ...   \n",
      "148996   POLAND                                      NaN      PLN   \n",
      "149010   POLAND                                      NaN      PLN   \n",
      "149398   POLAND                                      NaN      PLN   \n",
      "149548   POLAND                                      NaN      PLN   \n",
      "149899   POLAND                                      NaN      PLN   \n",
      "\n",
      "        product_group_id                             product_line  value  \\\n",
      "11818                  1                                      NaN   1.94   \n",
      "106330                 1                                      NaN   1.96   \n",
      "113935                 1                                      NaN   1.96   \n",
      "9683                   1                                      NaN   2.04   \n",
      "33076                  1                                      NaN   2.07   \n",
      "...                  ...                                      ...    ...   \n",
      "148996                 4  plain mixed bread (wheat-rye) - per 1kg    NaN   \n",
      "149010                 4                          bread - per 1kg    NaN   \n",
      "149398                 4                          bread - per 1kg    NaN   \n",
      "149548                 4                          bread - per 1kg    NaN   \n",
      "149899                 4                          bread - per 1kg    NaN   \n",
      "\n",
      "           date  \n",
      "11818    1999-6  \n",
      "106330  1999-10  \n",
      "113935   1999-9  \n",
      "9683    2019-10  \n",
      "33076    1999-5  \n",
      "...         ...  \n",
      "148996  1999-10  \n",
      "149010   2010-3  \n",
      "149398  2017-11  \n",
      "149548   2016-1  \n",
      "149899  2016-10  \n",
      "\n",
      "[8567 rows x 7 columns]\n"
     ]
    }
   ],
   "source": [
    "import pandas as pd\n",
    "data = pd.read_csv(\n",
    "                    '/Users/jeladobos/Documents/Learning/Data Analyst/5th session/Prework/01_Data/product_prices_renamed.csv', # path to the file with data (if we want to enter the name: filepath_or_buffer)\n",
    "                    sep=';',  # column separator\n",
    "                    decimal='.'  # sign separating the whole and fractional parts of a number\n",
    ")\n",
    "data_filter = data[data[\"value\"] != 3000]\n",
    "\n",
    "highest_price = data_filter[\"value\"].max()\n",
    "\n",
    "data_pln = data_filter[(data_filter[\"currency\"] == \"PLN\") & (data_filter[\"province\"] ==  \"POLAND\")]\n",
    "\n",
    "sort_data = data_pln.sort_values(by=[\"product_types\", \"value\"], ascending=[False, True])\n",
    "\n",
    "print(highest_price)\n",
    "\n",
    "print(sort_data)"
   ]
  },
  {
   "cell_type": "code",
   "execution_count": 43,
   "id": "220eaf2a-c2c7-46f6-9b64-bd8539f7aa2f",
   "metadata": {},
   "outputs": [
    {
     "name": "stdout",
     "output_type": "stream",
     "text": [
      "0.0024096385542168\n",
      "       province                            product_types currency  \\\n",
      "11818    POLAND  whole pickled cucumbers 0.9l - per 1pc.      PLN   \n",
      "106330   POLAND  whole pickled cucumbers 0.9l - per 1pc.      PLN   \n",
      "113935   POLAND  whole pickled cucumbers 0.9l - per 1pc.      PLN   \n",
      "9683     POLAND  whole pickled cucumbers 0.9l - per 1pc.      PLN   \n",
      "33076    POLAND  whole pickled cucumbers 0.9l - per 1pc.      PLN   \n",
      "...         ...                                      ...      ...   \n",
      "148996   POLAND                                      NaN      PLN   \n",
      "149010   POLAND                                      NaN      PLN   \n",
      "149398   POLAND                                      NaN      PLN   \n",
      "149548   POLAND                                      NaN      PLN   \n",
      "149899   POLAND                                      NaN      PLN   \n",
      "\n",
      "        product_group_id                             product_line  value  \\\n",
      "11818                  1                                      NaN   1.94   \n",
      "106330                 1                                      NaN   1.96   \n",
      "113935                 1                                      NaN   1.96   \n",
      "9683                   1                                      NaN   2.04   \n",
      "33076                  1                                      NaN   2.07   \n",
      "...                  ...                                      ...    ...   \n",
      "148996                 4  plain mixed bread (wheat-rye) - per 1kg    NaN   \n",
      "149010                 4                          bread - per 1kg    NaN   \n",
      "149398                 4                          bread - per 1kg    NaN   \n",
      "149548                 4                          bread - per 1kg    NaN   \n",
      "149899                 4                          bread - per 1kg    NaN   \n",
      "\n",
      "           date  \n",
      "11818    1999-6  \n",
      "106330  1999-10  \n",
      "113935   1999-9  \n",
      "9683    2019-10  \n",
      "33076    1999-5  \n",
      "...         ...  \n",
      "148996  1999-10  \n",
      "149010   2010-3  \n",
      "149398  2017-11  \n",
      "149548   2016-1  \n",
      "149899  2016-10  \n",
      "\n",
      "[8568 rows x 7 columns]\n"
     ]
    }
   ],
   "source": [
    "import pandas as pd\n",
    "data = pd.read_csv(\n",
    "                    '/Users/jeladobos/Documents/Learning/Data Analyst/5th session/Prework/01_Data/product_prices_renamed.csv', # path to the file with data (if we want to enter the name: filepath_or_buffer)\n",
    "                    sep=';',  # column separator\n",
    "                    decimal='.'  # sign separating the whole and fractional parts of a number\n",
    ")\n",
    "data_filter = data[data[\"value\"] != 0]\n",
    "\n",
    "lowest_price = data_filter[\"value\"].min()\n",
    "\n",
    "data_pln = data_filter[(data_filter[\"currency\"] == \"PLN\") & (data_filter[\"province\"] ==  \"POLAND\")]\n",
    "\n",
    "sort_data = data_pln.sort_values(by=[\"product_types\", \"value\"], ascending=[False, True])\n",
    "\n",
    "print(lowest_price)\n",
    "\n",
    "print(sort_data)"
   ]
  },
  {
   "cell_type": "code",
   "execution_count": null,
   "id": "fecb902c-60b0-41aa-a502-afa9dfc15920",
   "metadata": {},
   "outputs": [],
   "source": []
  }
 ],
 "metadata": {
  "kernelspec": {
   "display_name": "Python 3 (ipykernel)",
   "language": "python",
   "name": "python3"
  },
  "language_info": {
   "codemirror_mode": {
    "name": "ipython",
    "version": 3
   },
   "file_extension": ".py",
   "mimetype": "text/x-python",
   "name": "python",
   "nbconvert_exporter": "python",
   "pygments_lexer": "ipython3",
   "version": "3.12.4"
  }
 },
 "nbformat": 4,
 "nbformat_minor": 5
}
