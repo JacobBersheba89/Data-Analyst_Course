{
 "cells": [
  {
   "cell_type": "code",
   "execution_count": 3,
   "id": "d9b68597-3135-4134-8de6-d63df43becc5",
   "metadata": {},
   "outputs": [],
   "source": [
    "def do_nothing():\n",
    "    return"
   ]
  },
  {
   "cell_type": "code",
   "execution_count": 17,
   "id": "260d144e-6284-41af-ac85-e1dd41bfc6ee",
   "metadata": {},
   "outputs": [],
   "source": [
    "def doNothing():\n",
    "    return\n",
    "# funkce nezačínať číslom, znakom, buď cez podtržítko - hadí zápis(skôr python), \n",
    "# alebo cez malé veľké písmenká - ťaví zápis (JS)"
   ]
  },
  {
   "cell_type": "code",
   "execution_count": 29,
   "id": "06695adf-aab5-48b0-882c-001f414bb1b3",
   "metadata": {},
   "outputs": [],
   "source": [
    "def meaning_of_life():\n",
    "    return 42\n",
    "#zadefinování funkce\n",
    "#return funkci ukončuje"
   ]
  },
  {
   "cell_type": "code",
   "execution_count": 21,
   "id": "6594414d-9b55-4ab2-8108-80c7d60d1a7f",
   "metadata": {},
   "outputs": [
    {
     "data": {
      "text/plain": [
       "<function __main__.meaning_of_life()>"
      ]
     },
     "execution_count": 21,
     "metadata": {},
     "output_type": "execute_result"
    }
   ],
   "source": [
    "meaning_of_life"
   ]
  },
  {
   "cell_type": "code",
   "execution_count": 27,
   "id": "66a977c7-1d8e-430a-acd9-f86bb9219d30",
   "metadata": {},
   "outputs": [
    {
     "data": {
      "text/plain": [
       "42"
      ]
     },
     "execution_count": 27,
     "metadata": {},
     "output_type": "execute_result"
    }
   ],
   "source": [
    "meaning_of_life()\n",
    "#volání funkce"
   ]
  },
  {
   "cell_type": "code",
   "execution_count": 70,
   "id": "a1aa7f4b-2370-4b18-8f65-7bb9f1200b74",
   "metadata": {},
   "outputs": [
    {
     "data": {
      "text/plain": [
       "156"
      ]
     },
     "execution_count": 70,
     "metadata": {},
     "output_type": "execute_result"
    }
   ],
   "source": [
    "a = 13\n",
    "b = 12\n",
    "def multiply(a, b):\n",
    "    return a*b\n",
    "\n",
    "multiply (12, 13)"
   ]
  },
  {
   "cell_type": "code",
   "execution_count": 52,
   "id": "4a5bba4b-da98-4d6a-b331-214fc0db891d",
   "metadata": {},
   "outputs": [
    {
     "name": "stdout",
     "output_type": "stream",
     "text": [
      "2187\n",
      "6.0\n",
      "1.4425629194429777\n"
     ]
    }
   ],
   "source": [
    "def power(base, exponent):\n",
    "    return base ** exponent\n",
    "def root(number, degree = 2):\n",
    "    return number ** (1 / degree)\n",
    "power_result = power(3, 7)\n",
    "root_result = root(36)\n",
    "root_cubic_result = root(13, 7)\n",
    "print(power_result)\n",
    "print(root_result)\n",
    "print(root_cubic_result)"
   ]
  },
  {
   "cell_type": "code",
   "execution_count": 58,
   "id": "b55ad059-e8d7-4354-b716-7fa679fc6062",
   "metadata": {},
   "outputs": [
    {
     "name": "stdout",
     "output_type": "stream",
     "text": [
      "48.75\n"
     ]
    }
   ],
   "source": [
    "def usd_to_pln(usd):\n",
    "    conversion_rate = 3.75\n",
    "    return usd * conversion_rate\n",
    "\n",
    "usd_amount = 13\n",
    "pln_amount = usd_to_pln(usd_amount)\n",
    "print(pln_amount)"
   ]
  },
  {
   "cell_type": "code",
   "execution_count": 66,
   "id": "710a59e2-2a4b-4cc5-a0c4-ac21c7c817a5",
   "metadata": {},
   "outputs": [
    {
     "name": "stdout",
     "output_type": "stream",
     "text": [
      "False\n",
      "True\n",
      "True\n",
      "False\n"
     ]
    }
   ],
   "source": [
    "def is_even(number):\n",
    "    return number % 2 == 0\n",
    "def is_odd(number):\n",
    "    return not is_even(number)\n",
    "\n",
    "number = 7\n",
    "print(is_even(number))\n",
    "print(is_odd(number))\n",
    "\n",
    "number = 6\n",
    "print(is_even(number))\n",
    "print(is_odd(number))"
   ]
  },
  {
   "cell_type": "code",
   "execution_count": 72,
   "id": "448cef12-699f-4f83-a76a-a719a29f81df",
   "metadata": {},
   "outputs": [
    {
     "name": "stdout",
     "output_type": "stream",
     "text": [
      "[1, 2, 3, 2, 1]\n"
     ]
    }
   ],
   "source": [
    "def create_list(a, b, c):\n",
    "    return [a, b, c, b, a]\n",
    "\n",
    "my_list = create_list(1, 2, 3)\n",
    "print(my_list)"
   ]
  },
  {
   "cell_type": "code",
   "execution_count": 86,
   "id": "6232c2ed-ce09-453a-a407-aa2a8464b35d",
   "metadata": {},
   "outputs": [
    {
     "name": "stdout",
     "output_type": "stream",
     "text": [
      "##\n",
      "######\n",
      "########\n",
      "\n",
      "######\n",
      "#####\n",
      "####\n"
     ]
    }
   ],
   "source": [
    "def histogram(list_of_integers):\n",
    "    for number in list_of_integers:\n",
    "        print('#' * number)\n",
    "\n",
    "histogram([2, 6, 8, 0, 6, 5, 4])"
   ]
  },
  {
   "cell_type": "code",
   "execution_count": 90,
   "id": "7c00d093-5bf6-4fa7-b2c9-175a64f924c9",
   "metadata": {},
   "outputs": [
    {
     "name": "stdout",
     "output_type": "stream",
     "text": [
      "['dog', 'cat']\n"
     ]
    }
   ],
   "source": [
    "def find_short_words(words):\n",
    "    short_words = [word for word in words if len(word) < 5]\n",
    "    return short_words\n",
    "\n",
    "find_short_words = ([\"puppy\", \"koala\", \"panda\", \"penguin\", \"rabbit\", \"hedgehog\", \"kitten\", \"otter\", \"dog\", \"cat\"])\n",
    "\n",
    "print(short_words)"
   ]
  },
  {
   "cell_type": "code",
   "execution_count": 96,
   "id": "bff76959-b145-46fc-aa2b-eb0053bdbf2b",
   "metadata": {},
   "outputs": [
    {
     "name": "stdout",
     "output_type": "stream",
     "text": [
      "{'first_name': 'Ann', 'last_name': 'Brown', 'full_name': 'Ann Brown', 'initials': 'A. B.'}\n"
     ]
    }
   ],
   "source": [
    "def user_data(first_name, last_name):\n",
    "    full_name = f\"{first_name} {last_name}\"\n",
    "    initials = f\"{first_name[0].upper()}. {last_name[0].upper()}.\"\n",
    "    return {\n",
    "        \"first_name\": first_name,\n",
    "        \"last_name\": last_name,\n",
    "        \"full_name\": full_name,\n",
    "        \"initials\": initials\n",
    "    }\n",
    "\n",
    "data = user_data(\"Ann\",\"Brown\")\n",
    "print(data)"
   ]
  },
  {
   "cell_type": "code",
   "execution_count": 100,
   "id": "bca8a6f9-f840-4429-9eac-b6ae7a60561e",
   "metadata": {},
   "outputs": [
    {
     "name": "stdout",
     "output_type": "stream",
     "text": [
      "cat=>Kot\n",
      "dog=>Pies\n",
      "bird=>Ptak\n"
     ]
    }
   ],
   "source": [
    "def display_dict(dictionary):\n",
    "    for key, value in dictionary.items():\n",
    "        print(f\"{key}=>{value}\")\n",
    "\n",
    "display_dict({\"cat\": \"Kot\", \"dog\": \"Pies\", \"bird\": \"Ptak\"})\n",
    "    "
   ]
  },
  {
   "cell_type": "code",
   "execution_count": 104,
   "id": "ea2fd70d-9145-4bad-9dc5-0d9a7c490a72",
   "metadata": {},
   "outputs": [
    {
     "name": "stdout",
     "output_type": "stream",
     "text": [
      "words BEFORE: ['Twinkle', 'twinkle', 'little', 'star']\n",
      "words AFTER: ['Twinkle', 'twinkle', 'little', 'star', 'Found']\n"
     ]
    }
   ],
   "source": [
    "def wordfinder(list_of_words, word):\n",
    "    if word in list_of_words:\n",
    "        list_of_words.append('Found')\n",
    "        \n",
    "words = ['Twinkle', 'twinkle', 'little', 'star']\n",
    "print('words BEFORE:', words)\n",
    "wordfinder(words, 'twinkle')\n",
    "print('words AFTER:', words)\n"
   ]
  },
  {
   "cell_type": "code",
   "execution_count": 112,
   "id": "c9bf0ddb-b42d-4e36-a77b-c56823fdbc3d",
   "metadata": {},
   "outputs": [
    {
     "name": "stdout",
     "output_type": "stream",
     "text": [
      "{'first_name': 'Ann', 'last_name': 'Brown', 'email': 'a.brown@myamazingcompany.com'}\n"
     ]
    }
   ],
   "source": [
    "def create_email(first_name, last_name):\n",
    "    email  = f\"{first_name[0].lower()}.{last_name.lower()}@myamazingcompany.com\"\n",
    "    return {\n",
    "    \"first_name\": first_name,\n",
    "    \"last_name\": last_name,\n",
    "    \"email\": email\n",
    "}\n",
    "data = create_email(\"Ann\",\"Brown\")\n",
    "print(data)"
   ]
  },
  {
   "cell_type": "code",
   "execution_count": 116,
   "id": "92b957de-bf8d-448e-9105-158a0ad27507",
   "metadata": {},
   "outputs": [
    {
     "name": "stdout",
     "output_type": "stream",
     "text": [
      "Hand-deliver to: John Connor\n",
      "Hayvenhurst Drive 12 \n",
      "Van Nyus 14329\n"
     ]
    }
   ],
   "source": [
    "def create_address(first_name, last_name, street, number, city, zipcode):\n",
    "    return (f\"Hand-deliver to: {first_name} {last_name}\\n\"\n",
    "            f\"{street} {number} \\n\"\n",
    "            f\"{city} {zipcode}\")\n",
    "\n",
    "print(create_address('John', 'Connor', 'Hayvenhurst Drive', 12, 'Van Nyus', '14329'))"
   ]
  },
  {
   "cell_type": "code",
   "execution_count": 120,
   "id": "f188b252-7085-480e-a50e-5acd37501fc9",
   "metadata": {},
   "outputs": [
    {
     "name": "stdout",
     "output_type": "stream",
     "text": [
      "j.c***l.com\n",
      "***o2.pl\n"
     ]
    }
   ],
   "source": [
    "def anonymize(email):\n",
    "    if len(email) < 10:\n",
    "        return \"***\" + email[-5:]\n",
    "    else:\n",
    "        return email[:3] + \"***\" + email[-5:]\n",
    "\n",
    "print(anonymize(\"j.connor@gmail.com\"))\n",
    "print(anonymize(\"jco@o2.pl\"))"
   ]
  },
  {
   "cell_type": "code",
   "execution_count": 122,
   "id": "cd7bcc5f-f030-430b-9818-20f4d97e7906",
   "metadata": {},
   "outputs": [
    {
     "name": "stdout",
     "output_type": "stream",
     "text": [
      "tseT\n"
     ]
    }
   ],
   "source": [
    "def reverse_str(text):\n",
    "    return text[::-1]\n",
    "print(reverse_str(\"Test\"))"
   ]
  },
  {
   "cell_type": "code",
   "execution_count": null,
   "id": "31314250-b58e-4e86-a072-4e9db8bae516",
   "metadata": {},
   "outputs": [],
   "source": []
  }
 ],
 "metadata": {
  "kernelspec": {
   "display_name": "Python 3 (ipykernel)",
   "language": "python",
   "name": "python3"
  },
  "language_info": {
   "codemirror_mode": {
    "name": "ipython",
    "version": 3
   },
   "file_extension": ".py",
   "mimetype": "text/x-python",
   "name": "python",
   "nbconvert_exporter": "python",
   "pygments_lexer": "ipython3",
   "version": "3.12.4"
  }
 },
 "nbformat": 4,
 "nbformat_minor": 5
}
