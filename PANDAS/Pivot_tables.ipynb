{
 "cells": [
  {
   "cell_type": "markdown",
   "metadata": {},
   "source": [
    " **Basic work with easy xlsx table**"
   ]
  },
  {
   "cell_type": "code",
   "execution_count": 13,
   "metadata": {},
   "outputs": [
    {
     "name": "stdout",
     "output_type": "stream",
     "text": [
      "Requirement already satisfied: openpyxl in c:\\users\\martinpc\\anaconda3\\lib\\site-packages (3.1.2)\n",
      "Requirement already satisfied: et-xmlfile in c:\\users\\martinpc\\anaconda3\\lib\\site-packages (from openpyxl) (1.1.0)\n",
      "Note: you may need to restart the kernel to use updated packages.\n"
     ]
    }
   ],
   "source": [
    "pip install openpyxl"
   ]
  },
  {
   "cell_type": "code",
   "execution_count": 17,
   "metadata": {},
   "outputs": [
    {
     "name": "stdout",
     "output_type": "stream",
     "text": [
      "       Jméno    město  weater typ_of_city\n",
      "0      Jakub  Havířov   sunny        city\n",
      "1        Jan  Olomouc   sunny        city\n",
      "2       Jiří  ostrava  cloudy        city\n",
      "3    johanka  Štarnov  cloudy      vilage\n",
      "4  automobil    Praha   windy        city\n"
     ]
    }
   ],
   "source": [
    "import pandas as pd\n",
    "\n",
    "# Načtení dat s českými proměnnými\n",
    "data = pd.read_excel('C:\\\\Users\\\\MartinPC\\\\Desktop\\\\Kuba kurz\\\\01_Data\\\\test_table.xlsx')\n",
    "\n",
    "# Zobrazení dat\n",
    "print(data)"
   ]
  },
  {
   "cell_type": "code",
   "execution_count": null,
   "metadata": {},
   "outputs": [],
   "source": [
    "df['Jméno'] = [Jméno']"
   ]
  },
  {
   "cell_type": "code",
   "execution_count": 8,
   "metadata": {},
   "outputs": [
    {
     "ename": "NameError",
     "evalue": "name 'df_province' is not defined",
     "output_type": "error",
     "traceback": [
      "\u001b[1;31m---------------------------------------------------------------------------\u001b[0m",
      "\u001b[1;31mNameError\u001b[0m                                 Traceback (most recent call last)",
      "Cell \u001b[1;32mIn[8], line 1\u001b[0m\n\u001b[1;32m----> 1\u001b[0m \u001b[38;5;28mtype\u001b[39m(df_province[product_group_id])\n",
      "\u001b[1;31mNameError\u001b[0m: name 'df_province' is not defined"
     ]
    }
   ],
   "source": [
    "type(df_province[product_group_id])"
   ]
  },
  {
   "cell_type": "code",
   "execution_count": 10,
   "metadata": {},
   "outputs": [
    {
     "ename": "NameError",
     "evalue": "name 'df_province' is not defined",
     "output_type": "error",
     "traceback": [
      "\u001b[1;31m---------------------------------------------------------------------------\u001b[0m",
      "\u001b[1;31mNameError\u001b[0m                                 Traceback (most recent call last)",
      "Cell \u001b[1;32mIn[10], line 2\u001b[0m\n\u001b[0;32m      1\u001b[0m join_example \u001b[38;5;241m=\u001b[39m pd\u001b[38;5;241m.\u001b[39mmerge(\n\u001b[1;32m----> 2\u001b[0m     left \u001b[38;5;241m=\u001b[39m df_province, \u001b[38;5;66;03m#Dataframe\u001b[39;00m\n\u001b[0;32m      3\u001b[0m     right \u001b[38;5;241m=\u001b[39m df_province, \u001b[38;5;66;03m#Dataframe\u001b[39;00m\n\u001b[0;32m      4\u001b[0m     how \u001b[38;5;241m=\u001b[39m \u001b[38;5;124m'\u001b[39m\u001b[38;5;124mleft\u001b[39m\u001b[38;5;124m'\u001b[39m,\n\u001b[0;32m      5\u001b[0m     left_on \u001b[38;5;241m=\u001b[39m [\u001b[38;5;124m'\u001b[39m\u001b[38;5;124mprovince\u001b[39m\u001b[38;5;124m'\u001b[39m],\n\u001b[0;32m      6\u001b[0m     right_on \u001b[38;5;241m=\u001b[39m [\u001b[38;5;124m'\u001b[39m\u001b[38;5;124mprovince\u001b[39m\u001b[38;5;124m'\u001b[39m]\n\u001b[0;32m      7\u001b[0m )\n\u001b[0;32m      9\u001b[0m join_example\n",
      "\u001b[1;31mNameError\u001b[0m: name 'df_province' is not defined"
     ]
    }
   ],
   "source": [
    "join_example = pd.merge(\n",
    "    left = df_province, #Dataframe\n",
    "    right = df_province, #Dataframe\n",
    "    how = 'left', #or inner, right\n",
    "    left_on = ['province'],\n",
    "    right_on = ['province']\n",
    ")\n",
    "\n",
    "join_example"
   ]
  },
  {
   "cell_type": "code",
   "execution_count": null,
   "metadata": {},
   "outputs": [],
   "source": []
  }
 ],
 "metadata": {
  "kernelspec": {
   "display_name": "base",
   "language": "python",
   "name": "python3"
  },
  "language_info": {
   "codemirror_mode": {
    "name": "ipython",
    "version": 3
   },
   "file_extension": ".py",
   "mimetype": "text/x-python",
   "name": "python",
   "nbconvert_exporter": "python",
   "pygments_lexer": "ipython3",
   "version": "3.12.4"
  }
 },
 "nbformat": 4,
 "nbformat_minor": 2
}
