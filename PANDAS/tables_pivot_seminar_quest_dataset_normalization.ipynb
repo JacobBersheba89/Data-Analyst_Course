{
 "cells": [
  {
   "cell_type": "markdown",
   "metadata": {},
   "source": [
    "<H1><b><span style=\"color:lightblue\">OFFICIAL TASK FROM LMS</span></b></H1>\n",
    "<H3><span style=\"color:turquoise;\">I marked details below this... <br></H3> I already instaled openpyxl, which is importnat to read xml files, of course instaled pandas..<br> in the next command, is nesesery to use \"pd.read_excel\" which allows read generaly .xlsx files. </span></H3>"
   ]
  },
  {
   "cell_type": "code",
   "execution_count": 1,
   "metadata": {},
   "outputs": [
    {
     "name": "stdout",
     "output_type": "stream",
     "text": [
      "Requirement already satisfied: openpyxl in c:\\users\\martinpc\\anaconda3\\lib\\site-packages (3.1.2)\n",
      "Requirement already satisfied: et-xmlfile in c:\\users\\martinpc\\anaconda3\\lib\\site-packages (from openpyxl) (1.1.0)\n",
      "Note: you may need to restart the kernel to use updated packages.\n"
     ]
    }
   ],
   "source": [
    "pip install openpyxl"
   ]
  },
  {
   "cell_type": "code",
   "execution_count": 5,
   "metadata": {},
   "outputs": [
    {
     "name": "stdout",
     "output_type": "stream",
     "text": [
      "Files and Directory: ['API', 'JSON', 'PANDAS', 'SQL']\n"
     ]
    }
   ],
   "source": [
    "import os\n",
    "current_directory = './..'\n",
    "files = os.listdir(current_directory)\n",
    "print(\"Files and Directory:\", files)"
   ]
  },
  {
   "cell_type": "code",
   "execution_count": 2,
   "metadata": {},
   "outputs": [
    {
     "name": "stdout",
     "output_type": "stream",
     "text": [
      "    province_id           province\n",
      "0             8       SUBCARPATHIA\n",
      "1            14               ŁÓDŹ\n",
      "2             2  KUYAVIA-POMERANIA\n",
      "3             1      LOWER SILESIA\n",
      "4            11     WARMIA-MASURIA\n",
      "5            16         HOLY CROSS\n",
      "6            13     WEST POMERANIA\n",
      "7             9          PODLASKIE\n",
      "8            12     GREATER POLAND\n",
      "9            10          POMERANIA\n",
      "10            6      LESSER POLAND\n",
      "11           15            SILESIA\n",
      "12            5            MASOVIA\n",
      "13            3             LUBLIN\n",
      "14            4             LUBUSZ\n",
      "15            7              OPOLE\n"
     ]
    }
   ],
   "source": [
    "import pandas as pd\n",
    "\n",
    "# Načtení dat s českými proměnnými\n",
    "data = pd.read_excel('C:\\\\Users\\\\MartinPC\\\\Desktop\\\\Kuba kurz\\\\01_Data\\\\dims.xlsx')\n",
    "\n",
    "# Zobrazení dat\n",
    "print(data)"
   ]
  },
  {
   "cell_type": "markdown",
   "metadata": {},
   "source": [
    "We have some tasks.. so:"
   ]
  },
  {
   "cell_type": "markdown",
   "metadata": {},
   "source": [
    "<H5>Dataset normalization</H5>\n",
    "In the sheets of the <span style=\"color:orange\">dims.xlsx</span> file there are dictionaries for the data from the product_prices_cleaned.csv file. Use merge to normalize the data following the steps:\n",
    "\n",
    "Read the contents of the dims.xlsx file sheets to separate DataFrames. For readability base names of frames on the names of sheets.\n",
    "\n",
    "- Read the data from product_prices_cleaned.csv file to the df variable.\n",
    "\n",
    "- Based on the d_province workbook, use the id column to add the province_id column to the df frame.\n",
    "\n",
    "- Based on the d_product workbook, add the product_id column to the df frame.\n",
    "\n",
    "From the table, extract only the columns that refer to other tables, e.g.. product_id and the columns value, date. Do you think this is more readable? What are potential benefits of this approach?\n",
    "\n",
    "We will tell you how to read many workbooks at once when we discuss openpyxl.\n",
    "\n",
    "You can find more about database normalization at the [Sqlshack.com - databaze normalization](https://www.sqlshack.com/what-is-database-normalization-in-sql-server/)"
   ]
  },
  {
   "cell_type": "markdown",
   "metadata": {},
   "source": [
    "**DATA FRAMES**"
   ]
  },
  {
   "cell_type": "code",
   "execution_count": null,
   "metadata": {},
   "outputs": [],
   "source": [
    "xls = pd.ExcelFile('C:\\\\Users\\\\MartinPC\\\\Desktop\\\\Kuba kurz\\\\01_Data\\\\dims.xlsx')\n",
    "\n",
    "sheet_names = xls.sheet_names\n",
    "\n",
    "# Načtení každého listu do DataFrame a pojmenování podle názvů listů\n",
    "dataframes = {sheet: pd.read_excel(xls, sheet_name=sheet) for sheet in sheet_names}\n",
    "\n",
    "# Nyní máš slovník 'dataframes', kde jsou DataFrames pojmenované podle názvů listů\n",
    "print(dataframes)"
   ]
  },
  {
   "cell_type": "code",
   "execution_count": 35,
   "metadata": {},
   "outputs": [],
   "source": [
    "d_province = dataframes['d_province']\n",
    "d_product = dataframes['d_product']\n",
    "d_product_group = dataframes['d_product_group']"
   ]
  },
  {
   "cell_type": "code",
   "execution_count": 44,
   "metadata": {},
   "outputs": [
    {
     "name": "stdout",
     "output_type": "stream",
     "text": [
      "   province_id           province\n",
      "0            8       SUBCARPATHIA\n",
      "1           14               ŁÓDŹ\n",
      "2            2  KUYAVIA-POMERANIA\n",
      "3            1      LOWER SILESIA\n",
      "4           11     WARMIA-MASURIA\n",
      "   product_id                          product  product_group_id\n",
      "0          20        pork ham cooked - per 1kg                 2\n",
      "1          26                  bread - per 1kg                 4\n",
      "2          10  barley groats sausage - per 1kg                 2\n",
      "3          12       dressed chickens - per 1kg                 2\n",
      "4          19    Italian head cheese - per 1kg                 2\n",
      "   product_group_id   product_group\n",
      "0                 1       preserves\n",
      "1                 2   meat products\n",
      "2                 3  other products\n",
      "3                 4    oat products\n"
     ]
    }
   ],
   "source": [
    "print(d_province.head())\n",
    "print(d_product.head())\n",
    "print(d_product_group.head())"
   ]
  },
  {
   "cell_type": "markdown",
   "metadata": {},
   "source": [
    "Next step:<br>**read od cleaned file:** 'product_prices_cleaned.csv"
   ]
  },
  {
   "cell_type": "code",
   "execution_count": 45,
   "metadata": {},
   "outputs": [
    {
     "name": "stdout",
     "output_type": "stream",
     "text": [
      "            province product_types currency  product_group_id  \\\n",
      "0       SUBCARPATHIA           NaN      PLN                 2   \n",
      "1               ŁÓDŹ           NaN      PLN                 4   \n",
      "2  KUYAVIA-POMERANIA           NaN      PLN                 2   \n",
      "3      LOWER SILESIA           NaN      PLN                 2   \n",
      "4     WARMIA-MASURIA           NaN      PLN                 2   \n",
      "\n",
      "                      product_line  value     date  \\\n",
      "0        pork ham cooked - per 1kg  21.37   2013-3   \n",
      "1                  bread - per 1kg    NaN   2018-2   \n",
      "2  barley groats sausage - per 1kg   3.55  2019-12   \n",
      "3       dressed chickens - per 1kg   6.14   2019-2   \n",
      "4    Italian head cheese - per 1kg   5.63   2002-3   \n",
      "\n",
      "                           product  \n",
      "0        pork ham cooked - per 1kg  \n",
      "1                  bread - per 1kg  \n",
      "2  barley groats sausage - per 1kg  \n",
      "3       dressed chickens - per 1kg  \n",
      "4    Italian head cheese - per 1kg  \n"
     ]
    }
   ],
   "source": [
    "df = pd.read_csv('C:\\\\Users\\\\MartinPC\\\\Desktop\\\\Kuba kurz\\\\01_Data\\\\product_prices_cleaned.csv', sep=';')\n",
    "\n",
    "# Ověření správného načtení\n",
    "print(df.head())"
   ]
  },
  {
   "cell_type": "code",
   "execution_count": 46,
   "metadata": {},
   "outputs": [],
   "source": [
    "#conection of tables\n",
    "df = pd.merge(df, d_province, on='province', how='left')"
   ]
  },
  {
   "cell_type": "code",
   "execution_count": 47,
   "metadata": {},
   "outputs": [
    {
     "name": "stdout",
     "output_type": "stream",
     "text": [
      "                 province                       product_types currency  \\\n",
      "0            SUBCARPATHIA                                 NaN      PLN   \n",
      "1                    ŁÓDŹ                                 NaN      PLN   \n",
      "2       KUYAVIA-POMERANIA                                 NaN      PLN   \n",
      "3           LOWER SILESIA                                 NaN      PLN   \n",
      "4          WARMIA-MASURIA                                 NaN      PLN   \n",
      "...                   ...                                 ...      ...   \n",
      "128498            SILESIA                                 NaN      PLN   \n",
      "128499            SILESIA                                 NaN      PLN   \n",
      "128500  KUYAVIA-POMERANIA                                 NaN      PLN   \n",
      "128501               ŁÓDŹ  beet sugar white, bagged - per 1kg      PLN   \n",
      "128502     WARMIA-MASURIA                                 NaN      PLN   \n",
      "\n",
      "        product_group_id                       product_line  value     date  \\\n",
      "0                      2          pork ham cooked - per 1kg  21.37   2013-3   \n",
      "1                      4                    bread - per 1kg    NaN   2018-2   \n",
      "2                      2    barley groats sausage - per 1kg   3.55  2019-12   \n",
      "3                      2         dressed chickens - per 1kg   6.14   2019-2   \n",
      "4                      2      Italian head cheese - per 1kg   5.63   2002-3   \n",
      "...                  ...                                ...    ...      ...   \n",
      "128498                 2   smoked bacon with ribs - per 1kg  15.95   2015-9   \n",
      "128499                 2    barley groats sausage - per 1kg   4.50   2004-8   \n",
      "128500                 2   pork  meat (raw bacon) - per 1kg  12.15  2016-11   \n",
      "128501                 3                                NaN   0.00   2012-5   \n",
      "128502                 2  boneless beef (sirloin) - per 1kg  11.87  2000-11   \n",
      "\n",
      "                                   product  province_id  \n",
      "0                pork ham cooked - per 1kg          8.0  \n",
      "1                          bread - per 1kg         14.0  \n",
      "2          barley groats sausage - per 1kg          2.0  \n",
      "3               dressed chickens - per 1kg          1.0  \n",
      "4            Italian head cheese - per 1kg         11.0  \n",
      "...                                    ...          ...  \n",
      "128498    smoked bacon with ribs - per 1kg         15.0  \n",
      "128499     barley groats sausage - per 1kg         15.0  \n",
      "128500    pork  meat (raw bacon) - per 1kg          2.0  \n",
      "128501  beet sugar white, bagged - per 1kg         14.0  \n",
      "128502   boneless beef (sirloin) - per 1kg         11.0  \n",
      "\n",
      "[128503 rows x 9 columns]\n"
     ]
    }
   ],
   "source": [
    "print(df)"
   ]
  },
  {
   "cell_type": "code",
   "execution_count": 48,
   "metadata": {},
   "outputs": [
    {
     "name": "stdout",
     "output_type": "stream",
     "text": [
      "            province product_types currency  product_group_id  \\\n",
      "0       SUBCARPATHIA           NaN      PLN                 2   \n",
      "1               ŁÓDŹ           NaN      PLN                 4   \n",
      "2  KUYAVIA-POMERANIA           NaN      PLN                 2   \n",
      "3      LOWER SILESIA           NaN      PLN                 2   \n",
      "4     WARMIA-MASURIA           NaN      PLN                 2   \n",
      "\n",
      "                      product_line  value     date  \\\n",
      "0        pork ham cooked - per 1kg  21.37   2013-3   \n",
      "1                  bread - per 1kg    NaN   2018-2   \n",
      "2  barley groats sausage - per 1kg   3.55  2019-12   \n",
      "3       dressed chickens - per 1kg   6.14   2019-2   \n",
      "4    Italian head cheese - per 1kg   5.63   2002-3   \n",
      "\n",
      "                           product  province_id  \n",
      "0        pork ham cooked - per 1kg          8.0  \n",
      "1                  bread - per 1kg         14.0  \n",
      "2  barley groats sausage - per 1kg          2.0  \n",
      "3       dressed chickens - per 1kg          1.0  \n",
      "4    Italian head cheese - per 1kg         11.0  \n"
     ]
    }
   ],
   "source": [
    "print(df.head())"
   ]
  },
  {
   "cell_type": "markdown",
   "metadata": {},
   "source": [
    "Next step:<br>\n",
    "**Based on the d_product workbook, add the product_id column to the df frame.**"
   ]
  },
  {
   "cell_type": "code",
   "execution_count": 49,
   "metadata": {},
   "outputs": [
    {
     "name": "stdout",
     "output_type": "stream",
     "text": [
      "            province product_types currency  product_group_id_x  \\\n",
      "0       SUBCARPATHIA           NaN      PLN                   2   \n",
      "1               ŁÓDŹ           NaN      PLN                   4   \n",
      "2  KUYAVIA-POMERANIA           NaN      PLN                   2   \n",
      "3      LOWER SILESIA           NaN      PLN                   2   \n",
      "4     WARMIA-MASURIA           NaN      PLN                   2   \n",
      "\n",
      "                      product_line  value     date  \\\n",
      "0        pork ham cooked - per 1kg  21.37   2013-3   \n",
      "1                  bread - per 1kg    NaN   2018-2   \n",
      "2  barley groats sausage - per 1kg   3.55  2019-12   \n",
      "3       dressed chickens - per 1kg   6.14   2019-2   \n",
      "4    Italian head cheese - per 1kg   5.63   2002-3   \n",
      "\n",
      "                           product  province_id  product_id  \\\n",
      "0        pork ham cooked - per 1kg          8.0        20.0   \n",
      "1                  bread - per 1kg         14.0        26.0   \n",
      "2  barley groats sausage - per 1kg          2.0        10.0   \n",
      "3       dressed chickens - per 1kg          1.0        12.0   \n",
      "4    Italian head cheese - per 1kg         11.0        19.0   \n",
      "\n",
      "   product_group_id_y  \n",
      "0                 2.0  \n",
      "1                 4.0  \n",
      "2                 2.0  \n",
      "3                 2.0  \n",
      "4                 2.0  \n"
     ]
    }
   ],
   "source": [
    "df = pd.merge(df, d_product, on='product', how='left')\n",
    "\n",
    "# Ověříme, že se přidal sloupec 'product_id'\n",
    "print(df.head())"
   ]
  },
  {
   "cell_type": "markdown",
   "metadata": {},
   "source": [
    "**Z tabulky extrahujte pouze sloupce, které odkazují na jiné tabulky, např. product_id a sloupce hodnota , datum.** \n",
    "-Myslíte si, že je to čitelnější? - asi ano, odstranili jsme nepotřebná data, asi je to čitelnější. \n",
    "-Jaké jsou potenciální výhody tohoto přístupu?"
   ]
  },
  {
   "cell_type": "code",
   "execution_count": 50,
   "metadata": {},
   "outputs": [
    {
     "name": "stdout",
     "output_type": "stream",
     "text": [
      "   product_id  province_id  value     date\n",
      "0        20.0          8.0  21.37   2013-3\n",
      "1        26.0         14.0    NaN   2018-2\n",
      "2        10.0          2.0   3.55  2019-12\n",
      "3        12.0          1.0   6.14   2019-2\n",
      "4        19.0         11.0   5.63   2002-3\n"
     ]
    }
   ],
   "source": [
    "df_normalized = df[['product_id', 'province_id', 'value', 'date']]\n",
    "\n",
    "# Ověření výsledku\n",
    "print(df_normalized.head())"
   ]
  },
  {
   "cell_type": "code",
   "execution_count": 51,
   "metadata": {},
   "outputs": [],
   "source": [
    "# Uložení DataFrame do Excelu\n",
    "df_normalized.to_excel('C:\\\\Users\\\\MartinPC\\\\Desktop\\\\Kuba kurz\\\\01_Data\\\\df_normalized.xlsx', index=False)\n",
    "\n",
    "# 'index=False' zajistí, že nebudou uloženy indexy DataFrame jako další sloupec\n"
   ]
  }
 ],
 "metadata": {
  "kernelspec": {
   "display_name": "base",
   "language": "python",
   "name": "python3"
  },
  "language_info": {
   "codemirror_mode": {
    "name": "ipython",
    "version": 3
   },
   "file_extension": ".py",
   "mimetype": "text/x-python",
   "name": "python",
   "nbconvert_exporter": "python",
   "pygments_lexer": "ipython3",
   "version": "3.12.4"
  }
 },
 "nbformat": 4,
 "nbformat_minor": 2
}
