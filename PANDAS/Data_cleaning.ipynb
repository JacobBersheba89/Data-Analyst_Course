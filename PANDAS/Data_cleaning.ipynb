{
 "cells": [
  {
   "cell_type": "markdown",
   "metadata": {},
   "source": [
    "\n",
    "**Removing errors**\n",
    "Using the solutions from the previous class and the ***product_prices_renamed.csv*** file, modify loc so that it corrects the errors present in the dataset:\n",
    "\n",
    "In the date column, data from 1888 appeared - '1888-0', change the value to 1999-1,\n",
    "In the date column, data from 2099 appeared - '2099-13', change the value to 2019-1,\n",
    "There is a spelling error in the product_types column - correct it. Number of pieces should be '10pcs.`. Check whether the task was done correctly.\n",
    "Use loc to convert the values given in EUR to PLN with 4.15 exchange rate.\n",
    "Instead of writing loc twice, first query the data for rows where currency = EUR and save it to a variable.\n",
    "Filter from the set those rows where the price for the product is 3000.\n",
    "Remember that loc modifies data irrevocably."
   ]
  },
  {
   "cell_type": "code",
   "execution_count": null,
   "metadata": {},
   "outputs": [],
   "source": [
    "import pandas as pd\n",
    "\n",
    "# Načtení dat s českými proměnnými\n",
    "data = pd.read_csv('C:\\\\Users\\\\MartinPC\\\\Desktop\\\\Kuba kurz\\\\01_Data\\\\product_prices_renamed.csv', sep=\";\", decimal=\".\")\n",
    "\n",
    "# Zobrazení dat\n",
    "print(data)"
   ]
  },
  {
   "cell_type": "code",
   "execution_count": 4,
   "metadata": {},
   "outputs": [
    {
     "name": "stdout",
     "output_type": "stream",
     "text": [
      "            province product_types currency  product_group_id  \\\n",
      "0       SUBCARPATHIA           NaN      PLN                 2   \n",
      "1               ŁÓDŹ           NaN      PLN                 4   \n",
      "2  KUYAVIA-POMERANIA           NaN      PLN                 2   \n",
      "3      LOWER SILESIA           NaN      PLN                 2   \n",
      "4     WARMIA-MASURIA           NaN      PLN                 2   \n",
      "\n",
      "                      product_line  value     date    datum  \n",
      "0        pork ham cooked - per 1kg  21.37   2013-3   2013-3  \n",
      "1                  bread - per 1kg    NaN   2018-2   2018-2  \n",
      "2  barley groats sausage - per 1kg   3.55  2019-12  2019-12  \n",
      "3       dressed chickens - per 1kg   6.14   2019-2   2019-2  \n",
      "4    Italian head cheese - per 1kg   5.63   2002-3   2002-3  \n"
     ]
    }
   ],
   "source": [
    "# Načtení dat z CSV souboru\n",
    "data = pd.read_csv('C:\\\\Users\\\\MartinPC\\\\Desktop\\\\Kuba kurz\\\\01_Data\\\\product_prices_renamed.csv', sep=\";\", decimal=\".\")\n",
    "data['date'] = data['date'].astype(str)\n",
    "data['datum'] = data['date'].str.replace('1888-0', '1999-1').str.replace('2099-13', '2019-1')\n",
    "\n",
    "# Zobrazíme několik prvních řádků upravených dat\n",
    "print(data.head())\n"
   ]
  },
  {
   "cell_type": "markdown",
   "metadata": {},
   "source": [
    "<H3> So now I will do some cleaning of this </H3>\n",
    "date file ** product_prices_renamed.csv **"
   ]
  },
  {
   "cell_type": "code",
   "execution_count": 7,
   "metadata": {},
   "outputs": [
    {
     "name": "stdout",
     "output_type": "stream",
     "text": [
      "Původní data:\n",
      "                 province                       product_types currency  \\\n",
      "0            SUBCARPATHIA                                 NaN      PLN   \n",
      "1                    ŁÓDŹ                                 NaN      PLN   \n",
      "2       KUYAVIA-POMERANIA                                 NaN      PLN   \n",
      "3           LOWER SILESIA                                 NaN      PLN   \n",
      "4          WARMIA-MASURIA                                 NaN      PLN   \n",
      "...                   ...                                 ...      ...   \n",
      "149935  KUYAVIA-POMERANIA                                 NaN      PLN   \n",
      "149936               ŁÓDŹ  beet sugar white, bagged - per 1kg      PLN   \n",
      "149937      LESSER POLAND                                 NaN      PLN   \n",
      "149938     WARMIA-MASURIA                                 NaN      PLN   \n",
      "149939            MASOVIA                                 NaN      PLN   \n",
      "\n",
      "        product_group_id                             product_line  value  \\\n",
      "0                      2                pork ham cooked - per 1kg  21.37   \n",
      "1                      4                          bread - per 1kg    NaN   \n",
      "2                      2          barley groats sausage - per 1kg   3.55   \n",
      "3                      2               dressed chickens - per 1kg   6.14   \n",
      "4                      2            Italian head cheese - per 1kg   5.63   \n",
      "...                  ...                                      ...    ...   \n",
      "149935                 2         pork  meat (raw bacon) - per 1kg  12.15   \n",
      "149936                 3                                      NaN   0.00   \n",
      "149937                 4  plain mixed bread (wheat-rye) - per 1kg   3.05   \n",
      "149938                 2        boneless beef (sirloin) - per 1kg  11.87   \n",
      "149939                 4         Masurian barley groats - per 1kg   0.16   \n",
      "\n",
      "           date  \n",
      "0        2013-3  \n",
      "1        2018-2  \n",
      "2       2019-12  \n",
      "3        2019-2  \n",
      "4        2002-3  \n",
      "...         ...  \n",
      "149935  2016-11  \n",
      "149936   2012-5  \n",
      "149937   2008-6  \n",
      "149938  2000-11  \n",
      "149939  2005-10  \n",
      "\n",
      "[149940 rows x 7 columns]\n",
      "\n",
      "Upravená data:\n",
      "            province product_types currency  product_group_id  \\\n",
      "0       SUBCARPATHIA           NaN      PLN                 2   \n",
      "1               ŁÓDŹ           NaN      PLN                 4   \n",
      "2  KUYAVIA-POMERANIA           NaN      PLN                 2   \n",
      "3      LOWER SILESIA           NaN      PLN                 2   \n",
      "4     WARMIA-MASURIA           NaN      PLN                 2   \n",
      "\n",
      "                      product_line  value     date    datum  \n",
      "0        pork ham cooked - per 1kg  21.37   2013-3   2013-3  \n",
      "1                  bread - per 1kg    NaN   2018-2   2018-2  \n",
      "2  barley groats sausage - per 1kg   3.55  2019-12  2019-12  \n",
      "3       dressed chickens - per 1kg   6.14   2019-2   2019-2  \n",
      "4    Italian head cheese - per 1kg   5.63   2002-3   2002-3  \n",
      "\n",
      "Duplicitní řádky:\n",
      "              province product_types currency  product_group_id  \\\n",
      "545            SILESIA           NaN      PLN                 4   \n",
      "1913            LUBUSZ           NaN      PLN                 4   \n",
      "2356            POLAND           NaN      PLN                 4   \n",
      "2528    WARMIA-MASURIA           NaN      PLN                 4   \n",
      "2662        HOLY CROSS           NaN      PLN                 4   \n",
      "...                ...           ...      ...               ...   \n",
      "149925  GREATER POLAND           NaN      PLN                 4   \n",
      "149926          POLAND           NaN      PLN                 4   \n",
      "149930  WARMIA-MASURIA           NaN      PLN                 4   \n",
      "149937   LESSER POLAND           NaN      PLN                 4   \n",
      "149939         MASOVIA           NaN      PLN                 4   \n",
      "\n",
      "                                    product_line  value     date    datum  \n",
      "545                              bread - per 1kg    NaN   2013-8   2013-8  \n",
      "1913            Masurian barley groats - per 1kg   0.00  2007-10  2007-10  \n",
      "2356            Masurian barley groats - per 1kg   1.39   2001-2   2001-2  \n",
      "2528     plain mixed bread (wheat-rye) - per 1kg   3.93   2015-9   2015-9  \n",
      "2662        Poznan wheat flour, bagged - per 1kg   0.59   2001-6   2001-6  \n",
      "...                                          ...    ...      ...      ...  \n",
      "149925  buckwheat groats roasted whole - per 1kg   0.00  2008-12  2008-12  \n",
      "149926  buckwheat groats roasted whole - per 1kg   5.10   2016-5   2016-5  \n",
      "149930      Poznan wheat flour, bagged - per 1kg   0.99  2010-10  2010-10  \n",
      "149937   plain mixed bread (wheat-rye) - per 1kg   3.05   2008-6   2008-6  \n",
      "149939          Masurian barley groats - per 1kg   0.16  2005-10  2005-10  \n",
      "\n",
      "[21420 rows x 8 columns]\n",
      "\n",
      "Celkový počet duplicitních řádků: 21420\n"
     ]
    }
   ],
   "source": [
    "import pandas as pd\n",
    "\n",
    "data = pd.read_csv('C:\\\\Users\\\\MartinPC\\\\Desktop\\\\Kuba kurz\\\\01_Data\\\\product_prices_renamed.csv', sep=\";\", decimal=\".\")\n",
    "\n",
    "print(\"Původní data:\")\n",
    "print(data)\n",
    "\n",
    "# Zpracování dat\n",
    "data['date'] = data['date'].astype(str)\n",
    "data['datum'] = data['date'].str.replace('1888-0', '1999-1').str.replace('2099-13', '2019-1')\n",
    "\n",
    "# Zobrazíme několik prvních řádků upravených dat\n",
    "print(\"\\nUpravená data:\")\n",
    "print(data.head())\n",
    "\n",
    "# Krok pro vyhledání duplicitních řádků\n",
    "duplicates = data[data.duplicated()]\n",
    "\n",
    "# Zobrazíme duplicitní řádky\n",
    "print(\"\\nDuplicitní řádky:\")\n",
    "print(duplicates)\n",
    "\n",
    "total_duplicates = duplicates.shape[0]\n",
    "print(f\"\\nCelkový počet duplicitních řádků: {total_duplicates}\")\n"
   ]
  },
  {
   "cell_type": "markdown",
   "metadata": {},
   "source": [
    "**Deleted duplicity of date...**"
   ]
  },
  {
   "cell_type": "code",
   "execution_count": 9,
   "metadata": {},
   "outputs": [
    {
     "name": "stdout",
     "output_type": "stream",
     "text": [
      "\n",
      "numbers of raw after deleteng duplicity of date: (128520, 8)\n"
     ]
    }
   ],
   "source": [
    "data_cleaned = data.drop_duplicates()\n",
    "\n",
    "# Zobrazíme tvar datového rámce po odstranění duplicit\n",
    "print(f\"\\nnumbers of raws after deleteng duplicity of date: {data_cleaned.shape}\")\n"
   ]
  },
  {
   "cell_type": "markdown",
   "metadata": {},
   "source": [
    "**So now I will try to find any deviation, and do some corections**"
   ]
  },
  {
   "cell_type": "code",
   "execution_count": 11,
   "metadata": {},
   "outputs": [
    {
     "name": "stdout",
     "output_type": "stream",
     "text": [
      "Cleaned date:\n",
      "                 province                       product_types currency  \\\n",
      "0            SUBCARPATHIA                                 NaN      PLN   \n",
      "1                    ŁÓDŹ                                 NaN      PLN   \n",
      "2       KUYAVIA-POMERANIA                                 NaN      PLN   \n",
      "3           LOWER SILESIA                                 NaN      PLN   \n",
      "4          WARMIA-MASURIA                                 NaN      PLN   \n",
      "...                   ...                                 ...      ...   \n",
      "128498            SILESIA                                 NaN      PLN   \n",
      "128499            SILESIA                                 NaN      PLN   \n",
      "128500  KUYAVIA-POMERANIA                                 NaN      PLN   \n",
      "128501               ŁÓDŹ  beet sugar white, bagged - per 1kg      PLN   \n",
      "128502     WARMIA-MASURIA                                 NaN      PLN   \n",
      "\n",
      "        product_group_id                       product_line  value     date  \\\n",
      "0                      2          pork ham cooked - per 1kg  21.37   2013-3   \n",
      "1                      4                    bread - per 1kg    NaN   2018-2   \n",
      "2                      2    barley groats sausage - per 1kg   3.55  2019-12   \n",
      "3                      2         dressed chickens - per 1kg   6.14   2019-2   \n",
      "4                      2      Italian head cheese - per 1kg   5.63   2002-3   \n",
      "...                  ...                                ...    ...      ...   \n",
      "128498                 2   smoked bacon with ribs - per 1kg  15.95   2015-9   \n",
      "128499                 2    barley groats sausage - per 1kg   4.50   2004-8   \n",
      "128500                 2   pork  meat (raw bacon) - per 1kg  12.15  2016-11   \n",
      "128501                 3                                NaN   0.00   2012-5   \n",
      "128502                 2  boneless beef (sirloin) - per 1kg  11.87  2000-11   \n",
      "\n",
      "                                   product  \n",
      "0                pork ham cooked - per 1kg  \n",
      "1                          bread - per 1kg  \n",
      "2          barley groats sausage - per 1kg  \n",
      "3               dressed chickens - per 1kg  \n",
      "4            Italian head cheese - per 1kg  \n",
      "...                                    ...  \n",
      "128498    smoked bacon with ribs - per 1kg  \n",
      "128499     barley groats sausage - per 1kg  \n",
      "128500    pork  meat (raw bacon) - per 1kg  \n",
      "128501  beet sugar white, bagged - per 1kg  \n",
      "128502   boneless beef (sirloin) - per 1kg  \n",
      "\n",
      "[128503 rows x 8 columns]\n",
      "\n",
      "deviation from 'PLN':\n",
      "Empty DataFrame\n",
      "Columns: [province, product_types, currency, product_group_id, product_line, value, date, product]\n",
      "Index: []\n",
      "\n",
      "Whole number of deviations from 'PLN' curency: 0\n"
     ]
    }
   ],
   "source": [
    "import pandas as pd\n",
    "\n",
    "# Načtení vyčištěných dat s českými proměnnými\n",
    "data_cleaned = pd.read_csv('C:\\\\Users\\\\MartinPC\\\\Desktop\\\\Kuba kurz\\\\01_Data\\\\product_prices_cleaned.csv', sep=\";\", decimal=\".\")\n",
    "\n",
    "# Zobrazení dat\n",
    "print(\"Cleaned date:\")\n",
    "print(data_cleaned)\n",
    "\n",
    "# Krok pro vyhledání odchylek od měny \"PLN\"\n",
    "currency_deviation = data_cleaned[data_cleaned['currency'] != 'PLN']\n",
    "\n",
    "# Zobrazíme odchylky\n",
    "print(\"\\ndeviation from 'PLN':\")\n",
    "print(currency_deviation)\n",
    "\n",
    "# Pokud chcete zjistit celkový počet odchylek\n",
    "total_deviation = currency_deviation.shape[0]\n",
    "print(f\"\\nWhole number of deviations from 'PLN' curency: {total_deviation}\")\n"
   ]
  }
 ],
 "metadata": {
  "kernelspec": {
   "display_name": "base",
   "language": "python",
   "name": "python3"
  },
  "language_info": {
   "codemirror_mode": {
    "name": "ipython",
    "version": 3
   },
   "file_extension": ".py",
   "mimetype": "text/x-python",
   "name": "python",
   "nbconvert_exporter": "python",
   "pygments_lexer": "ipython3",
   "version": "3.12.4"
  }
 },
 "nbformat": 4,
 "nbformat_minor": 2
}
