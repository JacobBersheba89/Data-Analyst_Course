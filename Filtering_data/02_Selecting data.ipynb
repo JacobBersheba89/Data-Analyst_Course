{
 "cells": [
  {
   "cell_type": "markdown",
   "id": "faced-sacrifice",
   "metadata": {},
   "source": [
    "<H1><span style=\"color:lightgreen\"> Selection of data for analysis</span></H1>\n",
    "\n",
    "Answer the following questions:\n",
    "\n",
    "1. What was the average price of a carrot and pea mix per 1 kg in Poland in 2015?\n",
    "2. What was the average price of apple juice in 2016-2018 in the Masovia province?\n",
    "3. What was the average price of tomato paste in Lower Silesia Province in 2003-2015? Compared with other products does it seem reasonable to you?<br>\n",
    "\n",
    "Suggest what can be done with values equal to 0. How does this affect the results of point 3?\n",
    "\n",
    "> All the product groups needed for this task are in the **product_types** column."
   ]
  },
  {
   "cell_type": "code",
   "execution_count": 7,
   "id": "f03c72ca-d50e-4c7f-83cb-bc50362af8b7",
   "metadata": {},
   "outputs": [
    {
     "data": {
      "text/plain": [
       "array([nan, 'whole pickled cucumbers 0.9l - per 1pc.',\n",
       "       'fresh chichen egges - per 666pcs.',\n",
       "       '30% tomato concentrate - per 1kg',\n",
       "       'frozen carrot and pea mix - per 1kg',\n",
       "       'beet sugar white, bagged - per 1kg',\n",
       "       'apple juice, boxed - per 1l', 'white table salt bagged - per 1kg',\n",
       "       'natural chocolate plain - per 1kg'], dtype=object)"
      ]
     },
     "execution_count": 7,
     "metadata": {},
     "output_type": "execute_result"
    }
   ],
   "source": [
    "import pandas as pd\n",
    "data = pd.read_csv(\n",
    "                    '/Users/jeladobos/Documents/Learning/Data Analyst/5th session/Prework/01_Data/product_prices_renamed.csv', # path to the file with data (if we want to enter the name: filepath_or_buffer)\n",
    "                    sep=';',  # column separator\n",
    "                    decimal='.'  # sign separating the whole and fractional parts of a number\n",
    ")\n",
    "\n",
    "data[\"product_types\"].unique()"
   ]
  },
  {
   "cell_type": "code",
   "execution_count": 35,
   "id": "0eedd34f-9503-4923-8740-dec93b989119",
   "metadata": {},
   "outputs": [
    {
     "name": "stdout",
     "output_type": "stream",
     "text": [
      "0.46849751948972357\n"
     ]
    }
   ],
   "source": [
    "import pandas as pd\n",
    "data = pd.read_csv(\n",
    "                    '/Users/jeladobos/Documents/Learning/Data Analyst/5th session/Prework/01_Data/product_prices_renamed.csv', # path to the file with data (if we want to enter the name: filepath_or_buffer)\n",
    "                    sep=';',  # column separator\n",
    "                    decimal='.'  # sign separating the whole and fractional parts of a number\n",
    ")\n",
    "\n",
    "carrot_pea_avg_2015 = data.loc[\n",
    "    (data[\"product_types\"] == \"frozen carrot and pea mix - per 1kg\") &\n",
    "    (data[\"date\"].str.startswith(\"2015\")),\n",
    "    \"value\"\n",
    "].mean()\n",
    "\n",
    "print(carrot_pea_avg_2015)"
   ]
  },
  {
   "cell_type": "code",
   "execution_count": 49,
   "id": "793edb0a-8da7-4b46-88f9-8e438d255577",
   "metadata": {},
   "outputs": [
    {
     "name": "stdout",
     "output_type": "stream",
     "text": [
      "0.46849751948972357\n"
     ]
    }
   ],
   "source": [
    "import pandas as pd\n",
    "import datetime\n",
    "\n",
    "data = pd.read_csv(\n",
    "                    '/Users/jeladobos/Documents/Learning/Data Analyst/5th session/Prework/01_Data/product_prices_renamed.csv', # path to the file with data (if we want to enter the name: filepath_or_buffer)\n",
    "                    sep=';',  # column separator\n",
    "                    decimal='.'  # sign separating the whole and fractional parts of a number\n",
    ")\n",
    "\n",
    "data[\"date\"] = pd.to_datetime(data[\"date\"], format=\"%Y-%m\", errors=\"coerce\")\n",
    "carrot_pea_avg_2015 = data.loc[\n",
    "    (data[\"product_types\"] == \"frozen carrot and pea mix - per 1kg\") &\n",
    "    (data[\"date\"].dt.year == 2015),\n",
    "    \"value\"\n",
    "].mean()\n",
    "\n",
    "print(carrot_pea_avg_2015)"
   ]
  },
  {
   "cell_type": "code",
   "execution_count": 43,
   "id": "138bf7d4-b568-4523-8bfc-0f21a000b7c1",
   "metadata": {},
   "outputs": [
    {
     "name": "stdout",
     "output_type": "stream",
     "text": [
      "0.5227450980392156\n"
     ]
    }
   ],
   "source": [
    "import pandas as pd\n",
    "data = pd.read_csv(\n",
    "                    '/Users/jeladobos/Documents/Learning/Data Analyst/5th session/Prework/01_Data/product_prices_renamed.csv', # path to the file with data (if we want to enter the name: filepath_or_buffer)\n",
    "                    sep=';',  # column separator\n",
    "                    decimal='.'  # sign separating the whole and fractional parts of a number\n",
    ")\n",
    "\n",
    "apple_juice_avg_2016_8 = data.loc[\n",
    "    (data[\"product_types\"] == \"apple juice, boxed - per 1l\") &\n",
    "    (data[\"date\"].str.startswith(('2016', '2017', '2018'))),\n",
    "    \"value\"\n",
    "].mean()\n",
    "\n",
    "print(apple_juice_avg_2016_8)"
   ]
  },
  {
   "cell_type": "code",
   "execution_count": 53,
   "id": "95c1d660-1726-4b21-9399-e32f2b59d684",
   "metadata": {},
   "outputs": [
    {
     "name": "stdout",
     "output_type": "stream",
     "text": [
      "0.5227450980392156\n"
     ]
    }
   ],
   "source": [
    "import pandas as pd\n",
    "import datetime\n",
    "data = pd.read_csv(\n",
    "                    '/Users/jeladobos/Documents/Learning/Data Analyst/5th session/Prework/01_Data/product_prices_renamed.csv', # path to the file with data (if we want to enter the name: filepath_or_buffer)\n",
    "                    sep=';',  # column separator\n",
    "                    decimal='.'  # sign separating the whole and fractional parts of a number\n",
    ")\n",
    "data[\"date\"] = pd.to_datetime(data[\"date\"], format=\"%Y-%m\", errors=\"coerce\")\n",
    "apple_juice_avg_2016_8 = data.loc[\n",
    "    (data[\"product_types\"] == \"apple juice, boxed - per 1l\") &\n",
    "    (data[\"date\"].dt.year.isin([2016, 2017, 2018])),\n",
    "    \"value\"\n",
    "].mean()\n",
    "\n",
    "print(apple_juice_avg_2016_8)"
   ]
  },
  {
   "cell_type": "code",
   "execution_count": 57,
   "id": "54aaebad-5fe6-4392-a018-2042dd2b5dfa",
   "metadata": {},
   "outputs": [
    {
     "name": "stdout",
     "output_type": "stream",
     "text": [
      "19.435192307692304\n"
     ]
    }
   ],
   "source": [
    "import pandas as pd\n",
    "data = pd.read_csv(\n",
    "                    '/Users/jeladobos/Documents/Learning/Data Analyst/5th session/Prework/01_Data/product_prices_renamed.csv', # path to the file with data (if we want to enter the name: filepath_or_buffer)\n",
    "                    sep=';',  # column separator\n",
    "                    decimal='.'  # sign separating the whole and fractional parts of a number\n",
    ")\n",
    "\n",
    "tomato_paste_2003_16 = data.loc[\n",
    "    (data[\"product_types\"] == \"30% tomato concentrate - per 1kg\") &\n",
    "    (data[\"province\"] == \"LOWER SILESIA\") &\n",
    "    (data[\"date\"].str.startswith(tuple(str(year) for year in range(2003, 2016)))),\n",
    "    \"value\"\n",
    "].mean()\n",
    "\n",
    "print(tomato_paste_2003_16)"
   ]
  },
  {
   "cell_type": "code",
   "execution_count": 61,
   "id": "f2602446-f9a5-4262-b647-f744647f4f4d",
   "metadata": {},
   "outputs": [
    {
     "name": "stdout",
     "output_type": "stream",
     "text": [
      "19.435192307692304\n"
     ]
    }
   ],
   "source": [
    "import pandas as pd\n",
    "import datetime\n",
    "data = pd.read_csv(\n",
    "                    '/Users/jeladobos/Documents/Learning/Data Analyst/5th session/Prework/01_Data/product_prices_renamed.csv', # path to the file with data (if we want to enter the name: filepath_or_buffer)\n",
    "                    sep=';',  # column separator\n",
    "                    decimal='.'  # sign separating the whole and fractional parts of a number\n",
    ")\n",
    "data[\"date\"] = pd.to_datetime(data[\"date\"], format=\"%Y-%m\", errors=\"coerce\")\n",
    "tomato_paste_2003_16 = data.loc[\n",
    "    (data[\"product_types\"] == \"30% tomato concentrate - per 1kg\") &\n",
    "    (data[\"province\"] == \"LOWER SILESIA\") &\n",
    "    (data[\"date\"].dt.year.isin([year for year in range(2003, 2016)])),\n",
    "    \"value\"\n",
    "].mean()\n",
    "\n",
    "print(tomato_paste_2003_16)"
   ]
  }
 ],
 "metadata": {
  "kernelspec": {
   "display_name": "Python 3 (ipykernel)",
   "language": "python",
   "name": "python3"
  },
  "language_info": {
   "codemirror_mode": {
    "name": "ipython",
    "version": 3
   },
   "file_extension": ".py",
   "mimetype": "text/x-python",
   "name": "python",
   "nbconvert_exporter": "python",
   "pygments_lexer": "ipython3",
   "version": "3.12.4"
  }
 },
 "nbformat": 4,
 "nbformat_minor": 5
}
