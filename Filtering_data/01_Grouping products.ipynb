{
 "cells": [
  {
   "cell_type": "markdown",
   "id": "suburban-kernel",
   "metadata": {},
   "source": [
    "# Grouping products\n",
    "\n",
    "Using the data from the  **product_prices_cleaned.csv** file for provinces, do the following:\n",
    "\n",
    "1. What was the average monthly price of each commodity?\n",
    "1. Which product had the highest price volatility over the years?\n",
    "\n",
    "Use the **product** and **value** columns for analysis.\n",
    "\n",
    "Additionally:\n",
    "\n",
    "1. Consider whether any more assumptions are needed for the tasks.\n",
    "1. Why can this task be done only now, after cleaning the data? Do you think there are any more operations needed?"
   ]
  },
  {
   "cell_type": "code",
   "execution_count": 5,
   "id": "obvious-cleaner",
   "metadata": {},
   "outputs": [
    {
     "name": "stdout",
     "output_type": "stream",
     "text": [
      "Average monthly prices for each commodity:\n",
      "                                      product  year  month     value\n",
      "0            30% tomato concentrate - per 1kg  1999      1  3.455882\n",
      "1            30% tomato concentrate - per 1kg  1999      2  3.276471\n",
      "2            30% tomato concentrate - per 1kg  1999      3  3.051176\n",
      "3            30% tomato concentrate - per 1kg  1999      4  2.928824\n",
      "4            30% tomato concentrate - per 1kg  1999      5  3.240588\n",
      "...                                       ...   ...    ...       ...\n",
      "7554  whole pickled cucumbers 0.9l - per 1pc.  2019      8  2.107647\n",
      "7555  whole pickled cucumbers 0.9l - per 1pc.  2019      9  2.145882\n",
      "7556  whole pickled cucumbers 0.9l - per 1pc.  2019     10  1.897647\n",
      "7557  whole pickled cucumbers 0.9l - per 1pc.  2019     11  2.231176\n",
      "7558  whole pickled cucumbers 0.9l - per 1pc.  2019     12  2.045882\n",
      "\n",
      "[7559 rows x 4 columns]\n",
      "\n",
      "Product with the highest price volatility:\n",
      "product    natural chocolate plain - per 1kg\n",
      "value                               7.958616\n",
      "Name: 19, dtype: object\n"
     ]
    }
   ],
   "source": [
    "import pandas as pd\n",
    "data = pd.read_csv(\n",
    "                    '/Users/jeladobos/Documents/Learning/Data Analyst/5th session/1st Day/01_Data/product_prices_cleaned.csv', # path to the file with data (if we want to enter the name: filepath_or_buffer)\n",
    "                    sep=';',  # column separator\n",
    "                    decimal='.'  # sign separating the whole and fractional parts of a number\n",
    ")\n",
    "data['date'] = pd.to_datetime(data['date'], format='%Y-%m')\n",
    "\n",
    "data['year'] = data['date'].dt.year\n",
    "data['month'] = data['date'].dt.month\n",
    "\n",
    "avg_monthly_prices = data.groupby(['product', 'year', 'month'])['value'].mean().reset_index()\n",
    "\n",
    "print(\"Average monthly prices for each commodity:\")\n",
    "print(avg_monthly_prices)\n",
    "\n",
    "price_volatility = data.groupby('product')['value'].std().reset_index()\n",
    "\n",
    "highest_volatility_product = price_volatility.loc[price_volatility['value'].idxmax()]\n",
    "\n",
    "print(\"\\nProduct with the highest price volatility:\")\n",
    "print(highest_volatility_product)\n",
    "\n",
    "avg_monthly_prices.to_csv('/Users/jeladobos/Documents/Learning/Data Analyst/5th session/1st Day/01_Data/avg_monthly_prices.csv', sep=';', index=False)\n",
    "price_volatility.to_csv('/Users/jeladobos/Documents/Learning/Data Analyst/5th session/1st Day/01_Data/price_volatility.csv', sep=';', index=False)\n"
   ]
  },
  {
   "cell_type": "code",
   "execution_count": null,
   "id": "e01ed372-5975-489d-bbef-97766d40981d",
   "metadata": {},
   "outputs": [],
   "source": [
    "(data[\"product_types\"].notna() == data[\"product_line\"].isna()).unique()\n",
    "\n",
    "data[\"product\"] = None\n",
    "data.loc[data[\"product_line\"].notna(), \"product\"] = data[\"product_line\"]\n",
    "data.loc[data[\"product_types\"].notna(), \"product\"] = data[\"product_types\"]"
   ]
  }
 ],
 "metadata": {
  "kernelspec": {
   "display_name": "Python 3 (ipykernel)",
   "language": "python",
   "name": "python3"
  },
  "language_info": {
   "codemirror_mode": {
    "name": "ipython",
    "version": 3
   },
   "file_extension": ".py",
   "mimetype": "text/x-python",
   "name": "python",
   "nbconvert_exporter": "python",
   "pygments_lexer": "ipython3",
   "version": "3.12.4"
  }
 },
 "nbformat": 4,
 "nbformat_minor": 5
}
