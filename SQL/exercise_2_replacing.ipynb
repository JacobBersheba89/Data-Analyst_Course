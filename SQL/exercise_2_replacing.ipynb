{
 "cells": [
  {
   "cell_type": "markdown",
   "metadata": {},
   "source": [
    "# Replacing data\n",
    "\n",
    "Using Python calculate the average purchase price (`buyPrice`) of a product.\n",
    "\n",
    "To do so:\n",
    "1. Create a database connection object.\n",
    "1. Query the database for all products (the query can be narrowed down to the purchase price).\n",
    "1. In a loop, iterate all the results and sum them up.\n",
    "1. After summing up all the results, divide them by the number of rows returned.\n",
    "\n",
    "Hint:\n",
    "To get the number of returned rows you can use the `cursor` object called `rowcount`.\n",
    "```\n",
    "rows_count = my_coursor.rowcount\n",
    "```\n"
   ]
  },
  {
   "cell_type": "code",
   "execution_count": 3,
   "metadata": {},
   "outputs": [
    {
     "name": "stdout",
     "output_type": "stream",
     "text": [
      "Average Purchase Price: 54.40\n"
     ]
    }
   ],
   "source": [
    "import psycopg2\n",
    "\n",
    "try:\n",
    "    connection = psycopg2.connect(\n",
    "        user=\"postgres\",\n",
    "        password=\"********************\",\n",
    "        host=\"localhost\",\n",
    "        port=\"5432\",\n",
    "        database=\"classicmodels\"\n",
    "    )\n",
    "\n",
    "    cursor = connection.cursor()\n",
    "    cursor.execute(\"SELECT buyprice FROM products;\")\n",
    "    prices = cursor.fetchall()\n",
    "    \n",
    "    rows_count = cursor.rowcount\n",
    "    if rows_count == 0:\n",
    "        print(\"No products found.\")\n",
    "    else:\n",
    "        total_price = 0\n",
    "        for price in prices:\n",
    "            total_price += price[0]\n",
    "        \n",
    "        average_price = total_price / rows_count\n",
    "        print(f\"Average Purchase Price: {average_price:.2f}\")\n",
    "\n",
    "except Exception as e:\n",
    "    print(f\"An error occurred: {e}\")\n",
    "\n",
    "finally:\n",
    "    if connection:\n",
    "        cursor.close()\n",
    "        connection.close()"
   ]
  },
  {
   "cell_type": "code",
   "execution_count": null,
   "metadata": {},
   "outputs": [],
   "source": []
  }
 ],
 "metadata": {
  "kernelspec": {
   "display_name": "Python 3 (ipykernel)",
   "language": "python",
   "name": "python3"
  },
  "language_info": {
   "codemirror_mode": {
    "name": "ipython",
    "version": 3
   },
   "file_extension": ".py",
   "mimetype": "text/x-python",
   "name": "python",
   "nbconvert_exporter": "python",
   "pygments_lexer": "ipython3",
   "version": "3.12.4"
  }
 },
 "nbformat": 4,
 "nbformat_minor": 4
}
