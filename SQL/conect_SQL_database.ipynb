{
 "cells": [
  {
   "cell_type": "code",
   "execution_count": 6,
   "id": "42e9b018-3acb-4c8b-b5e9-2ec2f07d7ad6",
   "metadata": {},
   "outputs": [
    {
     "ename": "UndefinedTable",
     "evalue": "relation \"customers\" does not exist\nLINE 1: SELECT customerName, creditLimit FROM customers ORDER BY cre...\n                                              ^\n",
     "output_type": "error",
     "traceback": [
      "\u001b[1;31m---------------------------------------------------------------------------\u001b[0m",
      "\u001b[1;31mUndefinedTable\u001b[0m                            Traceback (most recent call last)",
      "Cell \u001b[1;32mIn[6], line 16\u001b[0m\n\u001b[0;32m     11\u001b[0m cursor \u001b[38;5;241m=\u001b[39m connection\u001b[38;5;241m.\u001b[39mcursor()\n\u001b[0;32m     13\u001b[0m query \u001b[38;5;241m=\u001b[39m \u001b[38;5;124m\"\"\"\u001b[39m\u001b[38;5;124mSELECT customerName, creditLimit FROM customers ORDER BY creditLimit DESC LIMIT 3\u001b[39m\n\u001b[0;32m     14\u001b[0m \u001b[38;5;124m\"\"\"\u001b[39m\n\u001b[1;32m---> 16\u001b[0m cursor\u001b[38;5;241m.\u001b[39mexecute(query)\n\u001b[0;32m     17\u001b[0m customers \u001b[38;5;241m=\u001b[39m cursor\u001b[38;5;241m.\u001b[39mfetchall()\n\u001b[0;32m     19\u001b[0m api_url \u001b[38;5;241m=\u001b[39m \u001b[38;5;124m\"\u001b[39m\u001b[38;5;124mhttps://api.exchangeratesapi.io/latest?base=USD&symbols=EUR,JPY,GBP\u001b[39m\u001b[38;5;124m\"\u001b[39m\n",
      "\u001b[1;31mUndefinedTable\u001b[0m: relation \"customers\" does not exist\nLINE 1: SELECT customerName, creditLimit FROM customers ORDER BY cre...\n                                              ^\n"
     ]
    }
   ],
   "source": [
    "import requests\n",
    "import psycopg2\n",
    "\n",
    "connection = psycopg2.connect(\n",
    "    host = \"localhost\",\n",
    "    database = \"classicmodels\",\n",
    "    user = \"postgres\",\n",
    "    password = \"12332587\"\n",
    ")\n",
    "\n",
    "cursor = connection.cursor()\n",
    "\n",
    "query = \"\"\"SELECT customerName, creditLimit FROM customers ORDER BY creditLimit DESC LIMIT 3\n",
    "\"\"\"\n",
    "\n",
    "cursor.execute(query)\n",
    "customers = cursor.fetchall()\n",
    "\n",
    "api_url = \"https://api.exchangeratesapi.io/latest?base=USD&symbols=EUR,JPY,GBP\"\n",
    "response = requests.get(api_url)\n",
    "\n",
    "if response.status_code == 200:\n",
    "    rates = response.json()['rates']\n",
    "    eur_rate = rates['EUR']\n",
    "    jpy_rate = rates['JPY']\n",
    "    gbp_rate = rates['GBP']\n",
    "\n",
    "    for customer in customers: \n",
    "        customer_name = customer[0]\n",
    "        credit_limit_usd = customer[1]\n",
    "\n",
    "        #convert\n",
    "        credit_limit_eur = round(credit_limit_usd * eur_rate, 2)\n",
    "        credit_limit_jpy = round(credit_limit_usd * jpy_rate, 2)\n",
    "        credit_limit_gbp = round(credit_limit_usd * gbp_rate, 2)\n",
    "\n",
    "        print(f\"{customer_name}: {credit_limit_usd:.2f} USD / {credit_limit_eur:.2f} EUR / {credit_limit_jpy:.2f} JPY / {credit_limit_gbp:.2f} GBP\")\n",
    "\n",
    "else: \n",
    "    print(\"Failed to retrieve exchange rates.\")\n",
    "\n",
    "cursor.close()\n",
    "connection.close()"
   ]
  },
  {
   "cell_type": "code",
   "execution_count": null,
   "id": "5585bc2a-7ec0-4a57-b503-6ee5a668b232",
   "metadata": {},
   "outputs": [],
   "source": []
  }
 ],
 "metadata": {
  "kernelspec": {
   "display_name": "Python 3 (ipykernel)",
   "language": "python",
   "name": "python3"
  },
  "language_info": {
   "codemirror_mode": {
    "name": "ipython",
    "version": 3
   },
   "file_extension": ".py",
   "mimetype": "text/x-python",
   "name": "python",
   "nbconvert_exporter": "python",
   "pygments_lexer": "ipython3",
   "version": "3.12.4"
  }
 },
 "nbformat": 4,
 "nbformat_minor": 5
}
